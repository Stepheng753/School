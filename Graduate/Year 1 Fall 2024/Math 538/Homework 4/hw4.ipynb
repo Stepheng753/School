{
 "cells": [
  {
   "cell_type": "markdown",
   "metadata": {},
   "source": [
    "# Homework 4"
   ]
  },
  {
   "cell_type": "markdown",
   "metadata": {},
   "source": [
    "### Problem 0\n",
    "\n",
    "Write a summary of all important formulas and definitions from these eigenvalue notes."
   ]
  },
  {
   "cell_type": "markdown",
   "metadata": {},
   "source": [
    "### Problem 1\n",
    "\n",
    "Reproduce Fig 5 of the article \"Chaos in the cubic mapping\".\n",
    "\n",
    "Note: the procedure on how to produce bifurcation diagrams, in addition of what I explained in class, it is briefly explained in the first paragraph in p18 of our textbook.\n",
    "\n",
    "<img src=\"figs/prob1.PNG\" width=\"300\" />"
   ]
  },
  {
   "cell_type": "markdown",
   "metadata": {},
   "source": [
    "### Problem 2\n",
    "\n",
    "Reproduce Fig. 2.3 (p51 of our textbook). Note that Fig. 2.3.b is with $b=-0.3$ and $a=1.5$ (and not $a=1.4$)\n",
    "\n",
    "<img src=\"figs/prob2.PNG\" width=\"600\" />"
   ]
  },
  {
   "cell_type": "markdown",
   "metadata": {},
   "source": [
    "### Problem 3\n",
    "\n",
    "Reproduce Fig. 2.10 (p61 of our textbook).\n",
    "\n",
    "<img src=\"figs/prob3.PNG\" width=\"600\" />"
   ]
  },
  {
   "cell_type": "markdown",
   "metadata": {},
   "source": [
    "### Problem 4\n",
    "\n",
    "Reproduce Fig. 2.11 (p61 of our textbook).\n",
    "\n",
    "<img src=\"figs/prob4.PNG\" width=\"400\" />"
   ]
  }
 ],
 "metadata": {
  "kernelspec": {
   "display_name": "base",
   "language": "python",
   "name": "python3"
  },
  "language_info": {
   "codemirror_mode": {
    "name": "ipython",
    "version": 3
   },
   "file_extension": ".py",
   "mimetype": "text/x-python",
   "name": "python",
   "nbconvert_exporter": "python",
   "pygments_lexer": "ipython3",
   "version": "3.11.7"
  }
 },
 "nbformat": 4,
 "nbformat_minor": 2
}
