{
 "cells": [
  {
   "cell_type": "markdown",
   "metadata": {},
   "source": [
    "## Math 538: Homework 6\n",
    "\n",
    "Stephen Giang\n",
    "\n",
    "RedID: 823184070\n",
    "\n",
    "Due: 10-24-24\n"
   ]
  },
  {
   "cell_type": "markdown",
   "metadata": {},
   "source": [
    "### Problem 1\n",
    "\n",
    "For the logistic map $f(x)=ax(1-x)$, write a program to compute the Lyapunov exponent and reproduce Fig. 6.3. Also plot (just below) the bifurcation diagram for the same $a$-window and compare/discuss both plots. Elaborate!\n"
   ]
  },
  {
   "cell_type": "markdown",
   "metadata": {},
   "source": [
    "### Problem 2\n",
    "\n",
    "Do the same for the cubic map of the extra credit of HW#03: $f(x) =ax^3 + (1-a) x$, for $a$ in $[2,4]$.\n"
   ]
  },
  {
   "cell_type": "markdown",
   "metadata": {},
   "source": [
    "### Problem 3.1\n",
    "\n",
    "Let $f_a(x) = a - x^2$, where $a$ is a constant\n",
    "\n",
    "a) Find a value $a_1$ of the parameter $a$ for which $f_a$ has exactly one fixed point.\n",
    "\n",
    "b) Describe the limit of all orbits of $f_a$ for $a < a_1$\n",
    "\n",
    "c) The map $f_a$ has an attracting fixed point for $a$ in the open interval $(a_1, a_2)$. Find $a_2$.\n",
    "\n",
    "d) The map $f_a$ has an attracting period-two point for $a$ in the open interval $(a_2, a_3)$. Find $a_3$.\n",
    "\n",
    "e) Describe the dynamics of $f_a$ for $a = 2$.\n"
   ]
  },
  {
   "cell_type": "markdown",
   "metadata": {},
   "source": [
    "### Solution 3.1\n"
   ]
  },
  {
   "cell_type": "markdown",
   "metadata": {},
   "source": [
    "### Problem 3.3\n",
    "\n",
    "a) Find a conjugacy $C$ between $G(x) = 4x(1 - x)$ and $g(x) = 2 - x^2$.\n",
    "\n",
    "b) Show that $g(x)$ has chaotic orbits.\n"
   ]
  },
  {
   "cell_type": "markdown",
   "metadata": {},
   "source": [
    "### Solution 3.3\n"
   ]
  },
  {
   "cell_type": "markdown",
   "metadata": {},
   "source": [
    "### Problem 3.4\n",
    "\n",
    "Show that $g(x) = 2.5x(1 - x)$ has no chaotic orbits.\n"
   ]
  },
  {
   "cell_type": "markdown",
   "metadata": {},
   "source": [
    "### Solution 3.4\n"
   ]
  },
  {
   "cell_type": "markdown",
   "metadata": {},
   "source": [
    "### Problem 3.15\n",
    "\n",
    "a) A perfect shuffle is performed by dividing a 52-card deck in half,\n",
    "and interleaving the halves, so that the cards from the top half alternate with the\n",
    "cards from the bottom half. The top card stays on top, and so it and the bottom\n",
    "card are fixed by this operation. Show that 8 perfect shuffles return the deck to its\n",
    "original order. [Hint: Number the original card order from 0 to 51. Then a perfect\n",
    "shuffle can be expressed as the map\n",
    "\n",
    "$$\n",
    "f(n) = \\begin{cases}\n",
    "    2n & \\text{ if } 0 \\leq n \\leq 25 \\\\\n",
    "    2n - 51 & \\text{ if } 26 \\leq n \\leq 51\n",
    "\\end{cases}\n",
    "$$\n",
    "\n",
    "The goal is to show that all integers are fixed points under $f^8$.\n",
    "First show that $f^8(n) = 28n - 51k$ for some integer $k$, where $k$ may be different for different $n$.]\n",
    "Caution: when demonstrating at actual parties, be sure to remove the jokers first! If the deck consists of 54 cards, then 52 perfect shuffles are required.\n",
    "\n",
    "b) If the bottom card 51 is ignored (it is fixed by the map anyway), the\n",
    "above map is $f(x) = 2x $(mod $51$), where we now consider $x$ to be a real number.\n",
    "Nonperiodic orbits have Lyapunov number equal to 2, yet every integer point is\n",
    "periodic with period a divisor of 8. Sharkovskii’s Theorem shows that it is typical for\n",
    "chaotic maps to contain many periodic orbits. Find all possible periods for periodic\n",
    "orbits for this map on the interval $[0, 51]$.\n"
   ]
  },
  {
   "cell_type": "markdown",
   "metadata": {},
   "source": [
    "### Solution 3.15\n"
   ]
  }
 ],
 "metadata": {
  "language_info": {
   "name": "python"
  }
 },
 "nbformat": 4,
 "nbformat_minor": 2
}
