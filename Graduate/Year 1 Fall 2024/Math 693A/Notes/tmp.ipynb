{
 "cells": [
  {
   "cell_type": "code",
   "execution_count": 1,
   "metadata": {},
   "outputs": [
    {
     "name": "stdout",
     "output_type": "stream",
     "text": [
      "[[2 1]\n",
      " [1 2]]\n",
      "[[1.     1.    ]\n",
      " [1.     1.0001]]\n",
      "2.999999999999999\n",
      "40002.000074915224\n",
      "[[ 0.66666667 -0.33333333]\n",
      " [-0.33333333  0.66666667]]\n",
      "[[ 10001. -10000.]\n",
      " [-10000.  10000.]]\n",
      "3.333333333333334\n",
      "40002.00010000441\n"
     ]
    }
   ],
   "source": [
    "import numpy as np\n",
    "\n",
    "A = np.array([[2, 1], [1, 2]])\n",
    "print(A)\n",
    "\n",
    "B = np.array([[1, 1], [1, 1.0001]])\n",
    "print(B)\n",
    "\n",
    "cond_A = np.linalg.cond(A)\n",
    "print(cond_A)\n",
    "\n",
    "cond_B = np.linalg.cond(B)\n",
    "print(cond_B)\n",
    "\n",
    "invA = np.linalg.inv(A)\n",
    "print(invA)\n",
    "\n",
    "invB = np.linalg.inv(B)\n",
    "print(invB)\n",
    "\n",
    "print(np.linalg.norm(A) * np.linalg.norm(invA))\n",
    "print(np.linalg.norm(B) * np.linalg.norm(invB))\n"
   ]
  }
 ],
 "metadata": {
  "kernelspec": {
   "display_name": "base",
   "language": "python",
   "name": "python3"
  },
  "language_info": {
   "codemirror_mode": {
    "name": "ipython",
    "version": 3
   },
   "file_extension": ".py",
   "mimetype": "text/x-python",
   "name": "python",
   "nbconvert_exporter": "python",
   "pygments_lexer": "ipython3",
   "version": "3.11.7"
  }
 },
 "nbformat": 4,
 "nbformat_minor": 2
}
