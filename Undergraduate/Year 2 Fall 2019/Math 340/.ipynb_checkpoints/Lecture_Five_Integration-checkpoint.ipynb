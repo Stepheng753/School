{
 "cells": [
  {
   "cell_type": "code",
   "execution_count": 1,
   "metadata": {},
   "outputs": [],
   "source": [
    "import numpy as np\n",
    "import matplotlib.pyplot as plt\n",
    "%matplotlib inline"
   ]
  },
  {
   "cell_type": "markdown",
   "metadata": {},
   "source": [
    "# Numerical Quadrature\n",
    "\n",
    "Okay, so now we are going to get into one of the biggest reasons we do math on computers, and that is to numerically compute integrals.  What we are attempting to do then is, for a given function $f(x)$, find approximations to \n",
    "\n",
    "$$\n",
    "T_{[a,b]}(f) = \\int_{a}^{b}f(x) dx.\n",
    "$$\n",
    "\n",
    "To do this, we first need to introduce the notion of a mesh $\\left\\{x_{i}\\right\\}_{j=0}^{N}$ where\n",
    "\n",
    "$$\n",
    "x_{0} =a, ~ x_{N} = b, ~ x_{i+1}-x_{i} = \\delta x = \\frac{b-a}{N}.\n",
    "$$\n",
    "\n",
    "## The Trapezoid Method\n",
    "\n",
    "Thus, our first attempt at developing an approximation scheme will be to find approximations over intervals $[x_{i},x_{i+1}]$.  Then we will use the identity\n",
    "\n",
    "$$\n",
    "\\int_{a}^{b} f(x) dx = \\sum_{i=0}^{N-1}\\int_{x_{i}}^{x_{i+1}}f(x)dx.\n",
    "$$\n",
    "\n",
    "Now, on each interval $[x_{i},x_{i+1}]$, we now replace $f(x)$ with a straight-line approximation which connects the points $(x_{i},f(x_{i}))$ and $(x_{i+1},f(x_{i+1}))$.\n",
    "\n",
    "![trap](https://upload.wikimedia.org/wikipedia/commons/d/d1/Integration_num_trapezes_notation.svg)\n",
    "\n",
    "What we are saying here is that we make the assumption that\n",
    "\n",
    "$$\n",
    "f(x) \\approx f(x_{i}) + \\frac{(f(x_{i+1})-f(x_{i}))}{\\delta x}(x-x_{i}), ~ x\\in[x_{i},x_{i+1}].\n",
    "$$\n",
    "\n",
    "The advantage of doing this is that we can readily compute the integral of the right-hand side of our approximation.\n",
    "\n",
    "\n",
    "_Problem_: Using the approximation to the function, find an approximation to the integral of $f(x)$ over the interval $[x_{i},x_{i+1}]$.  \n",
    "\n",
    "So as we discussed in class, this is given by \n",
    "\n",
    "$$\n",
    "\\int_{x_{j}}^{x_{j+1}} f(x) dx \\approx \\frac{\\delta x}{2}\\left(f(x_{j}) + f(x_{j+1})\\right)\n",
    "$$\n",
    "\n",
    "_Problem_: Combine your approximations over each sub interval $[x_{i},x_{i+1}]$ to build an approximation for the integral of $f(x)$ on $[a,b]$.    \n",
    "\n",
    "Again, as discussed in class, this becomes \n",
    "\n",
    "$$\n",
    "\\int_{a}^{b}f(x) dx \\approx \\frac{\\delta x}{2}\\left(f(a) + f(b) + 2\\sum_{j=1}^{N-1}f(x_{j})\\right)\n",
    "$$\n",
    "\n",
    "_Problem_: Code it.  Test it."
   ]
  },
  {
   "cell_type": "code",
   "execution_count": 2,
   "metadata": {},
   "outputs": [],
   "source": [
    "def trapezoid_method(a,b,N,f):\n",
    "    Nint = int(N)\n",
    "    xvals = np.linspace(a,b,Nint + 1)    \n",
    "    fvals = f(xvals)  \n",
    "    dx = (b-a)/N\n",
    "    return (dx / 2) * (  fvals[0] + fvals [Nint] + (  2* np.sum(fvals[1:Nint])  )  ) "
   ]
  },
  {
   "cell_type": "code",
   "execution_count": 3,
   "metadata": {},
   "outputs": [],
   "source": [
    "def my_fun(xvals):\n",
    "    fvals = (np.cos(xvals))**2.\n",
    "    return fvals\n",
    "# test your code "
   ]
  },
  {
   "cell_type": "code",
   "execution_count": 4,
   "metadata": {},
   "outputs": [
    {
     "name": "stdout",
     "output_type": "stream",
     "text": [
      "3.141592653589794\n",
      "3.141592653589793\n"
     ]
    }
   ],
   "source": [
    "print(trapezoid_method(0.,2.*np.pi,100,my_fun))\n",
    "print (np.pi)"
   ]
  },
  {
   "cell_type": "markdown",
   "metadata": {},
   "source": [
    "### Error Analysis for the Trapezoid Method\n",
    "\n",
    "If we denote the approximation to $T_{[a,b]}(f)$ via the Trapezoid Method as $A_{N}(f)$, we want to figure out how the difference between these two things behaves as a function of $N$, or equivalently, $\\delta x$.  We suppose that \n",
    "\n",
    "$$\n",
    "T_{[a,b]}(f) = A_{N}(f) + C\\left(\\delta x\\right)^{p}, ~ \\delta x = \\frac{b-a}{N}.\n",
    "$$\n",
    "\n",
    "So how can we find $p$?  Well, our friend the logarithm returns since we see that \n",
    "\n",
    "$$\n",
    "\\log_{10}\\left|T_{[a,b]}(f) - A_{N}(f) \\right| = \\log_{10}C + p\\left(\\log_{10}(b-a) - \\log_{10} N \\right)\n",
    "$$\n",
    "\n",
    "Thus, if we compare the log of the error to the log of the number of intervals in our mesh, then the slope of that line should be the rate of decay, or how the error decreases as we increase the number of points in the mesh. \n",
    "\n",
    "_Problem_: Write code to find $p$.  This means you need to think of a test case for which you know the answer and then generate a series of comparisons which allow you to infer a trend.  "
   ]
  },
  {
   "cell_type": "code",
   "execution_count": 5,
   "metadata": {},
   "outputs": [],
   "source": [
    "def error_test(a,b,f):\n",
    "    tval = np.exp(b) - np.exp(a)\n",
    "    Nvals = np.array([ 1e1, 1e2, 1e3, 1e4, 1e5] )\n",
    "    Evals = np.zeros(Nvals.size)\n",
    "    for jj in range(0,Nvals.size):\n",
    "        Evals[jj] =  np.log10( np.abs(  tval - trapezoid_method( a,b,Nvals[jj] ,f ) ) )  \n",
    "    xvals = np.log10(Nvals)\n",
    "    plt.plot(xvals,Evals)\n",
    "    novals = Evals.size\n",
    "    slopes = Evals[1: ] - Evals[ :novals-1]\n",
    "    print(np.min(slopes))\n",
    "    print(np.max(slopes))\n",
    "    print(np.mean(slopes))"
   ]
  },
  {
   "cell_type": "code",
   "execution_count": 6,
   "metadata": {},
   "outputs": [
    {
     "name": "stdout",
     "output_type": "stream",
     "text": [
      "-2.000000898515366\n",
      "-1.9971883608370442\n",
      "-1.9992901722363106\n"
     ]
    },
    {
     "data": {
      "image/png": "[encoded data removed]",
      "text/plain": [
       "<Figure size 432x288 with 1 Axes>"
      ]
     },
     "metadata": {
      "needs_background": "light"
     },
     "output_type": "display_data"
    }
   ],
   "source": [
    "error_test(0. , 2.*np.pi , np.exp)"
   ]
  },
  {
   "cell_type": "markdown",
   "metadata": {
    "collapsed": true
   },
   "source": [
    "## Simpon's Method\n",
    "\n",
    "So, if lines were great, what if we used a more accurate means of approximating a function?  To do this, we will work over three mesh points, say $[x_{j},x_{j+2}]$, and then make the approximation\n",
    "\n",
    "$$\n",
    "f(x) \\approx a_{j+1}(x-x_{j+1})^{2} + b_{j+1}(x-x_{j+1}) + c_{j+1},\n",
    "$$\n",
    "\n",
    "with the interpolation requirements\n",
    "\n",
    "\\begin{align}\n",
    "y_{j+1}(x_{j}) = & f(x_{j})\\\\\n",
    "y_{j+1}(x_{j+1}) = & f(x_{j+1})\\\\\n",
    "y_{j+1}(x_{j+2}) = & f(x_{j+2})\n",
    "\\end{align}\n",
    "\n",
    "![simp](https://jeremykun.files.wordpress.com/2011/12/simpson.png?w=1800)\n",
    "\n",
    "Then, using this approximation, we approximate the integral of $f$ over $[x_{j},x_{j+2}]$ via \n",
    "\n",
    "$$\n",
    "\\int_{x_{j}}^{x_{j+2}}f(x) dx \\approx \\int_{x_{j}}^{x_{j+2}} y_{j+1}(x)dx.\n",
    "$$"
   ]
  },
  {
   "cell_type": "code",
   "execution_count": 7,
   "metadata": {},
   "outputs": [],
   "source": [
    "def simpson_method(a,b,N,f):\n",
    "    Nint = int(N)\n",
    "    xvals = np.linspace( a, b, Nint + 1 )\n",
    "    fvals = f(xvals)\n",
    "    dx = (b-a) / Nint\n",
    "    return ( dx / 3 ) * ( fvals[0] + fvals [Nint] + ( 2 * np.sum(fvals[2:Nint - 1: 2] ) )  + ( 4 * np.sum(fvals[1 : Nint : 2 ]) ) )"
   ]
  },
  {
   "cell_type": "code",
   "execution_count": 8,
   "metadata": {},
   "outputs": [
    {
     "name": "stdout",
     "output_type": "stream",
     "text": [
      "2500.0\n"
     ]
    }
   ],
   "source": [
    "def fofx(x):\n",
    "    return x**3\n",
    "\n",
    "print (simpson_method(0, 10, 10, fofx))"
   ]
  },
  {
   "cell_type": "markdown",
   "metadata": {
    "collapsed": true
   },
   "source": [
    "## Adaptive Quadrature\n",
    "\n",
    "So, as we you show in the homework, letting\n",
    "\n",
    "$$\n",
    "T_{[a,b]}(f) = \\int_{a}^{b}f(x)dx\n",
    "$$\n",
    "\n",
    "and\n",
    "\n",
    "$$\n",
    "A_{[a,b]}(f) = \\frac{(b-a)}{6}\\left(f(a) + 4f(c) + f(b)\\right), ~ c = \\frac{a+b}{2},\n",
    "$$\n",
    "\n",
    "Simpson's method gives us\n",
    "\n",
    "$$\n",
    "T_{[a,b]}(f) \\approx A_{[a,b]}(f) + C_{0}(b-a)^{5}.\n",
    "$$\n",
    "\n",
    "Note, the true story is actually a bit more complicated, and we really should write\n",
    "\n",
    "$$\n",
    "T_{[a,b]}(f) = A_{[a,b]}(f) + C_{0}(b-a)^{5} + C_{1}(b-a)^{6} + \\cdots.\n",
    "$$\n",
    "\n",
    "In this vein, if we split $T_{[a,b]}(f)$ into \n",
    "\n",
    "$$\n",
    "T_{[a,b]}(f) = T_{[a,c]}(f) + T_{[c,b]}(f), ~ c = \\frac{a+b}{2},\n",
    "$$\n",
    "\n",
    "then we we can build a better approximation by using\n",
    "\n",
    "$$\n",
    "T_{[a,b]}(f) = A_{[a,c]}(f) + A_{[c,b]}(f) + \\frac{C_{0}}{16}(b-a)^{5} + \\cdots\n",
    "$$\n",
    "\n",
    "Now, where this gets really tricky is that we can do better yet still.  Here is how.  From my new approximation, I can write\n",
    "\n",
    "$$\n",
    "16 T_{[a,b]}(f) = 16\\left(A_{[a,c]}(f) + A_{[c,b]}(f)\\right) + C_{0}(b-a)^{5} + \\cdots\n",
    "$$\n",
    "\n",
    "Using the old approximation, I get \n",
    "\n",
    "$$\n",
    "15 T_{[a,b]}(f) = 16\\left(A_{[a,c]}(f) + A_{[c,b]}(f)\\right) - A_{[a,b]}(f) + \\cdots\n",
    "$$\n",
    "\n",
    "and thus we get the new and improved approximation\n",
    "\n",
    "$$\n",
    "T_{[a,b]}(f) = \\frac{16}{15}\\left(A_{[a,c]}(f) + A_{[c,b]}(f)\\right) - \\frac{1}{15}A_{[a,b]}(f) + \\cdots\n",
    "$$\n",
    "\n",
    "So now think about that.  By building two different approximations, I am able to get a third, yet better one.  But we can also ask another kind of question.  What if \n",
    "\n",
    "$$\n",
    "\\left|\\left(A_{[a,c]}(f) + A_{[c,b]}(f)\\right) - A_{[a,b]}(f)\\right| < \\mbox{tol} ~ \\mbox{?}\n",
    "$$\n",
    "\n",
    "As in, okay, I make two approximations, one okay, one better.  But the difference between them is not so large?  Then what is the point of continuing to make smaller subdivisions of the interval when I am actually happy with what I have got?  So, how would I implement a method based on this line of thinking?  And what would it get me?  "
   ]
  },
  {
   "cell_type": "markdown",
   "metadata": {},
   "source": [
    "## A brief aside on recursion in Python\n",
    "\n",
    "While we haven't had too much use for it yet, it is worth while to see some relatively simple examples of more classic recursive programs in Python. What I mean by this is the following.  Say we wanted to compute the factorial of an integer $n$, i.e. we want to find $n!$.  Well, then we use the recursive formula\n",
    "\n",
    "$$\n",
    "n! = n(n-1)!\n",
    "$$\n",
    "\n",
    "along with the stopping criteria that $0!=1$.  In code, this looks like "
   ]
  },
  {
   "cell_type": "code",
   "execution_count": 11,
   "metadata": {},
   "outputs": [],
   "source": [
    "def r_factorial(n):\n",
    "    if n==0: # Here we implement the stopping criteria which ends the recursion.  \n",
    "        return 1\n",
    "    else: # Here, having not reached a stoppping point, we recurse\n",
    "        return n * r_factorial(n-1)"
   ]
  },
  {
   "cell_type": "code",
   "execution_count": 15,
   "metadata": {},
   "outputs": [
    {
     "name": "stdout",
     "output_type": "stream",
     "text": [
      "An example for n=6,  6! = 720\n"
     ]
    }
   ],
   "source": [
    "print(\"An example for n=6,  6! = %d\"%r_factorial(6))"
   ]
  },
  {
   "cell_type": "markdown",
   "metadata": {},
   "source": [
    "Returning then to our adaptive, recursive integration scheme, we use the skeleton below.  "
   ]
  },
  {
   "cell_type": "code",
   "execution_count": 42,
   "metadata": {},
   "outputs": [],
   "source": [
    "def adap_quad_comp(f,a,b,c,fa,fb,fc,Aab,tol,ptlst):\n",
    "#def adap_quad_comp(f,a,b,c,fa,fb,fc,Aab,tol):\n",
    "    \n",
    "    d = ( c + a ) / 2\n",
    "    e = ( b + c ) / 2 \n",
    "    ptlst.append(d)\n",
    "    ptlst.append(e)\n",
    "    fd = f(d)\n",
    "    fe = f(e)\n",
    "    dx = d-a\n",
    "    Aac = (dx / 3) * ( fa + 4*fd + fc ) \n",
    "    Acb = (dx / 3) * ( fc + 4*fe + fb ) \n",
    "    if np.abs( Aac + Acb - Aab)<=tol: \n",
    "        return (16./15.*(Aac + Acb)-Aab/15.)\n",
    "    else:\n",
    "        F1 = adap_quad_comp(f, a, c, d, fa, fc, fd, Aac, tol, ptlst)\n",
    "        F2 = adap_quad_comp(f, c, b, e, fc, fb, fe, Acb, tol, ptlst)\n",
    "        return F1 + F2"
   ]
  },
  {
   "cell_type": "code",
   "execution_count": 43,
   "metadata": {},
   "outputs": [],
   "source": [
    "def adap_quad(f,a,b,tol):\n",
    "    c = (a+b)/2.\n",
    "    fa = f(a)\n",
    "    fb = f(b) \n",
    "    fc = f(c)\n",
    "    dx = c-a\n",
    "    Aab = (dx / 3) * (fa + 4*fc + fb)\n",
    "    ptlst = [a, c, b]\n",
    "    ival = adap_quad_comp(f,a,b,c,fa,fb,fc,Aab,tol, ptlst)\n",
    "    '''\n",
    "    # Plotting commands which are not essential to understand at this time.  \n",
    "    ptlst.sort()\n",
    "    for jj in range(0,len(ptlst)):\n",
    "        fval = f(ptlst[jj])\n",
    "        if fval > 0:\n",
    "            plt.plot([ptlst[jj],ptlst[jj]],[0,fval],color='r',ls='--')\n",
    "        else:\n",
    "            plt.plot([ptlst[jj],ptlst[jj]],[fval,0],color='r',ls='--')\n",
    "    xvals = np.linspace(a,b,int(1e3))\n",
    "    yvals = f(xvals)\n",
    "    zvals = np.zeros(xvals.size)\n",
    "    plt.plot(xvals,yvals,color='k',ls='-')\n",
    "    plt.plot(xvals,zvals,color='k',ls='-')\n",
    "    '''\n",
    "    return ival"
   ]
  },
  {
   "cell_type": "code",
   "execution_count": 55,
   "metadata": {},
   "outputs": [
    {
     "name": "stdout",
     "output_type": "stream",
     "text": [
      "My True Value: 53.598150033144236\n",
      "My Approx Value: 53.598150128029374\n",
      "My Error: 0.000000001770306\n"
     ]
    }
   ],
   "source": [
    "tval = np.exp(4.) - 1\n",
    "print (\"My True Value: %2.15f\" %tval)\n",
    "aval = adap_quad(np.exp, 0., 4., 1e-4)\n",
    "print (\"My Approx Value: %2.15f\" %aval)\n",
    "error = np.abs(aval - tval) / np.abs(tval)\n",
    "print (\"My Error: %2.15f\" %error)"
   ]
  },
  {
   "cell_type": "code",
   "execution_count": 59,
   "metadata": {},
   "outputs": [
    {
     "name": "stdout",
     "output_type": "stream",
     "text": [
      "For tol = 1e-01, We get the Approx: 0.513784779911851\n",
      "For tol = 1e-02, We get the Approx: 0.496853237683802\n",
      "For tol = 1e-03, We get the Approx: 0.496917696629194\n",
      "For tol = 1e-04, We get the Approx: 0.496925374332503\n",
      "For tol = 1e-05, We get the Approx: 0.496923635211459\n",
      "For tol = 1e-06, We get the Approx: 0.496923686125069\n",
      "For tol = 1e-07, We get the Approx: 0.496923486385581\n",
      "For tol = 1e-08, We get the Approx: 0.496923486659359\n",
      "For tol = 1e-09, We get the Approx: 0.496923486694892\n",
      "For tol = 1e-10, We get the Approx: 0.496923486694449\n",
      "For tol = 1e-11, We get the Approx: 0.496923486694511\n"
     ]
    }
   ],
   "source": [
    "faq = lambda x : np.sin(x**2.)\n",
    "toli = .1\n",
    "for jj in range(11):\n",
    "    aval = adap_quad(faq,0.,3.6,toli)\n",
    "    print (\"For tol = %1.0e, We get the Approx: %2.15f\" %(toli, aval))\n",
    "    toli *= .1\n"
   ]
  },
  {
   "cell_type": "code",
   "execution_count": 33,
   "metadata": {},
   "outputs": [],
   "source": [
    "def adap_error_test(a,b,f):\n",
    "    tval = (b-a)/2. + (np.sin(2.*b)-np.sin(2.*a))/4.\n",
    "    tolvals = np.array([1e-1,1e-2,1e-3,1e-4])\n",
    "    Evals = np.zeros(tolvals.size)\n",
    "    for jj in xrange(0,tolvals.size):\n",
    "        Evals[jj] = np.log10(np.abs(tval - adap_quad(f,a,b,tolvals[jj])))\n",
    "    xvals = -np.log10(tolvals)\n",
    "    plt.plot(xvals,Evals)\n",
    "    plt.xlabel('$-log_{10}(tol)$')\n",
    "    plt.ylabel('$log_{10}(Error)$')\n",
    "    \n",
    "    novals = Evals.size\n",
    "    slopes = (Evals[1:novals]-Evals[0:novals-1])/(xvals[1:novals]-xvals[0:novals-1])\n",
    "    print(np.min(slopes))\n",
    "    print(np.max(slopes))\n",
    "    print(np.mean(slopes))"
   ]
  },
  {
   "cell_type": "code",
   "execution_count": 34,
   "metadata": {},
   "outputs": [
    {
     "ename": "NameError",
     "evalue": "name 'csq' is not defined",
     "output_type": "error",
     "traceback": [
      "\u001b[1;31m---------------------------------------------------------------------------\u001b[0m",
      "\u001b[1;31mNameError\u001b[0m                                 Traceback (most recent call last)",
      "\u001b[1;32m<ipython-input-34-3e9c231709af>\u001b[0m in \u001b[0;36m<module>\u001b[1;34m\u001b[0m\n\u001b[1;32m----> 1\u001b[1;33m \u001b[0madap_error_test\u001b[0m\u001b[1;33m(\u001b[0m\u001b[1;36m1.\u001b[0m\u001b[1;33m,\u001b[0m\u001b[1;36m2.\u001b[0m\u001b[1;33m,\u001b[0m\u001b[0mcsq\u001b[0m\u001b[1;33m)\u001b[0m\u001b[1;33m\u001b[0m\u001b[1;33m\u001b[0m\u001b[0m\n\u001b[0m",
      "\u001b[1;31mNameError\u001b[0m: name 'csq' is not defined"
     ]
    }
   ],
   "source": [
    "adap_error_test(1.,2.,csq)"
   ]
  },
  {
   "cell_type": "code",
   "execution_count": null,
   "metadata": {},
   "outputs": [],
   "source": []
  }
 ],
 "metadata": {
  "kernelspec": {
   "display_name": "Python 3",
   "language": "python",
   "name": "python3"
  },
  "language_info": {
   "codemirror_mode": {
    "name": "ipython",
    "version": 3
   },
   "file_extension": ".py",
   "mimetype": "text/x-python",
   "name": "python",
   "nbconvert_exporter": "python",
   "pygments_lexer": "ipython3",
   "version": "3.7.4"
  }
 },
 "nbformat": 4,
 "nbformat_minor": 2
}
