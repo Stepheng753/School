{
 "cells": [
  {
   "cell_type": "code",
   "execution_count": 12,
   "metadata": {},
   "outputs": [],
   "source": [
    "import numpy as np"
   ]
  },
  {
   "cell_type": "markdown",
   "metadata": {},
   "source": [
    "# Assignment 1"
   ]
  },
  {
   "cell_type": "markdown",
   "metadata": {},
   "source": [
    "\n",
    "**Problem 1** - 3 pts each:  Write the solution to the following indefinite integrals using LaTeX.  No credit will be awarded for work turned in in any other format.  Follow the model below.\n",
    "$$\n",
    "\\int \\sin(x) dx = -\\cos(x) + C\n",
    "$$\n",
    "\n",
    "<ol>\n",
    "<li>    $$\n",
    "        \\int \\cos^{2}(4x) dx\n",
    "        $$\n",
    "    \n",
    "<li>\n",
    "    $$\n",
    "    \\int \\frac{dt}{1+9t^2}\n",
    "    $$\n",
    "<li>\n",
    "    $$\n",
    "    \\int y^{n} dy\n",
    "    $$"
   ]
  },
  {
   "cell_type": "markdown",
   "metadata": {},
   "source": [
    "_Answers to Problem 1_: Write your answers in the lines below using LaTeX.\n",
    "\n",
    "1.1:   \n",
    "    $$\n",
    "   \\int \\cos^{2}(4x) dx  = \\frac{x}{2} + \\frac {\\sin(8x)}{16} + C\n",
    "    $$\n",
    "\n",
    "1.2:\n",
    "    $$\n",
    "    \\int \\frac{dt}{1+9t^2} = \\frac{1}{3} \\arctan(3t) + C\n",
    "    $$\n",
    "\n",
    "1.3:\n",
    "    $$\n",
    "    \\int y^{n} dy = \\frac {y^ {n+1}}{n+1}\n",
    "    $$\n",
    "    "
   ]
  },
  {
   "cell_type": "markdown",
   "metadata": {},
   "source": [
    "**Problem 2** - 3 pts each: Using the classic result for a geometric series that \n",
    "\n",
    "$$\n",
    "\\sum_{n=0}^{\\infty}x^{n} = \\frac{1}{1-x}, ~ \\left|x\\right|<1,\n",
    "$$\n",
    "\n",
    "find the following sums.  Use the above statement of the sum of a geometric series as a model.  Again, use LaTeX to write your answers.  No credit will be given otherwise. \n",
    "\n",
    "<ol>\n",
    "\n",
    "<li> \n",
    "$$\n",
    "\\sum_{j=0}^{\\infty} 2^{j/3}x^{5j}, ~ |x|<\\frac{1}{2^{1/15}}.\n",
    "$$\n",
    "\n",
    "<li>\n",
    "$$\n",
    "\\sum_{j=0}^{\\infty} \\cos^{3j}(x), ~ 0 < |x| < \\pi.\n",
    "$$\n",
    "\n",
    "<li>\n",
    "$$\n",
    "\\sum_{j=2}^{\\infty} e^{2jx}, ~ x<0. ~ \\mbox{(PAY ATTENTION TO THE LOWER LIMIT ON THE SUM)}\n",
    "$$\n"
   ]
  },
  {
   "cell_type": "markdown",
   "metadata": {},
   "source": [
    "_Answers to Problem 2_: Write your answers below using LaTeX.  Again, use the beginning of the problem statement of Problem 2 as a model for your answers.  \n",
    "\n",
    "2.1: \n",
    "$$\n",
    "\\sum_{j=0}^{\\infty} 2^{j/3}x^{5j}= \\frac{1}{1-2^{1/3}x^{5}}\n",
    "$$\n",
    "\n",
    "2.2:\n",
    "$$\n",
    "\\sum_{j=0}^{\\infty} \\cos^{3j}(x) = \\frac{1}{1-\\cos^{3}(x)}\n",
    "$$\n",
    "\n",
    "2.3:\n",
    "$$\n",
    "\\sum_{j=2}^{\\infty} e^{2jx} = \\frac{e^{4x}}{1-e^{2x}}\n",
    "$$"
   ]
  },
  {
   "cell_type": "markdown",
   "metadata": {},
   "source": [
    "**Problem 3** 10 pts: So, if you go ask the right kind of people, they will tell you that you can find $\\pi$ via the following limit. \n",
    "\n",
    "$$\n",
    "\\pi = \\lim_{n\\rightarrow\\infty} \\frac{4}{n^{2}}\\sum_{k=0}^{n}\\sqrt{n^{2}-k^{2}}\n",
    "$$\n",
    "\n",
    "So if I give you the following Python function "
   ]
  },
  {
   "cell_type": "code",
   "execution_count": 13,
   "metadata": {},
   "outputs": [],
   "source": [
    "def pi_approx(n):\n",
    "    tot = 0.\n",
    "    for kk in range(0,int(n)+1):\n",
    "        tot += np.sqrt(n**2.-kk**2.)\n",
    "    return 4.*tot/n**2."
   ]
  },
  {
   "cell_type": "markdown",
   "metadata": {},
   "source": [
    "using a list and a for loop as in the lecture, determine $\\pi$ to 7-correct digits.    "
   ]
  },
  {
   "cell_type": "code",
   "execution_count": null,
   "metadata": {},
   "outputs": [
    {
     "name": "stdout",
     "output_type": "stream",
     "text": [
      "pi   = 3.1416126\n",
      "pi   = 3.1415947\n",
      "pi   = 3.1415929\n",
      "pi   = 3.1415927\n"
     ]
    }
   ],
   "source": [
    "values = [1e5, 1e6, 1e7, 1e8, 1e9]\n",
    "\n",
    "for value in values:\n",
    "    print( \"pi   = %1.7f\"  %pi_approx(value)) "
   ]
  },
  {
   "cell_type": "markdown",
   "metadata": {},
   "source": [
    "_Provide a justification for your answer using the results from your code here._"
   ]
  },
  {
   "cell_type": "markdown",
   "metadata": {},
   "source": [
    "$$\n",
    "\\pi = 3.14159265359 \\approx 3.1415927\n",
    "$$\n",
    "Based off Google Calculator!"
   ]
  }
 ],
 "metadata": {
  "kernelspec": {
   "display_name": "Python 3",
   "language": "python",
   "name": "python3"
  },
  "language_info": {
   "codemirror_mode": {
    "name": "ipython",
    "version": 3
   },
   "file_extension": ".py",
   "mimetype": "text/x-python",
   "name": "python",
   "nbconvert_exporter": "python",
   "pygments_lexer": "ipython3",
   "version": "3.7.3"
  }
 },
 "nbformat": 4,
 "nbformat_minor": 2
}
