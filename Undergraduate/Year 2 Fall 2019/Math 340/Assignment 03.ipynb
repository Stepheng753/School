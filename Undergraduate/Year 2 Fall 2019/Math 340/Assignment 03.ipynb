{
 "cells": [
  {
   "cell_type": "code",
   "execution_count": 1,
   "metadata": {},
   "outputs": [],
   "source": [
    "import numpy as np\n",
    "import scipy.integrate as spqd\n",
    "import matplotlib.pyplot as plt\n",
    "%matplotlib inline"
   ]
  },
  {
   "cell_type": "markdown",
   "metadata": {},
   "source": [
    "**Problem 1** - 3 pts: So, the Binomial Theorem is one of those things that is often nice to know.  The theorem says for $n$ a positive integer that \n",
    "\n",
    "$$\n",
    "(x+y)^{n} = \\sum_{l=0}^{n}\\begin{pmatrix} n \\\\ l \\end{pmatrix} x^{l}y^{n-l}, ~ \\begin{pmatrix} n \\\\ l\\end{pmatrix} = \\frac{n!}{l!(n-l)!}.\n",
    "$$\n",
    "\n",
    "1a. Using the Binomial Theorem show\n",
    "$$\n",
    "(x+y)^{2} = x^{2} + 2xy + y^2, ~ (x+y)^{3} = x^{3} + 3x^2y + 3xy^2 + y^3\n",
    "$$\n",
    "Show all steps by way of the Binomial Theorem, i.e. do not just foil and write down the result.  \n",
    "\n",
    "1b.  Using your results above and Pascal's triangle \n",
    "![PT](https://upload.wikimedia.org/wikipedia/commons/c/ca/Pascal_triangle_small.png)\n",
    "find the expansion of \n",
    "$$\n",
    "(x+y)^{8}\n",
    "$$\n",
    "Note, if you understand how Pascal's triangle works, then this should not require much work, i.e. do not foil or use the Binomial Theorem directly.   \n",
    "\n",
    "1c. Using the pattern you see in Pascal's triangle, can you provide an explanation (not proof) for why the identity \n",
    "$$\n",
    "\\begin{pmatrix} n + 1 \\\\ l \\end{pmatrix} = \\begin{pmatrix} n \\\\ l-1 \\end{pmatrix} + \\begin{pmatrix} n \\\\ l \\end{pmatrix}\n",
    "$$\n",
    "is true?"
   ]
  },
  {
   "cell_type": "markdown",
   "metadata": {},
   "source": [
    "_Answers to Problem 1_"
   ]
  },
  {
   "cell_type": "markdown",
   "metadata": {},
   "source": [
    "1a.\n",
    "\\begin{align}\n",
    "\\left( x + y \\right)^{2} \n",
    "= & \\begin{pmatrix} 2\\\\ 0 \\end{pmatrix}x^{2}y^{0} +  \\begin{pmatrix} 2\\\\ 1 \\end{pmatrix}x^{1}y^{1} +  \\begin{pmatrix} 2\\\\ 2 \\end{pmatrix}x^{0}y^{2} \\\\\\\\\n",
    "= & 1x^{2}y^{0} + 2x^{1}y^{1}+ 1x^{0}y^{2}\\\\\\\\\n",
    "= &  x^{2} + 2xy + y^{2}\\\\\\\\\\\\\n",
    "\\left( x + y \\right)^{3} \n",
    "= &  \\begin{pmatrix} 3\\\\ 0 \\end{pmatrix}x^{3}y^{0} +   \\begin{pmatrix} 3\\\\ 1 \\end{pmatrix}x^{2}y^{1} +   \\begin{pmatrix} 3\\\\ 2 \\end{pmatrix}x^{1}y^{2} +   \\begin{pmatrix} 3\\\\ 3 \\end{pmatrix}x^{0}y^{3} \\\\\\\\\n",
    "= & 1x^{3}y^{0} + 3x^{2}y^{1} + 3x^{1}y^{2} + 1x^{0}y^{3} \\\\\\\\\n",
    "= & x^{3} + 3x^{2}y + 3xy^{2} + y^{3}\\\\\\\\\n",
    "\\end{align}"
   ]
  },
  {
   "cell_type": "markdown",
   "metadata": {},
   "source": [
    "1b.\n",
    "$$\n",
    "(x+y)^{8} = x^{8} + 8x^{7}y + 28x^{6}y^{2} + 56x^{5}y^{3} + 70x^{4}y^{4} + 56x^{3}y^{5} + 28x^{2}y^{6} + 8xy^{7} + y^{8}\\\\\\\\\n",
    "$$"
   ]
  },
  {
   "cell_type": "markdown",
   "metadata": {},
   "source": [
    "1c.\n",
    "$$\n",
    "\\begin{pmatrix} n + 1 \\\\ l \\end{pmatrix} = \\begin{pmatrix} n \\\\ l-1 \\end{pmatrix} + \\begin{pmatrix} n \\\\ l \\end{pmatrix}\\\\\n",
    "$$\n",
    "\n",
    "This means that the $l^{th}$ term in the $n^{th}$ term is found by adding the two terms directly above it on Pascal's Triangle"
   ]
  },
  {
   "cell_type": "markdown",
   "metadata": {},
   "source": [
    "**Problem 2** - 2pts each\n",
    "\n",
    "2a.  What does the Python code \n",
    "\n",
    "`print(np.linspace(0,1,11))` \n",
    "\n",
    "do?  (To answer this run the code and then briefly explain the result.)\n",
    "\n",
    "2b. What does the Python code \n",
    "\n",
    "`print(np.linspace(0,10,11))` \n",
    "\n",
    "do? (To answer this run the code and then briefly explain the result.)\n",
    "\n",
    "2c. In general then, explain what the command \n",
    "\n",
    "`np.linspace(a,b,n+1)` \n",
    "\n",
    "does for arbitrary real values $a$ and $b>a$, and positive integer value $n$.  "
   ]
  },
  {
   "cell_type": "markdown",
   "metadata": {},
   "source": [
    "_Answers to Problem 2_"
   ]
  },
  {
   "cell_type": "code",
   "execution_count": 2,
   "metadata": {},
   "outputs": [
    {
     "name": "stdout",
     "output_type": "stream",
     "text": [
      "[0.  0.1 0.2 0.3 0.4 0.5 0.6 0.7 0.8 0.9 1. ]\n"
     ]
    }
   ],
   "source": [
    "print(np.linspace(0,1,11))"
   ]
  },
  {
   "cell_type": "code",
   "execution_count": 3,
   "metadata": {},
   "outputs": [
    {
     "name": "stdout",
     "output_type": "stream",
     "text": [
      "[ 0.  1.  2.  3.  4.  5.  6.  7.  8.  9. 10.]\n"
     ]
    }
   ],
   "source": [
    "print(np.linspace(0,10,11))"
   ]
  },
  {
   "cell_type": "markdown",
   "metadata": {},
   "source": [
    "2a.\n",
    "\n",
    "`print(np.linspace(0,1,11))`\n",
    "\n",
    "This Prints out 11 evenly spaced out numbers from 0-1.  The '0' is the begin statement, the '1' is the end statement, and the '11' is the number of terms."
   ]
  },
  {
   "cell_type": "markdown",
   "metadata": {},
   "source": [
    "2b.\n",
    "\n",
    "`print(np.linspace(0,10,11))`\n",
    "\n",
    "This Prints out 11 evenly spaced out numbers from 0-10.  The '0' is the begin statement, the '1' is the end statement, and the '11' is the number of terms."
   ]
  },
  {
   "cell_type": "markdown",
   "metadata": {},
   "source": [
    "2c.\n",
    "\n",
    "`np.linspace(a,b,n+1)`\n",
    "\n",
    "This Prints out (n+1) evenly spaced out numbers from a to b."
   ]
  },
  {
   "cell_type": "markdown",
   "metadata": {},
   "source": [
    "**Problem 3**: 3pts each - So if we start with a numpy array like\n",
    "\n",
    "`\n",
    "xvals = np.linspace(0.,2.,int(1e3))\n",
    "`\n",
    "\n",
    "then if we wanted to plot $f(x)=x^2$ for $0\\leq x \\leq 2$, we would just have to write \n",
    "\n",
    "`\n",
    "yvals = xvals**2\n",
    "plt.plot(xvals,yvals)\n",
    "`\n",
    "\n",
    "This shows how using NumPy arrays allows us to do arithmetic over multiple points at a time.  \n",
    "\n",
    "3a. Plot $f(x) = x^3 + 3x^2 + 2x + 1$ over $-2\\leq x \\leq 2.1$.  Provide labels and make sure your plot window is well sized and fits the domain over which you are plotting.\n",
    "\n",
    "3b. In Python, write the command to create a NumPy array of points between and including $x=1$ and $11$ with spacing between the points equal to $.1$.  \n",
    "\n",
    "3c. What is the spacing between points in the array `np.linspace(1.3,2.4,int(5e2))`?  Note, do not just print out the points, take the difference, and report the result.  "
   ]
  },
  {
   "cell_type": "markdown",
   "metadata": {
    "collapsed": true
   },
   "source": [
    "_Answers to Problem 3_"
   ]
  },
  {
   "cell_type": "code",
   "execution_count": 4,
   "metadata": {},
   "outputs": [
    {
     "data": {
      "image/png": "[encoded data removed]",
      "text/plain": [
       "<Figure size 432x288 with 1 Axes>"
      ]
     },
     "metadata": {
      "needs_background": "light"
     },
     "output_type": "display_data"
    }
   ],
   "source": [
    "xvals = np.linspace(-2.,2.1,int(1e3))\n",
    "yvals = xvals**3 + 3*(xvals**2) + 2*xvals + 1\n",
    "plt.plot(xvals,yvals)\n",
    "\n",
    "plt.ylim(0,30)\n",
    "plt.plot(xvals,yvals,ls=\"-\", color=\"r\", label=\"$x^{3} + 3x^{2} + 2x +1$\")\n",
    "plt.legend(loc=(.1,.1))\n",
    "plt.grid(True)\n",
    "plt.show()"
   ]
  },
  {
   "cell_type": "code",
   "execution_count": 5,
   "metadata": {},
   "outputs": [
    {
     "name": "stdout",
     "output_type": "stream",
     "text": [
      "[ 1.   1.1  1.2  1.3  1.4  1.5  1.6  1.7  1.8  1.9  2.   2.1  2.2  2.3\n",
      "  2.4  2.5  2.6  2.7  2.8  2.9  3.   3.1  3.2  3.3  3.4  3.5  3.6  3.7\n",
      "  3.8  3.9  4.   4.1  4.2  4.3  4.4  4.5  4.6  4.7  4.8  4.9  5.   5.1\n",
      "  5.2  5.3  5.4  5.5  5.6  5.7  5.8  5.9  6.   6.1  6.2  6.3  6.4  6.5\n",
      "  6.6  6.7  6.8  6.9  7.   7.1  7.2  7.3  7.4  7.5  7.6  7.7  7.8  7.9\n",
      "  8.   8.1  8.2  8.3  8.4  8.5  8.6  8.7  8.8  8.9  9.   9.1  9.2  9.3\n",
      "  9.4  9.5  9.6  9.7  9.8  9.9 10.  10.1 10.2 10.3 10.4 10.5 10.6 10.7\n",
      " 10.8 10.9 11. ]\n"
     ]
    }
   ],
   "source": [
    "print(np.linspace(1.,11.,101))"
   ]
  },
  {
   "cell_type": "markdown",
   "metadata": {},
   "source": [
    "`np.linspace(1.3,2.4,int(5e2))` \n",
    "\n",
    "Spacing is the (end - begin)/(terms-1)\n",
    "= 1.1/499"
   ]
  },
  {
   "cell_type": "markdown",
   "metadata": {
    "collapsed": true
   },
   "source": [
    "**Problem 4**: For the integral\n",
    "\n",
    "$$\n",
    "I = \\int_{0}^{\\pi/3} \\sin(e^{x})dx\n",
    "$$\n",
    "\n",
    "using $I$ found from Python's built in integrating tools   "
   ]
  },
  {
   "cell_type": "code",
   "execution_count": 6,
   "metadata": {},
   "outputs": [
    {
     "name": "stdout",
     "output_type": "stream",
     "text": [
      "I=0.891489668563799\n"
     ]
    }
   ],
   "source": [
    "Iarr = spqd.quad(lambda x: np.sin(np.exp(x)), 0, np.pi/3.)\n",
    "I = Iarr[0]\n",
    "print(\"I=%1.15f\" %I)"
   ]
  },
  {
   "cell_type": "markdown",
   "metadata": {},
   "source": [
    "for reference, determine the accuracy in using \n",
    "\n",
    "a) (3pts) A two term Taylor series approximation starting at $x_{0}=0$, i.e. $T_{2}(x;x_{0}=0)$ to approximate $I$.\n",
    "\n",
    "b) (3pts) A two term Taylor series approximation starting at $x_{0}=\\frac{\\pi}{6}$, i.e. $T_{2}(x;x_{0}=\\frac{\\pi}{6})$ to approximate $I$.\n",
    "\n",
    "c) (5pts) Two different Taylor series approximations, say $T_{2}(x;x_{0}=0)$ on the interval $[0,\\pi/6]$ and \n",
    "$T_{2}(x;x_{0}=\\frac{\\pi}{6})$ on $[\\pi/6,\\pi/3]$ to approximate $I$.  \n",
    "\n",
    "Use the code in lecture to help you manage the computations and produce your results.  Show all relevant work, and provide a brief explanation at the end for which is the best approximation and why."
   ]
  },
  {
   "cell_type": "markdown",
   "metadata": {},
   "source": [
    "_Answers to Problem 4_"
   ]
  },
  {
   "cell_type": "code",
   "execution_count": 7,
   "metadata": {},
   "outputs": [],
   "source": [
    "def fofx (center):\n",
    "     return np.sin(np.exp(center))"
   ]
  },
  {
   "cell_type": "code",
   "execution_count": 8,
   "metadata": {},
   "outputs": [],
   "source": [
    "def fprime(center):\n",
    "    return np.cos(np.exp(center))*(np.exp(center))"
   ]
  },
  {
   "cell_type": "code",
   "execution_count": 9,
   "metadata": {},
   "outputs": [],
   "source": [
    "def fdoubleprime(center):\n",
    "    return (-1*np.sin(np.exp(center)))*(np.exp(2*center)) + (np.cos(np.exp(center)) * np.exp(center))"
   ]
  },
  {
   "cell_type": "code",
   "execution_count": 14,
   "metadata": {},
   "outputs": [],
   "source": [
    "def tn_approx (center, x):\n",
    "    return (fofx(center)*(x-center))  + (fprime(center) * (((x-center)**2.)/2.)) + (fdoubleprime(center) * (((x-center)**3.)/6.))"
   ]
  },
  {
   "cell_type": "code",
   "execution_count": 15,
   "metadata": {},
   "outputs": [
    {
     "data": {
      "text/plain": [
       "1.1197975322036198"
      ]
     },
     "execution_count": 15,
     "metadata": {},
     "output_type": "execute_result"
    }
   ],
   "source": [
    "tn_approx(0, (np.pi/3)) - tn_approx(0, 0)"
   ]
  },
  {
   "cell_type": "code",
   "execution_count": 16,
   "metadata": {},
   "outputs": [
    {
     "data": {
      "text/plain": [
       "0.8951326011437362"
      ]
     },
     "execution_count": 16,
     "metadata": {},
     "output_type": "execute_result"
    }
   ],
   "source": [
    "tn_approx((np.pi/6), (np.pi/3)) - tn_approx((np.pi/6), 0)"
   ]
  },
  {
   "cell_type": "code",
   "execution_count": 17,
   "metadata": {},
   "outputs": [
    {
     "data": {
      "text/plain": [
       "0.9279376381305579"
      ]
     },
     "execution_count": 17,
     "metadata": {},
     "output_type": "execute_result"
    }
   ],
   "source": [
    "(tn_approx(0, (np.pi/6)) - tn_approx(0, 0)) + ((tn_approx((np.pi/6), (np.pi/3))) - tn_approx((np.pi/6), (np.pi/6) ))"
   ]
  },
  {
   "cell_type": "markdown",
   "metadata": {},
   "source": [
    "The second approximation using the center $\\frac{\\pi}{6}$ was the most accurate because the center resides in the midpoint of the interval. This also creates a more accurate radius of convergence. "
   ]
  },
  {
   "cell_type": "code",
   "execution_count": null,
   "metadata": {},
   "outputs": [],
   "source": []
  }
 ],
 "metadata": {
  "kernelspec": {
   "display_name": "Python 3",
   "language": "python",
   "name": "python3"
  },
  "language_info": {
   "codemirror_mode": {
    "name": "ipython",
    "version": 3
   },
   "file_extension": ".py",
   "mimetype": "text/x-python",
   "name": "python",
   "nbconvert_exporter": "python",
   "pygments_lexer": "ipython3",
   "version": "3.7.4"
  }
 },
 "nbformat": 4,
 "nbformat_minor": 2
}
