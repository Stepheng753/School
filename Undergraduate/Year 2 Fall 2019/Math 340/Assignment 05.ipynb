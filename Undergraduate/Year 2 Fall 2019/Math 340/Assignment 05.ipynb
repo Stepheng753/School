{
 "cells": [
  {
   "cell_type": "code",
   "execution_count": 4,
   "metadata": {},
   "outputs": [],
   "source": [
    "import numpy as np\n",
    "import matplotlib.pyplot as plt\n",
    "from time import time\n",
    "%matplotlib inline\n",
    "from scipy.special import factorial as sfactorial\n",
    "from copy import copy"
   ]
  },
  {
   "cell_type": "markdown",
   "metadata": {},
   "source": [
    "**Problem 1**: 7 pts- Another very important class of special functions are called the _Legendre Polynomials_, say $L_{n}(x)$, which are defined for non-negative integer $n$ via the series\n",
    "\n",
    "$$\n",
    "L_{n}(x) = \\sum_{k=0}^{n}\\frac{(n+k)!}{(k!)^{2}(n-k)!}\\left(\\frac{x-1}{2}\\right)^{k}, ~ -1\\leq x \\leq 1.\n",
    "$$\n",
    "\n",
    "Using a `for`-loop, vectorized, recursive approach, write a function which computes the Legendre functions for any non-negative integer $n$ (4pts).  Make a plot showing $L_{n}(x)$ for $n=0,1,2,3,4$ simultaneously, using different colors for each different $n$.  The plot should have a legend as well as appropriately labeled axes.  (3pts)    "
   ]
  },
  {
   "cell_type": "markdown",
   "metadata": {},
   "source": [
    "_Answer to Problem 1_"
   ]
  },
  {
   "cell_type": "code",
   "execution_count": 4,
   "metadata": {},
   "outputs": [],
   "source": [
    "def Legendre ( x, n ):\n",
    "    xm1d2 = (x-1) / 2\n",
    "    an = ( sfactorial (n + 1) * (xm1d2) ) / (sfactorial(n - 1))   \n",
    "    Tn = np.ones(x.size) + an\n",
    "    if n == 0:\n",
    "        return np.ones(x.size)\n",
    "    if n == 1:\n",
    "        return Tn\n",
    "    if n >= 2:\n",
    "        for kk in range (2, n):\n",
    "            an *= ( (n + kk) * (n - kk + 1) * (xm1d2) ) / (kk ** 2)\n",
    "            Tn += an \n",
    "        return Tn"
   ]
  },
  {
   "cell_type": "code",
   "execution_count": 5,
   "metadata": {},
   "outputs": [
    {
     "name": "stderr",
     "output_type": "stream",
     "text": [
      "C:\\Users\\Stephen Giang\\Anaconda3\\lib\\site-packages\\ipykernel_launcher.py:3: RuntimeWarning: divide by zero encountered in true_divide\n",
      "  This is separate from the ipykernel package so we can avoid doing imports until\n",
      "C:\\Users\\Stephen Giang\\Anaconda3\\lib\\site-packages\\ipykernel_launcher.py:3: RuntimeWarning: invalid value encountered in true_divide\n",
      "  This is separate from the ipykernel package so we can avoid doing imports until\n"
     ]
    },
    {
     "data": {
      "text/plain": [
       "Text(0, 0.5, '$Legendre$')"
      ]
     },
     "execution_count": 5,
     "metadata": {},
     "output_type": "execute_result"
    },
    {
     "data": {
      "image/png": "[encoded data removed]",
      "text/plain": [
       "<Figure size 432x288 with 1 Axes>"
      ]
     },
     "metadata": {
      "needs_background": "light"
     },
     "output_type": "display_data"
    }
   ],
   "source": [
    "xvals = np.linspace(-1. , 1. , int(1e4))\n",
    "\n",
    "y0 =  Legendre( xvals, 0)\n",
    "y1 =  Legendre( xvals, 1)\n",
    "y2 =  Legendre( xvals, 2)\n",
    "y3 =  Legendre( xvals, 3)\n",
    "y4 =  Legendre( xvals, 4)\n",
    "\n",
    "plt.plot ( xvals , y0 , ls=\"--\", color = 'r',  label = \"$L_{0} (x) $\")\n",
    "plt.plot ( xvals , y1 , ls=\"--\", color = 'g',  label = \"$L_{1} (x) $\")\n",
    "plt.plot ( xvals , y2 , ls=\"--\", color = 'b',  label = \"$L_{2} (x) $\")\n",
    "plt.plot ( xvals , y3 , ls=\"--\", color = 'y',  label = \"$L_{3} (x) $\")\n",
    "plt.plot ( xvals , y4 , ls=\"--\", color = 'c',  label = \"$L_{4} (x) $\")\n",
    "\n",
    "plt.legend(loc=(.75 , .1))\n",
    "\n",
    "plt.xlabel('$x$')\n",
    "plt.ylabel('$Legendre$')"
   ]
  },
  {
   "cell_type": "markdown",
   "metadata": {},
   "source": [
    "**Problem 2**: 5 pts - Using a for loop based approach, write a program which finds the function $f(n)$ where \n",
    "\n",
    "$$\n",
    "f(n) = \\frac{1}{n}\\sum_{j=1}^{n} \\left(\\left(\\frac{j}{n}\\right)^{5} + 6\\left(\\frac{j}{n}\\right)^{3} \\right)\n",
    "$$\n",
    "\n",
    "for any positive integer n (2pts).  Generate a labeled plot of the results of your function for $1\\leq n \\leq 1000$, where $n$ will be on the $x$-axis, while the results of your function will appear on the $y$-axis.  Describe any trends you see from your graph. (3pts)      "
   ]
  },
  {
   "cell_type": "markdown",
   "metadata": {},
   "source": [
    "_Answer to Problem 2_"
   ]
  },
  {
   "cell_type": "code",
   "execution_count": 124,
   "metadata": {},
   "outputs": [],
   "source": [
    "def fofn (n):\n",
    "    tot = 0\n",
    "    for jj in range (1, int(n)+1):\n",
    "        jn5 = (jj/n)**5\n",
    "        jn3 = (jj/n)**3\n",
    "        tot += jn5 + (6*jn3)\n",
    "    return tot/n"
   ]
  },
  {
   "cell_type": "code",
   "execution_count": 125,
   "metadata": {},
   "outputs": [
    {
     "name": "stdout",
     "output_type": "stream",
     "text": [
      "2.4432\n"
     ]
    }
   ],
   "source": [
    "print (fofn(5))"
   ]
  },
  {
   "cell_type": "code",
   "execution_count": 126,
   "metadata": {},
   "outputs": [
    {
     "data": {
      "text/plain": [
       "Text(0, 0.5, '$f (n) $')"
      ]
     },
     "execution_count": 126,
     "metadata": {},
     "output_type": "execute_result"
    },
    {
     "data": {
      "image/png": "[encoded data removed]",
      "text/plain": [
       "<Figure size 432x288 with 1 Axes>"
      ]
     },
     "metadata": {
      "needs_background": "light"
     },
     "output_type": "display_data"
    }
   ],
   "source": [
    "nvals = np.linspace(1,1000, 1000)\n",
    "\n",
    "plt.plot ( nvals, [fofn (nval) for nval in nvals])\n",
    "\n",
    "plt.xlabel('$x$')\n",
    "plt.ylabel('$f (n) $')"
   ]
  },
  {
   "cell_type": "markdown",
   "metadata": {},
   "source": [
    "As the limit approaches 0, the graph tends towards infinity. \n",
    "Whereas the limit approaches infinity, the graph approaches 0.\n",
    "The graph is decreasing because of the (1/n) is making the graph decrease faster than the summation is making it increase."
   ]
  },
  {
   "cell_type": "markdown",
   "metadata": {},
   "source": [
    "**Problem 3**: 6 pts- Using a vectorized approach, which means no explicit for loops, write a program which finds \n",
    "\n",
    "$$\n",
    "f(n) = \\frac{1}{n}\\sum_{j=1}^{n} \\left(\\left(\\frac{j}{n}\\right)^{5} + 6\\left(\\frac{j}{n}\\right)^{3} \\right)\n",
    "$$\n",
    "\n",
    "\n",
    "for any positive integer n (3pts).  Using `time()`, run several different tests using different values of $n$ to determine how much faster your code is than that used in the previous problem.  For what value of $n$ do you finally see a significant difference in time?  Note, plots are far more preferable than just writing a particular number.  Build a case for your decision please. (3pts)    "
   ]
  },
  {
   "cell_type": "markdown",
   "metadata": {},
   "source": [
    "_Answer to Problem 3_"
   ]
  },
  {
   "cell_type": "code",
   "execution_count": 127,
   "metadata": {},
   "outputs": [],
   "source": [
    "def fofn_vec (n):    \n",
    "    jvals = np.arange(1,int(n) + 1)\n",
    "    jn5 = (jvals / n) ** 5\n",
    "    jn3 = (jvals / n) ** 3\n",
    "    tot = np.sum( jn5 + 6*jn3)\n",
    "    return tot/n"
   ]
  },
  {
   "cell_type": "code",
   "execution_count": 128,
   "metadata": {},
   "outputs": [
    {
     "name": "stdout",
     "output_type": "stream",
     "text": [
      "2.4432\n"
     ]
    }
   ],
   "source": [
    "print (fofn_vec(5))"
   ]
  },
  {
   "cell_type": "code",
   "execution_count": 129,
   "metadata": {},
   "outputs": [
    {
     "data": {
      "text/plain": [
       "[<matplotlib.lines.Line2D at 0x28b85fc6240>]"
      ]
     },
     "execution_count": 129,
     "metadata": {},
     "output_type": "execute_result"
    },
    {
     "data": {
      "image/png": "[encoded data removed]",
      "text/plain": [
       "<Figure size 432x288 with 1 Axes>"
      ]
     },
     "metadata": {
      "needs_background": "light"
     },
     "output_type": "display_data"
    }
   ],
   "source": [
    "nvals = np.linspace(1,100, 100)\n",
    "\n",
    "def runtimeFofn(n):\n",
    "    start = time()\n",
    "    fofn (n)\n",
    "    end=time()\n",
    "    runtime = end - start\n",
    "    return runtime\n",
    "\n",
    "def runtimeFofn_vec(n):\n",
    "    start = time()\n",
    "    fofn_vec (n)\n",
    "    end=time()\n",
    "    runtime = end - start\n",
    "    return runtime\n",
    "\n",
    "def runtimeFofn_diff(n):\n",
    "    return runtimeFofn_vec(n) - runtimeFofn(n)\n",
    "\n",
    "plt.plot(nvals, [runtimeFofn_diff(nval) for nval in nvals])"
   ]
  },
  {
   "cell_type": "markdown",
   "metadata": {},
   "source": [
    "I plotted the Difference in times from my vec function to my nonvec function.  I can clearly see the difference in times and speeds.  Plotting it makes it easier than plugging in points "
   ]
  },
  {
   "cell_type": "markdown",
   "metadata": {},
   "source": [
    "**Problem 4**: We can generalize the Fibonacci sequence so that we have the recurrence relationship\n",
    "\n",
    "$$\n",
    "p_{n} = p_{n-1} + ap_{n-2}, ~ a \\in \\mathbb{R}, ~ n\\geq 2,\n",
    "$$\n",
    "\n",
    "where we start the sequence $p_{n}$ with the initial conditions\n",
    "\n",
    "$$\n",
    "p_{0} = s_{0}, ~ p_{1} = s_{1}, ~ s_{j} \\in \\mathbb{R}.\n",
    "$$\n",
    "\n",
    "4a) (3pts) Using the guess $p_{n} = \\lambda^{n}$, show that you get two solutions for $\\lambda$, say $\\lambda_{\\pm}$, where\n",
    "\n",
    "$$\n",
    "\\lambda_{\\pm} = \\frac{1}{2}\\left(1\\pm\\sqrt{1+4a} \\right)\n",
    "$$\n",
    "\n",
    "4b) (3pts) Writing the general solution as \n",
    "\n",
    "$$\n",
    "p_{n} = c_{+}\\lambda_{+}^{n} + c_{-}\\lambda_{-}^{n}\n",
    "$$\n",
    "\n",
    "show that when we take our initial conditions into account, we find that the constants $c_{+}$ and $c_{-}$ are given by \n",
    "\n",
    "$$\n",
    "c_{+} = \\frac{s_{1}-s_{0}\\lambda_{-}}{\\lambda_{+}-\\lambda_{-}}, ~ c_{-} = \\frac{s_{0}\\lambda_{+}-s_{1}}{\\lambda_{+}-\\lambda_{-}}\n",
    "$$\n",
    "\n",
    "4c) (4pts) Let $a\\geq -\\frac{1}{4}$.  \n",
    "\n",
    "- Find the range of $a$ such that \n",
    "\n",
    "$$ \n",
    "|\\lambda_{+}|\\leq 1, ~|\\lambda_{-}| < 1\n",
    "$$\n",
    "    \n",
    "- Find the range of $a$ such that \n",
    "\n",
    "$$ \n",
    "|\\lambda_{+}|> 1, ~|\\lambda_{-}| \\leq 1\n",
    "$$\n",
    "\n",
    "- Find the range of $a$ such that \n",
    "\n",
    "$$ \n",
    "|\\lambda_{+}|>1, ~|\\lambda_{-}| > 1\n",
    "$$"
   ]
  },
  {
   "cell_type": "markdown",
   "metadata": {},
   "source": [
    "4a. \n",
    "\\begin{align}\n",
    "\\lambda^{n} = & \\lambda^{n-1} + a\\lambda^{n-2}\\\\\n",
    "\\lambda^{n} = & \\lambda^{n}\\lambda^{-1} + a\\lambda^{n}\\lambda^{-2}\\\\\n",
    "\\lambda^{n} = & \\lambda^{n}\\left(\\lambda^{-1}+a\\lambda^{-2}\\right)\\\\\n",
    "1 = & \\lambda^{-1} + a\\lambda^{-2}\\\\\n",
    "\\lambda^{2} = & \\lambda + a \\\\\n",
    "0 =& \\lambda^{2} - \\lambda - a \\\\\n",
    "\\lambda_{\\pm} =& \\frac{1}{2}\\left(1\\pm\\sqrt{1+4a} \\right)\n",
    "\\end{align}"
   ]
  },
  {
   "cell_type": "markdown",
   "metadata": {},
   "source": [
    "4b.\n",
    "\n",
    "\\begin{align}\n",
    "p_{0} =& c_{+} + c_{-} = s_{0}\\\\\\\\\n",
    "p_{n} =& c_{+}\\lambda_{+}^{n} + (s_{0}-c_{+})\\lambda_{-}^{n}\\\\\\\\\n",
    "p_{1} =& c_{+}\\lambda_{+} + (s_{0}-c_{+})\\lambda_{-} = s_{1}\\\\\\\\\n",
    "& c_{+}\\lambda_{+} + s_{0}\\lambda_{-} -c_{+}\\lambda_{-} = s_{1}\\\\\\\\\n",
    "& c_{+}(\\lambda_{+} - \\lambda_{-})  = s_{1} - s_{0}\\lambda_{-}\\\\\\\\\n",
    "& c_{+} = \\frac{ s_{1} - s_{0}\\lambda_{-}}{\\lambda_{+} - \\lambda_{-} }\n",
    "\\end{align}\n"
   ]
  },
  {
   "cell_type": "markdown",
   "metadata": {},
   "source": [
    "4b. \n",
    "\\begin{align}\n",
    "p_{0} =& c_{+} + c_{-} = s_{0}\\\\\\\\\n",
    "p_{n} =& (s_{0}-c_{-})\\lambda_{+}^{n} + c_{-}\\lambda_{-}^{n}\\\\\\\\\n",
    "p_{1} =& (s_{0}-c_{-})\\lambda_{+} + c_{-}\\lambda_{-} = s_{1}\\\\\\\\\n",
    "& s_{0}\\lambda_{+} - c_{-}\\lambda_{+} +  c_{-}\\lambda_{-} = s_{1}\\\\\\\\\n",
    "& c_{-}(\\lambda_{-} - \\lambda_{+})  = s_{1} - s_{0}\\lambda_{+}\\\\\\\\\n",
    "& c_{-}(- \\lambda_{-} + \\lambda_{+})  = - s_{1} + s_{0}\\lambda_{+}\\\\\\\\\n",
    "& c_{-} = \\frac{ s_{0}\\lambda_{+} - s_{1}}{\\lambda_{+} - \\lambda_{-} }\n",
    "\\end{align}"
   ]
  },
  {
   "cell_type": "code",
   "execution_count": 39,
   "metadata": {},
   "outputs": [],
   "source": [
    "def range4ca (aa):\n",
    "    LambdaPlus = (1+ np.sqrt(1 + 4*aa)) / 2\n",
    "    LambdaMinus =  (1 - np.sqrt(1 + 4*aa)) / 2\n",
    "    if np.abs( LambdaPlus ) <= 1 and np.abs( LambdaMinus ) <= 1:\n",
    "        return aa\n",
    "    else:\n",
    "        return \"\""
   ]
  },
  {
   "cell_type": "code",
   "execution_count": 40,
   "metadata": {},
   "outputs": [
    {
     "name": "stdout",
     "output_type": "stream",
     "text": [
      "-0.25 : -0.25\n",
      "0.0 : 0.0\n",
      "0.25 : \n",
      "0.5 : \n",
      "0.75 : \n",
      "1.0 : \n",
      "1.25 : \n",
      "1.5 : \n",
      "1.75 : \n",
      "2.0 : \n"
     ]
    }
   ],
   "source": [
    "avals = np.linspace(-1/4, 2, 10 )\n",
    "for aval in avals:\n",
    "    print (f'{aval} : {range4ca(aval)}'  )"
   ]
  },
  {
   "cell_type": "code",
   "execution_count": 41,
   "metadata": {},
   "outputs": [],
   "source": [
    "def range4cb (aa):\n",
    "    LambdaPlus = (1+ np.sqrt(1 + 4*aa)) / 2\n",
    "    LambdaMinus =  (1 - np.sqrt(1 + 4*aa)) / 2\n",
    "    if np.abs( LambdaPlus ) > 1 and np.abs( LambdaMinus ) <= 1:\n",
    "        return aa\n",
    "    else:\n",
    "        return \"\""
   ]
  },
  {
   "cell_type": "code",
   "execution_count": 47,
   "metadata": {
    "scrolled": true
   },
   "outputs": [
    {
     "name": "stdout",
     "output_type": "stream",
     "text": [
      "\n",
      "\n",
      "0.25\n",
      "0.5\n",
      "0.75\n",
      "1.0\n",
      "1.25\n",
      "1.5\n",
      "1.75\n",
      "2.0\n"
     ]
    }
   ],
   "source": [
    "avals = np.linspace(-1/4, 2,10  )\n",
    "for aval in avals:\n",
    "    print (range4cb(aval) )"
   ]
  },
  {
   "cell_type": "code",
   "execution_count": 43,
   "metadata": {},
   "outputs": [],
   "source": [
    "def range4cc (aa):\n",
    "    LambdaPlus = (1+ np.sqrt(1 + 4*aa)) / 2\n",
    "    LambdaMinus =  (1 - np.sqrt(1 + 4*aa)) / 2\n",
    "    if np.abs( LambdaPlus ) > 1 and np.abs( LambdaMinus ) > 1:\n",
    "        return aa\n",
    "    else:\n",
    "        return \"\""
   ]
  },
  {
   "cell_type": "code",
   "execution_count": 45,
   "metadata": {},
   "outputs": [
    {
     "name": "stdout",
     "output_type": "stream",
     "text": [
      "\n",
      "3.0\n",
      "4.0\n",
      "5.0\n"
     ]
    }
   ],
   "source": [
    "avals = np.linspace(2, 5, 4)\n",
    "for aval in avals:\n",
    "    print (range4cc(aval)  )"
   ]
  },
  {
   "cell_type": "markdown",
   "metadata": {},
   "source": [
    "4c.  Ranges\n",
    "\n",
    "\\begin{align}\n",
    "\\frac{-1}{4} \\leq a& \\leq 0 \\\\\\\\\n",
    "0 <  a& \\leq 2 \\\\\\\\\n",
    "2 < a&\\\\\\\\\n",
    "\\end{align}"
   ]
  },
  {
   "cell_type": "markdown",
   "metadata": {},
   "source": [
    "**Problem 5**: Now let us numerically explore the results from Problem 4.  \n",
    "\n",
    "5a) (3pts) Using the skeleton-code below write a function `fib_general` which generates, for given integer value $n\\geq 2$ and real values `a`, `s0`, and `s1`, the $n+1$ array of points `pn` such that \n",
    "\n",
    "`\n",
    "pn[0] = s0, pn[1] = s1\n",
    "`\n",
    "\n",
    "and the entries in `pn` are given by the recurrence relationship from Problem 4.  \n",
    "\n",
    "5b) (3pts) Fixing $n=10$, $s_{0}=1$, $s_{1}=1$, using your results from Problem 4c, choose three values of $a$, one each from the three different ranges of values of $a$, and generate a plot of $p_{n}$ for each.  Make sure axes are appropriately labeled.  Explain how the plot confirms the results you found in Problem 4c.  \n",
    "\n",
    "5c) (2pts) Fixing $n=10$, $s_{0}=1$, $s_{1}=1$, choose $a=-1/2$ and generate a plot of $p_{n}$.  Briefly explain the results you see and how they differ from those in Problem 5b).  "
   ]
  },
  {
   "cell_type": "code",
   "execution_count": 50,
   "metadata": {},
   "outputs": [],
   "source": [
    "def fib_general (nn, s0, s1, aa):\n",
    "    pn = np.ones(int(nn) + 1)\n",
    "    if nn >= 2:\n",
    "        pn[0] = s0\n",
    "        pn[1] = s1\n",
    "        for val in range(2, int(nn) + 1):\n",
    "            pn[val] = pn[0] + aa*pn[1]\n",
    "            pn[0] = pn[1]\n",
    "            pn[1] = pn[val]\n",
    "        return pn[val]\n",
    "    elif nn == 0:\n",
    "        return s0\n",
    "    elif nn ==1:\n",
    "        return s1\n",
    "    else:\n",
    "        return null"
   ]
  },
  {
   "cell_type": "code",
   "execution_count": 123,
   "metadata": {},
   "outputs": [
    {
     "data": {
      "text/plain": [
       "Text(0.5, 1.0, '$a = -1/8$')"
      ]
     },
     "execution_count": 123,
     "metadata": {},
     "output_type": "execute_result"
    },
    {
     "data": {
      "image/png": "[encoded data removed]",
      "text/plain": [
       "<Figure size 432x288 with 1 Axes>"
      ]
     },
     "metadata": {
      "needs_background": "light"
     },
     "output_type": "display_data"
    }
   ],
   "source": [
    "nvals = np.linspace (0, 10, 11)\n",
    "\n",
    "pnval0 = [fib_general(nval, 1, 1, -1/8) for nval in nvals]\n",
    "\n",
    "plt.plot (nvals, pnval0, ls = '--')\n",
    "plt.xlabel('$n$')\n",
    "plt.ylabel('$p_{n} $')\n",
    "plt.title('$a = -1/8$')\n"
   ]
  },
  {
   "cell_type": "code",
   "execution_count": 110,
   "metadata": {
    "scrolled": true
   },
   "outputs": [
    {
     "data": {
      "text/plain": [
       "Text(0.5, 1.0, '$a = 2$')"
      ]
     },
     "execution_count": 110,
     "metadata": {},
     "output_type": "execute_result"
    },
    {
     "data": {
      "image/png": "[encoded data removed]",
      "text/plain": [
       "<Figure size 432x288 with 1 Axes>"
      ]
     },
     "metadata": {
      "needs_background": "light"
     },
     "output_type": "display_data"
    }
   ],
   "source": [
    "nvals = np.linspace (0, 10, 11)\n",
    "\n",
    "pnval2 = [fib_general(nval, 1, 1, 2) for nval in nvals]\n",
    "\n",
    "plt.plot (nvals, pnval2, ls = '--')\n",
    "plt.xlabel('$n$')\n",
    "plt.ylabel('$p_{n} $')\n",
    "plt.title('$a = 2$')"
   ]
  },
  {
   "cell_type": "code",
   "execution_count": 117,
   "metadata": {},
   "outputs": [
    {
     "data": {
      "text/plain": [
       "Text(0.5, 1.0, '$a = 5$')"
      ]
     },
     "execution_count": 117,
     "metadata": {},
     "output_type": "execute_result"
    },
    {
     "data": {
      "image/png": "[encoded data removed]",
      "text/plain": [
       "<Figure size 432x288 with 1 Axes>"
      ]
     },
     "metadata": {
      "needs_background": "light"
     },
     "output_type": "display_data"
    }
   ],
   "source": [
    "nvals = np.linspace (0, 10, 11)\n",
    "\n",
    "pnval5 = [fib_general(nval, 1, 1, 5) for nval in nvals]\n",
    "\n",
    "plt.plot (nvals, pnval5, ls = '--')\n",
    "plt.xlabel('$n$')\n",
    "plt.ylabel('$p_{n} $')\n",
    "plt.title('$a = 5$')"
   ]
  },
  {
   "cell_type": "code",
   "execution_count": 116,
   "metadata": {},
   "outputs": [
    {
     "data": {
      "text/plain": [
       "Text(0.5, 1.0, '$a = -1/2$')"
      ]
     },
     "execution_count": 116,
     "metadata": {},
     "output_type": "execute_result"
    },
    {
     "data": {
      "image/png": "[encoded data removed]",
      "text/plain": [
       "<Figure size 432x288 with 1 Axes>"
      ]
     },
     "metadata": {
      "needs_background": "light"
     },
     "output_type": "display_data"
    }
   ],
   "source": [
    "nvals = np.linspace (0, 10, 11)\n",
    "\n",
    "pnval = [fib_general(nval, 1, 1, -1/2) for nval in nvals]\n",
    "\n",
    "plt.plot (nvals, pnval, ls = '--')\n",
    "\n",
    "plt.xlabel('$n$')\n",
    "plt.ylabel('$p_{n} $')\n",
    "plt.title('$a = -1/2$')"
   ]
  },
  {
   "cell_type": "markdown",
   "metadata": {},
   "source": [
    "Because of our first range, we had Lambda Plus and Minus be less than 1, so we had a very small and decreasing sequence, decreasing due to the negative avals.\n",
    "\n",
    "Whereas, when we increased the range, the Lambda Plus and Minus became greater than 1, the sequence would become bigger and increasing.\n",
    "\n",
    "With our a = -1/2, our sequence values become negative after some nvals"
   ]
  },
  {
   "cell_type": "code",
   "execution_count": null,
   "metadata": {},
   "outputs": [],
   "source": []
  }
 ],
 "metadata": {
  "kernelspec": {
   "display_name": "Python 3",
   "language": "python",
   "name": "python3"
  },
  "language_info": {
   "codemirror_mode": {
    "name": "ipython",
    "version": 3
   },
   "file_extension": ".py",
   "mimetype": "text/x-python",
   "name": "python",
   "nbconvert_exporter": "python",
   "pygments_lexer": "ipython3",
   "version": "3.7.4"
  }
 },
 "nbformat": 4,
 "nbformat_minor": 2
}
