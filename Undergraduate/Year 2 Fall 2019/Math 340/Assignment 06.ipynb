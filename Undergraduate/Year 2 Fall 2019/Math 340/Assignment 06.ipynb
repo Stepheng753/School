{
 "cells": [
  {
   "cell_type": "code",
   "execution_count": 2,
   "metadata": {},
   "outputs": [],
   "source": [
    "import numpy as np\n",
    "import matplotlib.pyplot as plt\n",
    "from time import time\n",
    "%matplotlib inline"
   ]
  },
  {
   "cell_type": "code",
   "execution_count": 3,
   "metadata": {},
   "outputs": [],
   "source": [
    "def trl_dvsn(n):\n",
    "    \n",
    "    isprime = True\n",
    "    cnt = 2\n",
    "    \n",
    "    while isprime and cnt < n:\n",
    "        if n%cnt == 0:\n",
    "            isprime = False\n",
    "        else:\n",
    "            cnt += 1\n",
    "    \n",
    "    return isprime"
   ]
  },
  {
   "cell_type": "markdown",
   "metadata": {},
   "source": [
    "**Problem 1** (3pts for each part): As we covered in class, for a given natural number $n\\in \\mathbb{N}$, we say it is prime if its only divisors are $1$ and itself.  Otherwise, we say the number is composite.  Likewise, we have the _Fundamental Theorem of Arithmetic_, which says that for any $n\\in\\mathbb{N}$, $n$ has a prime factorization so that \n",
    "$$\n",
    "n = p_{1}^{k_{1}}\\cdots p_{j}^{k_{j}}, ~ k_{j}\\in \\mathbb{N}\n",
    "$$\n",
    "where each $p_{l}$ is prime and the decomposition is unique modulo rearranging the order of the terms.  Show\n",
    "\n",
    "* If $n$ is composite, show there is a prime factor $p_{j}$ such that $p_{j}\\leq\\sqrt{n}$.\n",
    "* If $n>6$ and $n$ is prime, show that there is some $k\\in\\mathbb{N}$ such that $n=6k+1$ or $n=6k+5$."
   ]
  },
  {
   "cell_type": "markdown",
   "metadata": {},
   "source": [
    "$1a.$\n",
    "<br>\n",
    "If n is composite, and assume $p_{j} < p_{j+1}$\n",
    "$$\n",
    "n = p_{1}^{k_{1}}\\cdots p_{j}^{k_{j}}, ~ k_{j}\\in \\mathbb{N} \\\\\n",
    "n \\geq  p_{1} ^ {\\sum_{l=1}^{j} k_{l}} \\geq p_{1}^{2} \\\\\n",
    "$$\n",
    "so...\n",
    "$$\n",
    "n \\geq  p_{1}^{2} \\\\\n",
    "\\sqrt{n} \\geq p_{1}\n",
    "$$\n",
    "Thus there is a prime factor $p_{j}$ such that the result is given\n",
    "<br>\n",
    "<br>"
   ]
  },
  {
   "cell_type": "markdown",
   "metadata": {},
   "source": [
    "$1b.$\n",
    "<br>\n",
    "Assume $n > 6$ \n",
    "<br>\n",
    "Let $k\\in\\mathbb{N}$ \n",
    "<br>\n",
    "\n",
    "$\\forall n > 6$\n",
    "\n",
    "\\begin{align}\n",
    "n =& 6k  =& 2(3k) \\\\\n",
    "n =& 6k + 1 \\\\\n",
    "n =& 6k + 2  =& 2(3k + 1)\\\\\n",
    "n =& 6k + 3  =& 3(2k + 1)\\\\\n",
    "n =& 6k + 4 =& 2(3k + 2)\\\\\n",
    "n =& 6k + 5 \\\\\n",
    "\\end{align}\n",
    "\n",
    "All Forms of $n$ have prime factorization, making it composite, except for $n = 6k + 1$ and $n = 6k + 5$\n",
    "<br>\n",
    "meaning that $n$ is prime such that $n = 6k + 1$ and $n = 6k + 5$\n"
   ]
  },
  {
   "cell_type": "markdown",
   "metadata": {
    "collapsed": true
   },
   "source": [
    "**Problem 2** (10pts): Using the code provided below and the results from Problem 1, \n",
    "\n",
    "* Implement a better test of whether a number is prime than the simple trial division algorithm provided above at the beginning of the notebook. Briefly explain the `if n>=49 and n<121` and `elif n>=121` checks as well.  (4pts)  \n",
    "\n",
    "* Develop several test cases using both the simple algorithm and your new one to make sure your new algorithm is correct.  (3pts)\n",
    "\n",
    "* For $2\\leq n \\leq 10^{5}$, compare the difference in times between your new algorithm and the simple one.  Make a semilog plot of the time differences.  Describe any trends you see from your plot.  (3pts)"
   ]
  },
  {
   "cell_type": "code",
   "execution_count": 4,
   "metadata": {},
   "outputs": [],
   "source": [
    "def bttr_trl_dvsn(n):\n",
    "    \n",
    "    isprime = True\n",
    "    nsq = np.sqrt(n)\n",
    "    \n",
    "    if n%2 == 0 or n%3 == 0 or n%5 == 0:\n",
    "        if n!=2 and n!=3 and n!=5:\n",
    "            isprime = False\n",
    "    else:\n",
    "        \n",
    "        kmax = 0\n",
    "        if n>=49 and n<121:\n",
    "            kmax = int(np.floor((nsq-1.)/6.))\n",
    "        elif n>=121:\n",
    "            kmax = int(np.floor((nsq-5.)/6.))\n",
    "        \n",
    "        if kmax > 0:\n",
    "            for kk in range(0,kmax):\n",
    "                tstnmbr = 6*(kk+1)+1\n",
    "                if n%tstnmbr == 0:\n",
    "                    isprime = False \n",
    "                    break\n",
    "                else:\n",
    "                    tstnmbr = 6*(kk+1)+5\n",
    "                    if tstnmbr <= nsq:\n",
    "                        if n%tstnmbr == 0:\n",
    "                            isprime = False \n",
    "                            break\n",
    "    \n",
    "    return isprime"
   ]
  },
  {
   "cell_type": "code",
   "execution_count": 5,
   "metadata": {},
   "outputs": [
    {
     "data": {
      "text/plain": [
       "True"
      ]
     },
     "execution_count": 5,
     "metadata": {},
     "output_type": "execute_result"
    }
   ],
   "source": [
    "bttr_trl_dvsn(67)"
   ]
  },
  {
   "cell_type": "code",
   "execution_count": 6,
   "metadata": {},
   "outputs": [
    {
     "data": {
      "text/plain": [
       "Text(0, 0.5, '$\\\\log{(Times)}$')"
      ]
     },
     "execution_count": 6,
     "metadata": {},
     "output_type": "execute_result"
    },
    {
     "data": {
      "image/png": "[encoded data removed]",
      "text/plain": [
       "<Figure size 432x288 with 1 Axes>"
      ]
     },
     "metadata": {
      "needs_background": "light"
     },
     "output_type": "display_data"
    }
   ],
   "source": [
    "nmax = int(1e5) # This will take a second to run. \n",
    "nvals = np.arange(2,nmax+1)\n",
    "nlen = nvals.size\n",
    "timesstd = np.zeros(nlen)\n",
    "timesbtr = np.zeros(nlen)\n",
    "\n",
    "for jj in range(nlen):\n",
    "    start = time()\n",
    "    trl_dvsn(jj)\n",
    "    end = time()\n",
    "    timesstd[jj] = end-start\n",
    "    \n",
    "    start  = time()\n",
    "    bttr_trl_dvsn(jj)\n",
    "    end = time() \n",
    "    timesbtr[jj] = end-start\n",
    "    \n",
    "plt.scatter(nvals,np.ma.log10(timesstd),color='k', label = \"Trl Div\")\n",
    "plt.scatter(nvals,np.ma.log10(timesbtr),color='r', label = \"Btr Trl Div\")\n",
    "plt.legend(loc=(.75 , .1))\n",
    "plt.xlabel('$n$')\n",
    "plt.ylabel('$\\log{(Times)}$')"
   ]
  },
  {
   "cell_type": "markdown",
   "metadata": {},
   "source": [
    "This shows that the better trial divison is faster by a factor about 10.  And that the time for the better trial divison is more consistent than the normal trial divison function."
   ]
  },
  {
   "cell_type": "code",
   "execution_count": null,
   "metadata": {},
   "outputs": [],
   "source": []
  }
 ],
 "metadata": {
  "kernelspec": {
   "display_name": "Python 3",
   "language": "python",
   "name": "python3"
  },
  "language_info": {
   "codemirror_mode": {
    "name": "ipython",
    "version": 3
   },
   "file_extension": ".py",
   "mimetype": "text/x-python",
   "name": "python",
   "nbconvert_exporter": "python",
   "pygments_lexer": "ipython3",
   "version": "3.7.4"
  }
 },
 "nbformat": 4,
 "nbformat_minor": 2
}
