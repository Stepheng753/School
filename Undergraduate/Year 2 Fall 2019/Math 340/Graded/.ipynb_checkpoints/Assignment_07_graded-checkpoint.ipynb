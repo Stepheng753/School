{
 "cells": [
  {
   "cell_type": "code",
   "execution_count": 1,
   "metadata": {},
   "outputs": [],
   "source": [
    "import numpy as np\n",
    "import matplotlib.pyplot as plt\n",
    "%matplotlib inline"
   ]
  },
  {
   "cell_type": "code",
   "execution_count": 2,
   "metadata": {},
   "outputs": [],
   "source": [
    "def trapezoid_method(a,b,N,f):\n",
    "    Nint = int(N)\n",
    "    xvals = np.linspace(a,b,Nint+1)\n",
    "    fvals = f(xvals)\n",
    "    dx = (b-a)/N\n",
    "    return dx/2.*(fvals[0] + fvals[Nint] + 2.*np.sum(fvals[1:Nint])) "
   ]
  },
  {
   "cell_type": "code",
   "execution_count": 3,
   "metadata": {},
   "outputs": [],
   "source": [
    "def secant_method(a,b,N,f):\n",
    "    Nint = int(N)\n",
    "    TNint = 2*Nint\n",
    "    xvals = np.linspace(a,b,TNint+1)\n",
    "    fvals = f(xvals)\n",
    "    dx = (b-a)/(2.*N)\n",
    "    return dx/3*(fvals[0] + fvals[TNint] + 2*np.sum(fvals[2:TNint-1:2]) + 4.*np.sum(fvals[1:TNint:2])) "
   ]
  },
  {
   "cell_type": "markdown",
   "metadata": {},
   "source": [
    "**Problem 1**: (2pts for each part) When we write \n",
    "    \n",
    "` \n",
    "xvals = np.linspace(a,b,int(n)+1)\n",
    "`\n",
    "\n",
    "we are generating a sequence of points $x_{j}$ such that \n",
    "\n",
    "$$\n",
    "\\mbox{xvals[j]} = x_{j}, ~ x_{j} = a + j\\delta x, ~ \\delta x = \\frac{b-a}{n}, ~ j=0,\\cdots,n.\n",
    "$$\n",
    "\n",
    "Thus, if I wanted to generate a sequence of points between $a=1$ and $b=9$ with spacing $\\delta x=.25$, then I would find \n",
    "\n",
    "$$\n",
    ".25 = \\frac{9-1}{n}\n",
    "$$\n",
    "\n",
    "so that $n = 32$.  I could then generate these points via the code\n",
    "\n",
    "`\n",
    "xvals = np.linspace(1.,9.,32 + 1)\n",
    "`\n",
    "\n",
    "Using the model, write the code which will generate\n",
    "\n",
    "1a) A sequence of points between $a=0$ and $b=10$ with spacing $\\delta x = 10^{-3}$.\n",
    "\n",
    "1b) A sequence of points between $a=2$ and $b=18$ with spacing $\\delta x = 2^{-m}$, where $m$ is a positive integer that a user would specify.  \n",
    "\n",
    "1c) From problem 1a, using array slicing, what code would I write to find the points $x_{j}$ such that $1\\leq x_{j} \\leq 9$?  Your answer should be in the form `xvals[n1:n2]` where `n1` and `n2` are two integers you must find.  \n",
    "\n",
    "1d) From problem 1b, using array slicing, what code would I write to find the points $x_{j}$ such that $6\\leq x_{j} \\leq 10$?  Your answer should be in the form `xvals[n1:n2]` where `n1` and `n2` are two integers you must find, though they will be in terms of $m$.    \n"
   ]
  },
  {
   "cell_type": "code",
   "execution_count": 13,
   "metadata": {},
   "outputs": [
    {
     "name": "stdout",
     "output_type": "stream",
     "text": [
      "10001 0.001\n",
      "[0.000e+00 1.000e-03 2.000e-03 ... 9.998e+00 9.999e+00 1.000e+01]\n",
      "8001 0.001000000000000112\n",
      "[1.    1.001 1.002 ... 8.998 8.999 9.   ]\n"
     ]
    }
   ],
   "source": [
    "#1A\n",
    "a = 0\n",
    "b = 10\n",
    "dx = 1e-3\n",
    "n = (b - a) / dx\n",
    "xvals = np.linspace(a,b,int(n) + 1)\n",
    "print(len(xvals), xvals[1]-xvals[0])\n",
    "print(xvals)\n",
    "\n",
    "#1C\n",
    "def findIndexA(a, dx, xj):\n",
    "    j = (xj - a) / dx\n",
    "    return int (j)\n",
    "\n",
    "n1 = findIndexA(0, 1e-3, 1)\n",
    "n2 = findIndexA(0, 1e-3, 9) + 1\n",
    "\n",
    "xvals = xvals[n1:n2]\n",
    "print(len(xvals), xvals[1]-xvals[0])\n",
    "print(xvals)"
   ]
  },
  {
   "cell_type": "code",
   "execution_count": 14,
   "metadata": {},
   "outputs": [
    {
     "name": "stdout",
     "output_type": "stream",
     "text": [
      "[ 2.          2.00097656  2.00195312 ... 17.99804688 17.99902344\n",
      " 18.        ]\n",
      "[ 6.          6.00097656  6.00195312 ...  9.99804688  9.99902344\n",
      " 10.        ]\n"
     ]
    }
   ],
   "source": [
    "#1B\n",
    "a = 2\n",
    "b = 18\n",
    "m = 10#Input M  Here\n",
    "dx = 2**(-m)\n",
    "n = (b - a) / dx\n",
    "xvals = np.linspace(a,b,int(n) + 1)\n",
    "\n",
    "print(xvals)\n",
    "\n",
    "#1D\n",
    "def findIndexB(xj):\n",
    "    dx = 2**(-m)\n",
    "    j = (xj - a) / dx\n",
    "    return int (j)\n",
    "\n",
    "n1 = findIndexB(6)\n",
    "n2 = findIndexB(10) + 1\n",
    "\n",
    "print (xvals[n1:n2])"
   ]
  },
  {
   "cell_type": "markdown",
   "metadata": {},
   "source": [
    "**Problem 2**: (10 pts) A particle of mass $m$ moving through a fluid is subjected to viscous resistance $R(v)$, where $v$ is the particle's velocity.  Suppose that relationship between the resistance $R$, velocity $v$, and the time of travel is given by \n",
    "$$\n",
    "t = \\int_{v_{0}}^{v(t)} \\frac{m}{R(u)} du, \n",
    "$$\n",
    "where $v_{0} = v(0)$ is the intial velocity of the particle.  Now suppose that \n",
    "$$\n",
    "R(v) = -R_{\\infty}\\left(\\frac{2}{1 + e^{-v^2/v_{c}^{2}}}-1\\right).\n",
    "$$\n",
    "For a particle of mass $m=1 ~kg$ (kilograms), with $v_{0}=10 ~m/s$ (meters/second), and $v_{c} = 2 ~m/s$ and $R_{\\infty} = 3 ~kg ~m/s^{2}$, using the Trapezoid Method, find the approximate time necessary for the particle to slow to $v(t) = 5 ~ m/s$.\n",
    "<br>"
   ]
  },
  {
   "cell_type": "markdown",
   "metadata": {},
   "source": [
    "Using this Info and the Trapezoid Method, find t:\n",
    "$$\n",
    "t = \\int_{v_{0} = 10}^{v(t) = 5} \\frac{1}{R(u)} du, \n",
    "$$\n",
    "$$\n",
    "R(v) = -3\\left(\\frac{2}{1 + e^{-v^2/2^{2}}}-1\\right).\n",
    "$$\n"
   ]
  },
  {
   "cell_type": "code",
   "execution_count": 15,
   "metadata": {},
   "outputs": [
    {
     "data": {
      "text/plain": [
       "1.667148022151228"
      ]
     },
     "execution_count": 15,
     "metadata": {},
     "output_type": "execute_result"
    }
   ],
   "source": [
    "def timeFunction(vVals):\n",
    "    v2 = vVals**2\n",
    "    vC = 2\n",
    "    vC2 = vC**2\n",
    "    Rinf = 3\n",
    "    Rv = -Rinf * ( ( 2 / (1 + np.exp( (-v2 / vC2) ) ) ) - 1)\n",
    "    m = 1\n",
    "    return m/Rv\n",
    "\n",
    "v0 = 10\n",
    "vt = 5\n",
    "trapezoid_method(v0, vt ,1e3,timeFunction)"
   ]
  },
  {
   "cell_type": "markdown",
   "metadata": {},
   "source": [
    "**Problem 3** (20 pts): In class, we showed that Simpson's method for finding the integral \n",
    "\n",
    "$$\n",
    "T_{[a,b]}(f) = \\int_{a}^{b} f(x) dx, \n",
    "$$\n",
    "\n",
    "over a mesh $\\left\\{ x_{j} \\right\\}_{j=0}^{2N}$, $x_{j} = a + j\\delta x$, $\\delta x = (b-a)/(2N)$, is found via a series of local approximations via the formula \n",
    "\n",
    "\\begin{align*}\n",
    "\\int_{a}^{b} f(x) dx = & \\sum_{l=0}^{N-1} \\int_{x_{2l}}^{x_{2l+2}} f(x) dx \\\\\n",
    "\\approx & \\sum_{l=0}^{N-1} \\int_{x_{2l}}^{x_{2l+2}} y_{2l+1}(x;x_{2l+1}) dx \n",
    "\\end{align*}\n",
    "\n",
    "where the approximating interpolatory polynomial $y_{2l+1}(x;x_{2l+1})$ is given by \n",
    "\n",
    "$$\n",
    "y_{2l+1}(x;x_{2l+1}) = a_{2l+1}\\left(x-x_{2l+1} \\right)^{2} + b_{2l+1}\\left(x-x_{2l+1} \\right) + c_{2l+1}.\n",
    "$$\n",
    "\n",
    "The coefficients $a_{2l+1}$, $b_{2l+1}$, and $c_{2l+1}$ are found via the _interpolation_ requirements\n",
    "\n",
    "\\begin{align*}\n",
    "y_{2l+1}(x_{2l};x_{2l+1}) = & f\\left(x_{2l}\\right) = f_{2l}\\\\\n",
    "y_{2l+1}(x_{2l+1};x_{2l+1}) = & f\\left(x_{2l+1}\\right) = f_{2l+1}\\\\\n",
    "y_{2l+1}(x_{2l+2};x_{2l+1}) = & f\\left(x_{2l+2}\\right) = f_{2l+2}\\\\\n",
    "\\end{align*}\n",
    "\n",
    "* **Part a)** (5 pts) Using the above interpolatory requirements, show that \n",
    "$$\n",
    "a_{2l+1} = \\frac{1}{2(\\delta x)^{2}}\\left(f_{2l} -2f_{2l+1} + f_{2l+2} \\right), ~ b_{2l+1} = \\frac{1}{2\\delta x}\\left(f_{2l+2}-f_{2l} \\right), ~ c_{2l+1} = f_{2l+1}\n",
    "$$\n",
    "\n",
    "* **Part b)** (5 pts) Using the Taylor series expansions\n",
    "\\begin{align*}\n",
    "f_{2l} = f\\left(x_{2l+1}-\\delta x\\right) = f_{2l+1} - f'\\left(x_{2l+1}\\right)\\delta x + \\frac{1}{2}f''\\left(x_{2l+1}\\right)(\\delta x)^{2} - \\frac{1}{6}f'''\\left(x_{2l+1}\\right)(\\delta x)^{3} + C_{2l+1}(\\delta x)^{4}\\\\\n",
    "f_{2l+2} = f\\left(x_{2l+1}+\\delta x\\right) = f_{2l+1} + f'\\left(x_{2l+1}\\right)\\delta x + \\frac{1}{2}f''\\left(x_{2l+1}\\right)(\\delta x)^{2} + \\frac{1}{6}f'''\\left(x_{2l+1}\\right)(\\delta x)^{3} + \\bar{C}_{2l+1}(\\delta x)^{4}\n",
    "\\end{align*}\n",
    "show that \n",
    "\\begin{multline}\n",
    "y_{2l+1}\\left(x;x_{2l+1}\\right) = f_{2l+1} + f'\\left(x_{2l+1}\\right)\\left(x-x_{2l+1}\\right) + \\frac{f''(x_{2l+1})}{2}\\left(x-x_{2l+1}\\right)^{2} \\\\\n",
    "+ \\frac{(\\delta x)^{2}}{2}\\left(\\frac{1}{3}f'''\\left(x_{2l+1}\\right) + \\left(\\bar{C}_{2l+1}-C_{2l+1}\\right)\\delta x\\right)\\left(x-x_{2l+1}\\right) + \\frac{1}{2}\\left(C_{2l+1}+\\bar{C}_{2l+1}\\right)\\left(\\delta x\\right)^{2}\\left(x-x_{2l+1}\\right)^{2}\n",
    "\\end{multline}\n",
    "\n",
    "* **Part c)** (5 pts) Using the Taylor series expansion\n",
    "$$\n",
    "f(x) = f_{2l+1} + f'\\left(x_{2l+1}\\right)\\left(x - x_{2l+1} \\right) + \\frac{1}{2}f''(x_{2l+1})\\left(x - x_{2l+1} \\right)^{2} + \\frac{1}{6}f'''(x_{2l+1})(x-x_{2l+1})^{3} + \\tilde{C}_{2l+1}\\left(x-x_{2l+1}\\right)^{4}\n",
    "$$\n",
    "show that \n",
    "\\begin{align}\n",
    "\\int_{x_{2l}}^{x_{2l+2}} \\left(f(x) - y_{2l+1}(x;x_{2l+1}) \\right) dx \n",
    "= & \\left(\\frac{2}{5}\\tilde{C}_{2l+1} - \\frac{1}{3}\\left(C_{2l+1}+\\bar{C}_{2l+1}\\right) \\right)(\\delta x)^{5}\\\\\n",
    "= & \\hat{C}_{2l+1}\\left(\\delta x \\right)^{5},\n",
    "\\end{align}\n",
    "where we use the relabeling\n",
    "$$\n",
    "\\hat{C}_{2l+1} \\equiv \\frac{2}{5}\\tilde{C}_{2l+1} - \\frac{1}{3}\\left(C_{2l+1}+\\bar{C}_{2l+1}\\right)\n",
    "$$\n",
    "\n",
    "* **Part d)** (5 pts) Letting the global Simpson's approximation be $A_{2N}(f)$ where\n",
    "\\begin{align}\n",
    "A_{2N}(f) = & \\sum_{l=0}^{N-1} \\int_{x_{2l}}^{x_{2l+2}} y_{2l+1}(x;x_{2l+1}) dx \\\\\n",
    "= &\\frac{\\delta x}{3}\\left(f_{0} + f_{2N} + 2\\sum_{l=1}^{N-1}f_{2l} + 4\\sum_{l=0}^{N-1}f_{2l+1} \\right)\n",
    "\\end{align}\n",
    "show that \n",
    "$$\n",
    "T_{[a,b]}(f) - A_{2N}(f) = \\frac{\\hat{C}_{M}}{2}(b-a)(\\delta x)^{4}\n",
    "$$\n",
    "where $\\hat{C}_{M}$ is the biggest of all the constants $\\hat{C}_{2l+1}$ (Note, technically we should have inequalities throughout all of this, but we are only telling a small fib...)"
   ]
  },
  {
   "cell_type": "markdown",
   "metadata": {},
   "source": [
    "**3A**\n",
    "\\begin{align}\n",
    "y_{2l+1}(x_{2l+1};x_{2l+1}) \n",
    "=& a_{2l+1}\\left(x_{2l+1}-x_{2l+1} \\right)^{2} + b_{2l+1}\\left(x_{2l+1}-x_{2l+1} \\right) + c_{2l+1}\\\\ \n",
    "f_{2l+1} \n",
    "=& c_{2l+1}\n",
    "\\\\\\\\\n",
    "y_{2l+1}(x_{2l};x_{2l+1}) \n",
    "=& a_{2l+1}\\left(x_{2l}-x_{2l+1} \\right)^{2} + b_{2l+1}\\left(x_{2l}-x_{2l+1} \\right) + c_{2l+1} \\\\\n",
    "=& a_{2l+1}\\left(- \\delta x \\right)^{2} + b_{2l+1}\\left(- \\delta x\\right) + c_{2l+1}\\\\ \n",
    "f_{2l} \n",
    "=& a_{2l+1}\\left( \\delta x \\right)^{2} - b_{2l+1}\\left( \\delta x\\right) + f_{2l+1}\\\\\\\\\n",
    "y_{2l+1}(x_{2l+2};x_{2l+1}) \n",
    "=& a_{2l+1}\\left(x_{2l+2}-x_{2l+1} \\right)^{2} + b_{2l+1}\\left(x_{2l+2}-x_{2l+1} \\right) + c_{2l+1} \\\\\n",
    "=& a_{2l+1}\\left( \\delta x \\right)^{2} + b_{2l+1}\\left( \\delta x\\right) + c_{2l+1}\\\\ \n",
    "f_{2l+2}\n",
    "=& a_{2l+1}\\left( \\delta x \\right)^{2} + b_{2l+1}\\left( \\delta x\\right) + f_{2l+1}\\\\\\\\\n",
    "2a_{2l+1}\\left( \\delta x \\right)^{2} + 2f_{2l+1} \n",
    "=& f_{2l} + f_{2l+2}\\\\\n",
    "a_{2l+1} \n",
    "=& \\frac{1}{2\\left( \\delta x \\right )^{2}} \\left (f_{2l} - 2f_{2l+1} + f_{2l+2} \\right)\\\\\\\\\n",
    "\\left( 2\\delta x \\right)b_{2l+1} \n",
    "=& f_{2l+2} - f_{2l}\\\\\n",
    "b_{2l+1} \n",
    "=& \\frac{1}{\\left( 2\\delta x \\right)}\\left(f_{2l+2} - f_{2l}\\right)\\\\\\\\\n",
    "c_{2l+1}\n",
    "=&f_{2l+1} \n",
    "\\end{align}"
   ]
  },
  {
   "cell_type": "markdown",
   "metadata": {},
   "source": [
    "**3B**\n",
    "\\begin{align}\n",
    "a_{2l+1}\\left(x-x_{2l+1} \\right)^{2}\n",
    "=& \\frac{1}{2(\\delta x)^{2}}\\left(f_{2l} -2f_{2l+1} + f_{2l+2} \\right )\\left(x-x_{2l+1} \\right)^{2} \\\\\n",
    "f_{2l} \n",
    "=& f_{2l+1} - f'\\left(x_{2l+1}\\right)\\delta x + \\frac{1}{2}f''\\left(x_{2l+1}\\right)(\\delta x)^{2} - \\frac{1}{6}f'''\\left(x_{2l+1}\\right)(\\delta x)^{3} + C_{2l+1}(\\delta x)^{4}\\\\\n",
    "-2f_{2l+1} \n",
    "=& -2f_{2l+1} + 0 + 0 + 0 + 0\\\\\n",
    "f_{2l+2} \n",
    "=& f_{2l+1} + f'\\left(x_{2l+1}\\right)\\delta x + \\frac{1}{2}f''\\left(x_{2l+1}\\right)(\\delta x)^{2} + \\frac{1}{6}f'''\\left(x_{2l+1}\\right)(\\delta x)^{3} + \\bar{C}_{2l+1}(\\delta x)^{4}\\\\\n",
    "a_{2l+1}\\left(x-x_{2l+1} \\right)^{2} \n",
    "=&\\frac{f''(x_{2l+1})}{2}\\left(x-x_{2l+1} \\right)^{2}  + \\frac{1}{2}\\left(\\bar{C}_{2l+1} + C_{2l+1}\\right)(\\delta x)^{2}\\left(x-x_{2l+1} \\right)^{2} \\\\\n",
    "\\\\\n",
    "b_{2l+1}\\left(x-x_{2l+1} \\right) \n",
    "=& \\frac{1}{2\\delta x}\\left(f_{2l+2}-f_{2l} \\right)\\left(x-x_{2l+1} \\right)\\\\\n",
    "f_{2l+2} \n",
    "=& f_{2l+1} + f'\\left(x_{2l+1}\\right)\\delta x + \\frac{1}{2}f''\\left(x_{2l+1}\\right)(\\delta x)^{2} + \\frac{1}{6}f'''\\left(x_{2l+1}\\right)(\\delta x)^{3} + \\bar{C}_{2l+1}(\\delta x)^{4}\\\\\n",
    "-f_{2l} \n",
    "=& -f_{2l+1} + f'\\left(x_{2l+1}\\right)\\delta x - \\frac{1}{2}f''\\left(x_{2l+1}\\right)(\\delta x)^{2} + \\frac{1}{6}f'''\\left(x_{2l+1}\\right)(\\delta x)^{3} - C_{2l+1}(\\delta x)^{4}\\\\\n",
    "b_{2l+1}\\left(x-x_{2l+1} \\right) \n",
    "=& f'\\left(x_{2l+1}\\right)\\left(x-x_{2l+1} \\right) + \\frac{(\\delta x)^{2}}{2}\\left( \\frac{1}{3}f'''\\left(x_{2l+1}\\right) + \\left( \\bar{C}_{2l+1}-C_{2l+1}\\right)(\\delta x)\\right)\\left(x-x_{2l+1} \\right) \\\\\n",
    "\\\\\n",
    "c_{2l+1}\n",
    "=& f_{2l+1}\\\\\n",
    "\\\\\n",
    "\\end{align}\n",
    "\\begin{multline}\n",
    "y_{2l+1}\\left(x;x_{2l+1}\\right) = f_{2l+1} + f'\\left(x_{2l+1}\\right)\\left(x-x_{2l+1}\\right) + \\frac{f''(x_{2l+1})}{2}\\left(x-x_{2l+1}\\right)^{2} \\\\\n",
    "+ \\frac{(\\delta x)^{2}}{2}\\left(\\frac{1}{3}f'''\\left(x_{2l+1}\\right) + \\left(\\bar{C}_{2l+1}-C_{2l+1}\\right)\\delta x\\right)\\left(x-x_{2l+1}\\right) + \\frac{1}{2}\\left(C_{2l+1}+\\bar{C}_{2l+1}\\right)\\left(\\delta x\\right)^{2}\\left(x-x_{2l+1}\\right)^{2}\n",
    "\\end{multline}"
   ]
  },
  {
   "cell_type": "markdown",
   "metadata": {},
   "source": [
    "**3C**\n",
    "\\begin{align*}\n",
    "f(x) - y_{2l+1}(x;x_2l+1) =& \\frac{1}{6}f'''(x_{2l+1})(x-x_{2l+1})(\\delta x)^{2} - \\frac{1}{6}f'''(x_{2l+1})(x-x_{2l+1})^{3}\\\\\n",
    "&+ (\\bar{C}_{2l+1} - {C}_{2l+1})\\frac{(\\delta x)^{3}}{2}(x-x_{2l+1}) + (\\bar{C}_{2l+1} + {C}_{2l+1})(\\delta x)^{2}(x-x_{2l+1})^{2} - \\tilde{C}_{2l+1}(x-x_{2l+1})^{4}\n",
    "\\\\\\\\\n",
    "\\int_{x_{2l}}^{x_{2l+2}} \\left(f(x) - y_{2l+1}(x;x_{2l+1}) \\right) dx \n",
    "=& (\\bar{C}_{2l+1} - {C}_{2l+1})\\frac{(\\delta x)^{5}}{8} + (\\bar{C}_{2l+1} + {C}_{2l+1})\\frac{(\\delta x)^{5}}{10}-\\tilde{C}_{2l+1}\\frac{(\\delta x)^{5}}{5}\\\\\n",
    "= & \\left(\\frac{2}{5}\\tilde{C}_{2l+1} - \\frac{1}{3}\\left(C_{2l+1}+\\bar{C}_{2l+1}\\right) \\right)(\\delta x)^{5}\\\\\n",
    "= & \\hat{C}_{2l+1}\\left(\\delta x \\right)^{5}\n",
    "\\end{align*}"
   ]
  },
  {
   "cell_type": "markdown",
   "metadata": {},
   "source": [
    "**-5** Missing part d?\n",
    "\n",
    "---"
   ]
  },
  {
   "cell_type": "markdown",
   "metadata": {},
   "source": [
    "**Problem 4** (10 pts): Choose an example and using the code from Lecture 5 as a model, numerically verify the error analysis we performed for Simpson's method above by generating a log/log plot and a corresponding estimate of the slope of the plotted line.  Note, you may have to use clever choices for $N$ or slicing choices in order to remove nan terms and the like from your slope estimates.  Provide a brief summary of your results.  "
   ]
  },
  {
   "cell_type": "code",
   "execution_count": 16,
   "metadata": {},
   "outputs": [],
   "source": [
    "def test_fun(xvals):\n",
    "    return np.exp(xvals)"
   ]
  },
  {
   "cell_type": "code",
   "execution_count": 17,
   "metadata": {},
   "outputs": [],
   "source": [
    "def error_test(a,b,f):\n",
    "    tval = np.exp(b) - np.exp(a)\n",
    "    Nvals = np.array([ 1e1, 1e2, 1e3, 1e4, 1e5])\n",
    "    Evals = np.zeros(Nvals.size)\n",
    "    for jj in range(0, Nvals.size):\n",
    "        Evals[jj] = np.log10( np.abs(  tval - secant_method(a, b, Nvals[jj], f)  ) )\n",
    "    xvals = np.log10(Nvals)\n",
    "    plt.plot(xvals,Evals)\n",
    "    plt.xlabel('Log(n)')\n",
    "    plt.ylabel('Error')\n",
    "    novals = Evals.size\n",
    "    slopes = Evals[1: ] - Evals[ :novals-1] \n",
    "    print (np.min(slopes))\n",
    "    print (np.max(slopes))\n",
    "    print (np.mean(slopes))"
   ]
  },
  {
   "cell_type": "code",
   "execution_count": 18,
   "metadata": {},
   "outputs": [
    {
     "name": "stdout",
     "output_type": "stream",
     "text": [
      "-4.0216646946428956\n",
      "0.17609125905568135\n",
      "-2.9581925922225016\n"
     ]
    },
    {
     "data": {
      "image/png": "[encoded data removed]",
      "text/plain": [
       "<Figure size 432x288 with 1 Axes>"
      ]
     },
     "metadata": {
      "needs_background": "light"
     },
     "output_type": "display_data"
    }
   ],
   "source": [
    "error_test(0, 10, test_fun)"
   ]
  },
  {
   "cell_type": "markdown",
   "metadata": {},
   "source": [
    "**-3** Missing summary\n",
    "\n",
    "**Total: 40/48**"
   ]
  }
 ],
 "metadata": {
  "kernelspec": {
   "display_name": "Python 3",
   "language": "python",
   "name": "python3"
  },
  "language_info": {
   "codemirror_mode": {
    "name": "ipython",
    "version": 3
   },
   "file_extension": ".py",
   "mimetype": "text/x-python",
   "name": "python",
   "nbconvert_exporter": "python",
   "pygments_lexer": "ipython3",
   "version": "3.7.3"
  }
 },
 "nbformat": 4,
 "nbformat_minor": 2
}
