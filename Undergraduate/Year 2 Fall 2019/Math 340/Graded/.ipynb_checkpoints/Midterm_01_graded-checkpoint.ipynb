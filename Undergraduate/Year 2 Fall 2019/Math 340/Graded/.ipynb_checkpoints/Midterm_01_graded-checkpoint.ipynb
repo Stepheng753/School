{
 "cells": [
  {
   "cell_type": "code",
   "execution_count": 1,
   "metadata": {},
   "outputs": [],
   "source": [
    "import numpy as np\n",
    "import matplotlib.pyplot as plt\n",
    "%matplotlib inline\n",
    "from scipy.special import factorial as sfactorial"
   ]
  },
  {
   "cell_type": "markdown",
   "metadata": {},
   "source": [
    "**Problem 1** 15pts: \n",
    "    \n",
    "1a) 3pts - In NumPy, create an array of points between $-5$ and $11.323$ with spacing $.0285$.  If you can not do this exactly, how close can you get?  \n",
    "\n",
    "1b) 3pts - Using vectorization, plot $f(x) = 3x^{4} + 3x^{2} + 2$ for $-5\\leq x \\leq 11.323$.  Make sure your graph is labeled.   \n",
    "1c) 3pts - Using vectorization in Python, find the sum \n",
    "\n",
    "$$\n",
    "\\sum_{j=0}^{n}(4j^{3} + 3j^{2} + 2)\n",
    "$$\n",
    "\n",
    "for $n=30,50$.\n",
    "\n",
    "1d) 3pts - For the integers less than 10,000, what is the sum of those numbers which are divisible by 7, 13, or 18?  \n",
    "\n",
    "1e) 3pts - For the recurrence relation\n",
    "\n",
    "$$\n",
    "p_{n} = 3p_{n-4} - 2p_{n-3} + 3p_{n-1}, ~ n\\geq 4, \n",
    "$$\n",
    "\n",
    "where \n",
    "\n",
    "$$\n",
    "p_{0}= .1, ~ p_{1}=2.1, ~ p_{2} = .235, ~ p_{3} = 0,\n",
    "$$\n",
    "\n",
    "what is $p_{n}$ for $n=5$, $10$, and $20$?"
   ]
  },
  {
   "cell_type": "markdown",
   "metadata": {},
   "source": [
    "_Answer to Problem 1_"
   ]
  },
  {
   "cell_type": "code",
   "execution_count": 2,
   "metadata": {},
   "outputs": [
    {
     "name": "stdout",
     "output_type": "stream",
     "text": [
      "True Spacing = .0285\n",
      "Linspace Attempt:  0.028536713286713145\n",
      "How Close I was:  -3.671328671314353e-05\n"
     ]
    }
   ],
   "source": [
    "#1A\n",
    "array1 = np.linspace ( -5 , 11.323, int(  (  11.323 - -5) / .0285 ) + 1  )\n",
    "\n",
    "print (\"True Spacing = .0285\")\n",
    "print (\"Linspace Attempt: \", array1[1] - array1 [0])\n",
    "print (\"How Close I was: \",  .0285 - (array1[1] - array1 [0]))"
   ]
  },
  {
   "cell_type": "code",
   "execution_count": 3,
   "metadata": {
    "scrolled": false
   },
   "outputs": [
    {
     "data": {
      "text/plain": [
       "Text(0.5, 1.0, '$1B$')"
      ]
     },
     "execution_count": 3,
     "metadata": {},
     "output_type": "execute_result"
    },
    {
     "data": {
      "image/png": "[encoded data removed]",
      "text/plain": [
       "<Figure size 432x288 with 1 Axes>"
      ]
     },
     "metadata": {
      "needs_background": "light"
     },
     "output_type": "display_data"
    }
   ],
   "source": [
    "#1B\n",
    "def FofX(x):\n",
    "    return ( ( 3 * ( x **4) ) + ( 3 * ( x **2) ) + 2)\n",
    "\n",
    "xvals = np.linspace ( -5 , 11.323, int(  (  11.323 - -5 + 1  ) / .0285 )   )\n",
    "\n",
    "plt.plot (xvals, FofX(xvals), ls = \"--\", color = \"r\")\n",
    "plt.xlabel('$x$')\n",
    "plt.ylabel('$f(x)$')\n",
    "plt.title('$1B$')"
   ]
  },
  {
   "cell_type": "code",
   "execution_count": 4,
   "metadata": {},
   "outputs": [
    {
     "name": "stdout",
     "output_type": "stream",
     "text": [
      " n = 30:  893327\n",
      " n = 50:  6631377\n"
     ]
    }
   ],
   "source": [
    "#1C\n",
    "\n",
    "def Sum(n):\n",
    "    tot = 0\n",
    "    An = 0\n",
    "    for jj in range(0, int(n) + 1):\n",
    "        j3 = jj**3\n",
    "        j2 = jj**2\n",
    "        tot += (4*j3) + (3*j2)  + 2\n",
    "    return tot\n",
    "\n",
    "\n",
    "print (\" n = 30: \" ,Sum(30))\n",
    "print (\" n = 50: \" ,Sum(50))"
   ]
  },
  {
   "cell_type": "code",
   "execution_count": 5,
   "metadata": {},
   "outputs": [
    {
     "data": {
      "text/plain": [
       "12647598"
      ]
     },
     "execution_count": 5,
     "metadata": {},
     "output_type": "execute_result"
    }
   ],
   "source": [
    "#1D\n",
    "\n",
    "def div_sum(n):\n",
    "    tot = 0\n",
    "    for jj in range(0, int(n) + 1):\n",
    "        if (jj % 7 == 0) or ( jj % 13 == 0) or (jj % 18 == 0):\n",
    "            tot += jj\n",
    "        else:\n",
    "            tot += 0\n",
    "    return tot\n",
    "    \n",
    "div_sum(10000)"
   ]
  },
  {
   "cell_type": "code",
   "execution_count": 6,
   "metadata": {},
   "outputs": [
    {
     "name": "stdout",
     "output_type": "stream",
     "text": [
      " n = 5:  -5.87\n",
      " n = 10:  -1074.63\n",
      " n = 20:  -42809333.39000001\n"
     ]
    }
   ],
   "source": [
    "#1E\n",
    "\n",
    "def Pn(n):\n",
    "    p0 = .1\n",
    "    p1 = 2.1\n",
    "    p2 = .235\n",
    "    p3 = 0\n",
    "    if n >= 4:\n",
    "        for jj in range(4, int(n) +1):\n",
    "            pn = ( 3 * p0) - ( 2 * p1) + ( 3 * p3)\n",
    "            p0 = p1\n",
    "            p1 = p2\n",
    "            p2 = p3\n",
    "            p3 = pn\n",
    "        return pn\n",
    "    elif n == 3:\n",
    "        return p3\n",
    "    elif n == 2:\n",
    "        return p2\n",
    "    elif n == 1:\n",
    "        return p1\n",
    "    elif n == 0:\n",
    "        return p0\n",
    "    \n",
    "print (\" n = 5: \",Pn (5) )\n",
    "print (\" n = 10: \" ,Pn (10) )\n",
    "print (\" n = 20: \" ,Pn (20) )"
   ]
  },
  {
   "cell_type": "markdown",
   "metadata": {},
   "source": [
    "**Problem 2**: 15pts - Given the function\n",
    "\n",
    "$$\n",
    "y(x) = \\sum_{l=0}^{\\infty} \\frac{(-1)^{l}x^{2l}}{3^{l}l!}\n",
    "$$\n",
    "\n",
    "2a) 6pts - Determine a recurrence relation between the coefficients.\n",
    "\n",
    "2b) 6pts - In Python, develop a tolerance based, recursive, vectorized implementation of this function.  \n",
    "\n",
    "2c) 3pts - Plot this function on the interval $[0,5]$ for tolerances $10^{-6}$ and $10^{-8}$.  Comment on any phenomena you see.  Make sure graphs are labeled, have a legend, and are well sized.  "
   ]
  },
  {
   "cell_type": "markdown",
   "metadata": {},
   "source": [
    "_Answer to Problem 2_"
   ]
  },
  {
   "cell_type": "markdown",
   "metadata": {},
   "source": [
    "#2A\n",
    "Reccurence Relation between Coefficients\n",
    "$$\n",
    "\\begin {align}\n",
    "a_{l} = & \\frac{-x^{2}}{3l} a_{l-1} ,& a_0 = 1\n",
    "\\end {align}\n",
    "$$\n"
   ]
  },
  {
   "cell_type": "code",
   "execution_count": 7,
   "metadata": {},
   "outputs": [],
   "source": [
    "#2B\n",
    "def FofX (x,tol):\n",
    "    tot = np.ones(x.size)\n",
    "    aj = np.ones(x.size)\n",
    "    jj = 1\n",
    "    nx2 = -1* x**2\n",
    "    while np.max(np.abs(aj)) >= tol:\n",
    "        aj *= (nx2) / (3*jj)\n",
    "        tot += aj\n",
    "        jj += 1\n",
    "    return tot"
   ]
  },
  {
   "cell_type": "code",
   "execution_count": 8,
   "metadata": {},
   "outputs": [
    {
     "data": {
      "text/plain": [
       "Text(0, 0.5, 'yvals')"
      ]
     },
     "execution_count": 8,
     "metadata": {},
     "output_type": "execute_result"
    },
    {
     "data": {
      "image/png": "[encoded data removed]",
      "text/plain": [
       "<Figure size 432x288 with 1 Axes>"
      ]
     },
     "metadata": {
      "needs_background": "light"
     },
     "output_type": "display_data"
    }
   ],
   "source": [
    "#2C\n",
    "\n",
    "xvals = np.linspace(0, 5, int(1e4))\n",
    "plt.plot (xvals, FofX(xvals, 1e-6), ls=\"--\", color = 'r', label = \"1e-6\")\n",
    "plt.plot (xvals, FofX(xvals, 1e-8), ls = \":\", color = 'b', label = \"1e-8\")\n",
    "plt.legend(loc=(.75, .5))\n",
    "plt.xlabel(\"xvals\")\n",
    "plt.ylabel(\"yvals\")"
   ]
  },
  {
   "cell_type": "markdown",
   "metadata": {
    "collapsed": true
   },
   "source": [
    "**Problem 3**: 15pts - Write a program (7pts) that generates the iterative sequence\n",
    "$$\n",
    "\\phi_{n} = a\\phi_{n-1} + b\\phi_{n-2}, ~ n\\geq 2, ~ a,b\\in \\mathbb{R}.\n",
    "$$\n",
    "Your program must take $a$, $b$, $\\phi_{0}$, $\\phi_{1}$, and the maximum value of $N$ as input, i.e. your program should produce a plot of the sequence for $0\\leq n \\leq N$.  (4pts) Generate labeled semi-log plots of $|\\phi_{n}|$ up to $N=40$ for the parameter values \n",
    "\n",
    "* $a = 1$, $b = 3$, $\\phi_{0}=1$, $\\phi_{1}=2$,\n",
    "* $a = -3$, $b = -1/2$, $\\phi_{0}=2$, $\\phi_{1}=1$.\n",
    "\n",
    "Explain the behavior you see in the graphs (4pts).  In particular, find the slope of the lines in your plots in the large $N$ limit both computationally and analytically.  Hint: In order to get the analytic result, you need to use a guess for the solution of the form \n",
    "$$\n",
    "\\phi_{n} = \\lambda^{n}.\n",
    "$$\n",
    "Then plug in your guess, and solve for $\\lambda$.  You know, like with the Fibonacci numbers."
   ]
  },
  {
   "cell_type": "markdown",
   "metadata": {},
   "source": [
    "_Answer to Problem 3_"
   ]
  },
  {
   "cell_type": "code",
   "execution_count": 9,
   "metadata": {},
   "outputs": [
    {
     "name": "stdout",
     "output_type": "stream",
     "text": [
      "Slope of Line 1 (Blue) :  0.36225162602855576\n",
      "Slope of Line 2 (Orange) :  0.4506917483893821\n",
      "Analytic Slope:  1.0690503945106902\n"
     ]
    },
    {
     "data": {
      "image/png": "[encoded data removed]",
      "text/plain": [
       "<Figure size 432x288 with 1 Axes>"
      ]
     },
     "metadata": {
      "needs_background": "light"
     },
     "output_type": "display_data"
    }
   ],
   "source": [
    "#3\n",
    "def iterative_seq( a, b , x0, x1, N):\n",
    "    xn = np.ones( int(N) + 1)\n",
    "    if N>=2:\n",
    "        xn[0] = x0\n",
    "        xn[1] = x1\n",
    "        for val in range(2, int(N) + 1):\n",
    "            xn[val] = ( a * xn[1] ) + ( b * xn[0] )\n",
    "            xn [0] = xn [1]\n",
    "            xn [1] = xn[val]\n",
    "        return xn[val]\n",
    "    elif N == 0:\n",
    "        return xn[0]\n",
    "    elif N == 1:\n",
    "        return xn[1]\n",
    "    else:\n",
    "        return null\n",
    "    \n",
    "nvals = np.linspace(0, 40, 41)\n",
    "\n",
    "#plt.plot(nvals, [iterative_seq( 1, 3, 1, 2, nval) for nval in nvals])\n",
    "#plt.plot(nvals, [iterative_seq( -3, -1/2, 2, 1, nval) for nval in nvals])\n",
    "\n",
    "yvals1 = np.log10(np.abs([iterative_seq( 1, 3, 1, 2, nval) for nval in nvals]))\n",
    "yvals2 = np.log10(np.abs([iterative_seq( -3, -1/2, 2, 1, nval) for nval in nvals]))\n",
    "\n",
    "plt.plot(nvals, yvals1, ls = \"--\", label = \"$L_1$\")\n",
    "plt.plot(nvals, yvals2, ls = \"--\", label = \"$L_2$\")\n",
    "\n",
    "plt.legend(loc=(.75, .1))\n",
    "\n",
    "yvals140 = ( np.log10( np.abs( iterative_seq( 1, 3, 1, 2, 40) ) ) )\n",
    "yvals130 = ( np.log10( np.abs( iterative_seq( 1, 3, 1, 2, 30) ) ) )\n",
    "yvals240 = ( np.log10( np.abs( iterative_seq(-3, -1/2, 2, 1, 40) ) ) )\n",
    "yvals230 = ( np.log10( np.abs( iterative_seq( -3, -1/2, 2, 1, 30) ) ) )\n",
    "\n",
    "slope = (yvals140 - yvals130) / (40 - 30)\n",
    "print (\"Slope of Line 1 (Blue) : \", slope)\n",
    "slope = (yvals240 - yvals230) / (40 - 30)\n",
    "print (\"Slope of Line 2 (Orange) : \", slope)\n",
    "print (\"Analytic Slope: \", yvals140 ** (1/40) )"
   ]
  },
  {
   "cell_type": "markdown",
   "metadata": {},
   "source": [
    "**Problem 4**: 15pts -  For the integral,\n",
    "$$\n",
    "\\int_{0}^{\\pi/2}\\cos(\\cos(x^{2}))dx, \n",
    "$$\n",
    "use \n",
    "\n",
    "* (7pts) a Taylor series to the third order (i.e. keep up to cubic terms) around $x=0$ to approximate the integral, \n",
    "* (6pts) a Taylor series to the third order chosen appropriately to approximate each integral on the right hand side of the expression\n",
    "\n",
    "$$\n",
    "\\int_{0}^{\\pi/2}\\cos(\\cos(x^{2}))dx = \n",
    "\\int_{0}^{\\pi/6}\\cos(\\cos(x^{2}))dx + \\int_{\\pi/6}^{\\pi/3}\\cos(\\cos(x^{2}))dx + \\int_{\\pi/3}^{\\pi/2}\\cos(\\cos(x^{2}))dx.\n",
    "$$\n",
    "\n",
    "* (2pts) Using NumPy, one can find that \n",
    "$$\n",
    "\\int_{0}^{\\pi/2}\\cos(\\cos(x^{2}))dx =  1.137063808641665\n",
    "$$\n",
    "Find the error in each of your approximations, state which is better, and explain why it is better.  "
   ]
  },
  {
   "cell_type": "markdown",
   "metadata": {},
   "source": [
    "_Answer to Problem 4_"
   ]
  },
  {
   "cell_type": "code",
   "execution_count": 10,
   "metadata": {},
   "outputs": [],
   "source": [
    "#4\n",
    "# x - center\n",
    "def Order0 (x):\n",
    "    return np.cos(np.cos(x**2))\n",
    "\n",
    "def Order1 (x):\n",
    "    return (2 * (x) *  ( np.sin(x**2) ) * ( np.sin(np.cos(x**2)) ) )\n",
    "\n",
    "def Order2 (x):\n",
    "    return ( (-4) * (x**2) * ( np.sin(x**2) ** 2) * ( np.cos(np.cos(x**2)) ) ) + ( 4 * (x**2) * ( np.sin(np.cos(x**2)) ) * ( np.cos(x**2) ) ) + ( 2 * (np.sin(x**2)) * (np.sin(np.cos(x**2))))\n",
    "\n",
    "def Order3 (x):\n",
    "    return (( ((-24) * (x**3) * (np.sin(x**2)) * (np.cos(x**2)) ) - ( 12 * (x) * (np.sin(x**2) ** 2)) ) * (np.cos(np.cos(x**2)) )) - (( ( 8 * (x**3) * (np.sin(x**2) ** 3) ) + ( 8 * (x**3) * (np.sin(x**2)) ) + ( (-12) * (x) * (np.cos(x**2)) ) ) * (np.sin(np.cos(x**2))) ) \n"
   ]
  },
  {
   "cell_type": "code",
   "execution_count": 11,
   "metadata": {},
   "outputs": [],
   "source": [
    "def Integral_Approx (a, b, center):\n",
    "    return ((Order0 (center) * (b-center)) + (Order1 (center) *  (((b-center)**2) / 2 )) + (Order2 (center) * (((b-center)**3) / 6)) + (Order3 (center) * (((b-center)**4) / 24))) - ((Order0 (center) * (a-center)) + (Order1 (center) *  (( (a-center)**2) / 2 )) + (Order2 (center) * (( (a-center)**3) / 6)) + (Order3 (center) * (( (a-center)**4) / 24)))"
   ]
  },
  {
   "cell_type": "code",
   "execution_count": 12,
   "metadata": {
    "scrolled": true
   },
   "outputs": [
    {
     "name": "stdout",
     "output_type": "stream",
     "text": [
      "The Best Center to Approximate the Integral within a Timely Manner: π / 23.527058823529412\n",
      "Actual:  1.137063808641665\n",
      "Approximation:  1.1370446257238758\n",
      "Error in this Approximation is:  1.918291778912895e-05\n"
     ]
    }
   ],
   "source": [
    "def Center_Approx (center) :\n",
    "    return Integral_Approx (0, np.pi /6, center) + Integral_Approx (np.pi / 6, np.pi /3, center) + Integral_Approx (np.pi / 3, np.pi /2, center)\n",
    "\n",
    "def cvalcalc():\n",
    "    cvals = np.linspace(0 , np.pi /2, int(1e4))\n",
    "    for cval in cvals:\n",
    "        if (Center_Approx(cval) >= 1.1370) and (Center_Approx(cval) <= 1.1371):\n",
    "            return (np.pi / cval)\n",
    "\n",
    "print (\"The Best Center to Approximate the Integral within a Timely Manner: \" + '\\u03C0' + \" /\",cvalcalc())\n",
    "actual = 1.137063808641665\n",
    "print (\"Actual: \", actual)\n",
    "print (\"Approximation: \",Center_Approx (np.pi / cvalcalc()) )\n",
    "print (\"Error in this Approximation is: \", np.abs(Center_Approx (np.pi / cvalcalc()) -  actual))"
   ]
  },
  {
   "cell_type": "code",
   "execution_count": 13,
   "metadata": {
    "scrolled": true
   },
   "outputs": [
    {
     "name": "stderr",
     "output_type": "stream",
     "text": [
      "/usr/local/Cellar/ipython/7.3.0/libexec/vendor/lib/python3.7/site-packages/ipykernel_launcher.py:1: DeprecationWarning: object of type <class 'float'> cannot be safely interpreted as an integer.\n",
      "  \"\"\"Entry point for launching an IPython kernel.\n",
      "/usr/local/Cellar/ipython/7.3.0/libexec/vendor/lib/python3.7/site-packages/ipykernel_launcher.py:2: DeprecationWarning: object of type <class 'float'> cannot be safely interpreted as an integer.\n",
      "  \n"
     ]
    },
    {
     "data": {
      "text/plain": [
       "Text(0, 0.5, 'Approx Values')"
      ]
     },
     "execution_count": 13,
     "metadata": {},
     "output_type": "execute_result"
    },
    {
     "data": {
      "image/png": "[encoded data removed]",
      "text/plain": [
       "<Figure size 432x288 with 1 Axes>"
      ]
     },
     "metadata": {
      "needs_background": "light"
     },
     "output_type": "display_data"
    }
   ],
   "source": [
    "cvals = np.linspace (0, np.pi / 2, 1e4)\n",
    "wvals = np.linspace(1.137063808641665, 1.137063808641665, 1e4)\n",
    "plt.plot(cvals, [Center_Approx (cval) for cval in cvals])\n",
    "plt.plot(cvals, wvals)\n",
    "plt.xlabel(\"Center Values\")\n",
    "plt.ylabel(\"Approx Values\")"
   ]
  },
  {
   "cell_type": "markdown",
   "metadata": {},
   "source": [
    "Approximating with multiple integrals and my center of about $\\frac {\\pi}{24}$ gives the least amount of error.  \n",
    "<br>\n",
    "The reason for the center I believe is that as the centers increase their error increases with them based off the graph above.  The only 2 points of intesection is approximately $\\frac {\\pi}{24}$ and $\\frac {\\pi}{2.52}$"
   ]
  },
  {
   "cell_type": "markdown",
   "metadata": {},
   "source": [
    "**Problem 5**: 10pts - The $(p,q)$ hypergeometric function is defined as \n",
    "$$\n",
    "_{p}F_{q}(a_{1},\\cdots,a_{p};b_{1},\\cdots,b_{q};x) = \\sum_{n=0}^{\\infty} \\frac{\\left(a_{1}\\right)_{n}\\cdots\\left(a_{p}\\right)_{n}}{\\left(b_{1}\\right)_{n}\\cdots\\left(b_{q}\\right)_{n}}\\frac{x^{n}}{n!}\n",
    "$$\n",
    "where $a_{j}\\in \\mathbb{R}$, $b_{l}\\in \\mathbb{R}$ and for any real value $a$ we have the recursion relationship\n",
    "\\begin{align*}\n",
    "(a)_{0} = & 1 \\\\\n",
    "(a)_{n} = & (a+n-1)(a)_{n-1}, ~ n\\geq 1.\n",
    "\\end{align*}\n",
    "So for example, we have that \n",
    "$$\n",
    "_{0}F_{0}(;;x) = \\sum_{n=0}^{\\infty}\\frac{1}{1}\\frac{x^{n}}{n!} = e^{x}, \n",
    "$$\n",
    "and if we have the Bessel function $J_{n}(x)$ where \n",
    "$$\n",
    "J_{n}(x) = \\sum_{m=0}^{\\infty} \\frac{(-1)^{m}}{m! (m+n)!}\\left(\\frac{x}{2} \\right)^{2m + n} = \\frac{1}{n!}\\left(\\frac{x}{2}\\right)^{n}\\sum_{m=0}^{\\infty}\\frac{1}{(n+1)_{m}}\\frac{1}{m!}\\left(\\frac{-x^{2}}{4}\\right)^{m}, \n",
    "$$\n",
    "since\n",
    "\\begin{align*}\n",
    "(m+n)! = & n!(n+1)(n+2)\\cdots(n+m) \\\\\n",
    "= &n!(n+1)(n+1 + 1)\\cdots(n+1+m-1) \\\\\n",
    "= & n!(n+1)_{m},\n",
    "\\end{align*}\n",
    "then we have \n",
    "$$\n",
    "J_{n}(x) = \\frac{1}{n!}\\left(\\frac{x}{2}\\right)^{n}  ~_{0}F_{1}\\left(;n+1;-\\frac{x^{2}}{4}\\right).\n",
    "$$\n",
    "\n",
    "Write a program which computes the $(p,q)$ hypergeometric function.  It should take as input vectors ${\\bf a}$ and ${\\bf b}$ where \n",
    "\\begin{align*}\n",
    "{\\bf a} = & (a_{1},~ a_{2},~ \\cdots,~ a_{p}) \\\\ \n",
    "{\\bf b} = & (b_{1},~ b_{2},~ \\cdots,~ b_{q}) \n",
    "\\end{align*}\n",
    "and an evaluation point $x$.  Note, your program should determine $p$ and $q$ using the length of $a$ and $b$ respectively.  Make sure you vectorize your function.  Make sure you make efficient use of recursion.  Clearly explain the stopping criteria you choose and why you choose it.  Test your code by comparing your results to those you would get using the implementation for the Bessel functions we developed in the lectures.  \n",
    "\n",
    "Then, using NumPy's version of the functions as the _true_ values, numerically prove the identity\n",
    "\n",
    "$$\n",
    "\\sin^{-1}(x) = x \\cdot _{2}F_{1}\\left(\\frac{1}{2},\\frac{1}{2};\\frac{3}{2};x^{2}\\right)\n",
    "$$\n",
    "\n",
    "Generate semi-log plots of the difference of the two functions over meshes on $[-.5,.5]$ and argue why this shows the identities are true.  Note, you may need to adapt your stopping condition to adequately answer this problem.  "
   ]
  },
  {
   "cell_type": "markdown",
   "metadata": {},
   "source": [
    "_Answer to Problem 5_"
   ]
  },
  {
   "cell_type": "code",
   "execution_count": 14,
   "metadata": {},
   "outputs": [],
   "source": [
    "def pqfunction (a, b , x, N):\n",
    "    p = a.size\n",
    "    q = b.size\n",
    "    for n in np.arange(1, N):\n",
    "        for p in np.arange(0, a.size):\n",
    "            a_n[0][p] = 1\n",
    "            a_n[n][p] = (a[p] + n - 1) * (a_n[n - 1][p])\n",
    "    for n in np.arange(1, N):\n",
    "        for p in np.arange(0, b.size):\n",
    "            b_n[0][p] = 1\n",
    "            b_n[n][p] = (b[p] + n - 1) * (b_n[n - 1][p])\n",
    "    \n",
    "    for p in np.arange(0, a.size):\n",
    "        multA *= a_n[N][p]\n",
    "    for p in np.arange(0, b.size):\n",
    "        multB *= b_n[N][p]\n",
    "        \n",
    "    return (multA / multB) * (1 /N.sfactorial ) * (x**N)\n",
    "    "
   ]
  },
  {
   "cell_type": "markdown",
   "metadata": {},
   "source": [
    "I tried my best :)"
   ]
  },
  {
   "cell_type": "markdown",
   "metadata": {},
   "source": [
    "**-5**\n",
    "\n",
    "**Total: 65/70**"
   ]
  }
 ],
 "metadata": {
  "kernelspec": {
   "display_name": "Python 3",
   "language": "python",
   "name": "python3"
  },
  "language_info": {
   "codemirror_mode": {
    "name": "ipython",
    "version": 3
   },
   "file_extension": ".py",
   "mimetype": "text/x-python",
   "name": "python",
   "nbconvert_exporter": "python",
   "pygments_lexer": "ipython3",
   "version": "3.7.3"
  }
 },
 "nbformat": 4,
 "nbformat_minor": 2
}
