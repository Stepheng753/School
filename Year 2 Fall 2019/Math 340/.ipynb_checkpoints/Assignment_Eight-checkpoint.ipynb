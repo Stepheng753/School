{
 "cells": [
  {
   "cell_type": "code",
   "execution_count": 1,
   "metadata": {},
   "outputs": [],
   "source": [
    "import numpy as np\n",
    "import matplotlib.pyplot as plt\n",
    "%matplotlib inline"
   ]
  },
  {
   "cell_type": "code",
   "execution_count": 2,
   "metadata": {},
   "outputs": [],
   "source": [
    "def adap_quad_comp(f,a,b,c,fa,fb,fc,Aab,tol):    \n",
    "    d = (a+c)/2.\n",
    "    e = (b+c)/2.\n",
    "    fd = f(d)\n",
    "    fe = f(e)\n",
    "    dx3 = (d-a)/3.\n",
    "    Aac = dx3*(fa+4.*fd+fc)\n",
    "    Acb = dx3*(fc+4.*fe+fb)\n",
    "    if np.abs(Aab-(Aac+Acb))<=tol: \n",
    "        return (16./15.*(Aac+Acb)-Aab/15.)\n",
    "    else:  \n",
    "        F1 = adap_quad_comp(f,a,c,d,fa,fc,fd,Aac,tol)\n",
    "        F2 = adap_quad_comp(f,c,b,e,fc,fb,fe,Acb,tol)\n",
    "        return F1 + F2\n",
    "    \n",
    "def adap_quad(f,a,b,tol):\n",
    "    c = (a+b)/2.\n",
    "    fa = f(a)\n",
    "    fb = f(b)\n",
    "    fc = f(c)\n",
    "    dx3 = (c-a)/3.\n",
    "    Aab = dx3*(fa+4.*fc+fb)\n",
    "    ival = adap_quad_comp(f,a,b,c,fa,fb,fc,Aab,tol)    \n",
    "    return ival"
   ]
  },
  {
   "cell_type": "markdown",
   "metadata": {},
   "source": [
    "**Problem 1**: (5 pts) Use the adaptive quadrature algorithm to evaluate \n",
    "\n",
    "$$\n",
    "\\int_{-1}^{2} \\frac{dt}{\\sin\\left(\\sqrt{|t|} \\right)}.\n",
    "$$\n",
    "\n",
    "State how you arrive at your result i.e. what tolerances do you choose and what degree of accuracy can you argue that they provide you?  Why do you not encounter divide-by-zero difficulties at $t=0$?"
   ]
  },
  {
   "cell_type": "code",
   "execution_count": 3,
   "metadata": {},
   "outputs": [],
   "source": [
    "def function(t):\n",
    "    sqrtT = np.sqrt(np.abs(t))\n",
    "    sinT = np.sin(sqrtT)\n",
    "    return 1 / sinT"
   ]
  },
  {
   "cell_type": "code",
   "execution_count": 4,
   "metadata": {
    "scrolled": true
   },
   "outputs": [
    {
     "data": {
      "text/plain": [
       "[5.314115472548048, 5.314115598222085, 5.314113894050331]"
      ]
     },
     "execution_count": 4,
     "metadata": {},
     "output_type": "execute_result"
    }
   ],
   "source": [
    "tolVals = {1e-6, 1e-7, 1e-8}\n",
    "[adap_quad(function, -1, 2, tolVal) for tolVal in tolVals]"
   ]
  },
  {
   "cell_type": "markdown",
   "metadata": {},
   "source": [
    "We can get at least 3 digits of accuracy from using tolerance values smaller than $10^{-6}$. The reason we dont encounter any divide-by-zero difficultes at t=0 is because of how the 'adap_quad' works. The 'adap_quad' is constantly cutting in half each interval and taking the integral between those integral.  Because the integral is being evaluated between -1 and 2, 0 is luckily never called in the function to ruin it.  When we try to implement 0 into 'adap_quad', the kernel literally dies, thus proving that 'adap_quad' never takes 0 as a midpoint"
   ]
  },
  {
   "cell_type": "markdown",
   "metadata": {},
   "source": [
    "**Problem 2**: (5 pts) Write a recursive program which computes $\\begin{pmatrix} n \\\\ k \\end{pmatrix}$ where for $0\\leq k \\leq n$\n",
    "\n",
    "$$\n",
    "\\begin{pmatrix} n \\\\ k \\end{pmatrix} = \\frac{n!}{k!(n-k)!},\n",
    "$$\n",
    "\n",
    "using the formula \n",
    "\n",
    "$$\n",
    "\\begin{pmatrix} n \\\\ k \\end{pmatrix} = \\begin{pmatrix} n-1 \\\\ k \\end{pmatrix} + \\begin{pmatrix} n-1 \\\\ k-1 \\end{pmatrix}\n",
    "$$\n",
    "\n",
    "Provide two examples which show your implementation is correct.  "
   ]
  },
  {
   "cell_type": "code",
   "execution_count": 5,
   "metadata": {},
   "outputs": [],
   "source": [
    "def factorial(x):\n",
    "    if x==0:\n",
    "        return 1\n",
    "    else:\n",
    "        return x * factorial (x-1)"
   ]
  },
  {
   "cell_type": "code",
   "execution_count": 6,
   "metadata": {},
   "outputs": [],
   "source": [
    "def binomialExpansion (n, k):\n",
    "    nFactorial = factorial(n)\n",
    "    kFactorial = factorial(k)\n",
    "    nMkFactorial = factorial(n-k)\n",
    "    return (nFactorial) / (kFactorial * nMkFactorial)"
   ]
  },
  {
   "cell_type": "code",
   "execution_count": 7,
   "metadata": {},
   "outputs": [],
   "source": [
    "def formula (n, k):\n",
    "    return binomialExpansion(n-1, k) + binomialExpansion(n-1, k-1)"
   ]
  },
  {
   "cell_type": "code",
   "execution_count": 8,
   "metadata": {
    "scrolled": true
   },
   "outputs": [
    {
     "name": "stdout",
     "output_type": "stream",
     "text": [
      "252.0\n",
      "252.0\n"
     ]
    }
   ],
   "source": [
    "print (binomialExpansion (10, 5))\n",
    "print (formula (10, 5))"
   ]
  },
  {
   "cell_type": "code",
   "execution_count": 9,
   "metadata": {},
   "outputs": [
    {
     "name": "stdout",
     "output_type": "stream",
     "text": [
      "6435.0\n",
      "6435.0\n"
     ]
    }
   ],
   "source": [
    "print (binomialExpansion (15, 7))\n",
    "print (formula (15, 7))"
   ]
  },
  {
   "cell_type": "markdown",
   "metadata": {},
   "source": [
    "**Problem 3**: (10 pts) The Hermite polynomials $H_{n}(x)$ are such that $H_{0}(x)=1$, $H_{1}(x)=2x$, and for $n\\geq2$, $H_{n}(x)$ satisfies the recurrence relationship\n",
    "\n",
    "$$\n",
    "H_{n}(x) = 2xH_{n-1}(x) -2(n-1)H_{n-2}(x), ~ n\\geq 2. \n",
    "$$\n",
    "\n",
    "* (6 pts) Write a recursive program to find any Hermite polynomial $H_{n}(x)$.\n",
    "* (4 pts) Generate a plot of the first six Hermite polyonmials on the interval $-2\\leq x \\leq 2$.  Your figure should be labeled, have a legend, and different colors should be used to distinguish the different Hermite polynmials in the plot.  "
   ]
  },
  {
   "cell_type": "code",
   "execution_count": 10,
   "metadata": {},
   "outputs": [
    {
     "data": {
      "text/plain": [
       "1"
      ]
     },
     "execution_count": 10,
     "metadata": {},
     "output_type": "execute_result"
    }
   ],
   "source": [
    "def hermite (x, n):\n",
    "    if n == 0:\n",
    "        return 0*x + 1\n",
    "    elif n == 1:\n",
    "        return 2*x\n",
    "    else:\n",
    "        return (2*x*hermite(x, n-1)) - (2*(n-1)*hermite(x, n-2))\n",
    "hermite(1,0)"
   ]
  },
  {
   "cell_type": "code",
   "execution_count": 11,
   "metadata": {},
   "outputs": [
    {
     "data": {
      "text/plain": [
       "<matplotlib.legend.Legend at 0x19082290748>"
      ]
     },
     "execution_count": 11,
     "metadata": {},
     "output_type": "execute_result"
    },
    {
     "data": {
      "image/png": "[encoded data removed]",
      "text/plain": [
       "<Figure size 432x288 with 1 Axes>"
      ]
     },
     "metadata": {
      "needs_background": "light"
     },
     "output_type": "display_data"
    }
   ],
   "source": [
    "xvals = np.linspace(-2, 2, int(1e3))\n",
    "plt.plot(xvals, hermite(xvals, 0), label = \"n=0\")\n",
    "plt.plot(xvals, hermite(xvals, 1), label = \"n=1\")\n",
    "plt.plot(xvals, hermite(xvals, 2), label = \"n=2\")\n",
    "plt.plot(xvals, hermite(xvals, 3), label = \"n=3\")\n",
    "plt.plot(xvals, hermite(xvals, 4), label = \"n=4\")\n",
    "plt.plot(xvals, hermite(xvals, 5), label = \"n=5\")\n",
    "plt.xlabel(\"$x$\")\n",
    "plt.ylabel(\"$H_{n}(x)$\")\n",
    "plt.title(\"Hermite\")\n",
    "plt.legend(loc=\"best\")"
   ]
  },
  {
   "cell_type": "markdown",
   "metadata": {
    "collapsed": true
   },
   "source": [
    "**Problem 4** : (5 pts) Suppose that for two football teams, the probability, $P$, that team A will beat team B is given by \n",
    "$$\n",
    "P = \\frac{1+p}{2}\\left(\\frac{p}{1-p+p^{2}} \\right)^{21}\n",
    "$$\n",
    "where $p$ is the probability that team A punts on a fourth down (ok, I really know nothing about football, but I think that kind of makes sense...)  Determine to within $10^{-3}$ the minimal value of $p$ that will ensure that team $A$ beats team $B$ at least half of the time."
   ]
  },
  {
   "cell_type": "code",
   "execution_count": 12,
   "metadata": {},
   "outputs": [],
   "source": [
    "#goal : find p with tol = 1e-3 with P >= .5\n",
    "def winProb(puntProb):\n",
    "    term1 = (1 + puntProb) / 2\n",
    "    term2 = (puntProb) / (1 - puntProb + (puntProb**2))\n",
    "    return term1 * (term2 **21)"
   ]
  },
  {
   "cell_type": "code",
   "execution_count": 13,
   "metadata": {},
   "outputs": [
    {
     "data": {
      "text/plain": [
       "[<matplotlib.lines.Line2D at 0x190822dd2c8>]"
      ]
     },
     "execution_count": 13,
     "metadata": {},
     "output_type": "execute_result"
    },
    {
     "data": {
      "image/png": "[encoded data removed]",
      "text/plain": [
       "<Figure size 432x288 with 1 Axes>"
      ]
     },
     "metadata": {
      "needs_background": "light"
     },
     "output_type": "display_data"
    }
   ],
   "source": [
    "xvals = np.linspace(0,1,int(1e3)+1)\n",
    "winHalf = np.linspace(.5,.5,int(1e3)+1)\n",
    "plt.plot(xvals, winProb(xvals))\n",
    "plt.plot(xvals, winHalf)"
   ]
  },
  {
   "cell_type": "code",
   "execution_count": 16,
   "metadata": {},
   "outputs": [],
   "source": [
    "def bisec_method(a,b,f,tol):\n",
    "    fa,fb = f(a),f(b)\n",
    "    if (fa < .5 and fb > .5) or (fa > .5 and fb < .5):\n",
    "        c = ( b + a ) / 2\n",
    "        capproxs = np.array([c]) # build an array to record the estimates we make for the root\n",
    "        fc = f(c)\n",
    "        while np.abs(fc - .5) >= tol:\n",
    "            if (fa < .5 and fc > .5) or (fa > .5 and fc < .5):\n",
    "                b = c\n",
    "            else:\n",
    "                fa = fc\n",
    "                a = c\n",
    "            c = ( a + b ) / 2\n",
    "            fc = f(c)\n",
    "            capproxs = np.append(capproxs,c)\n",
    "            \n",
    "        print (\"Our root is: %1.15f\" %c)\n",
    "        return capproxs[capproxs.size - 1]\n",
    "    else:\n",
    "        print (\"Cannot ensure existence of root.\")"
   ]
  },
  {
   "cell_type": "code",
   "execution_count": 17,
   "metadata": {},
   "outputs": [
    {
     "name": "stdout",
     "output_type": "stream",
     "text": [
      "Our root is: 0.842285156250000\n"
     ]
    },
    {
     "data": {
      "text/plain": [
       "0.84228515625"
      ]
     },
     "execution_count": 17,
     "metadata": {},
     "output_type": "execute_result"
    }
   ],
   "source": [
    "bisec_method(0,1,winProb,1e-4)"
   ]
  },
  {
   "cell_type": "markdown",
   "metadata": {},
   "source": [
    "**Problem 5** : (10 pts) Using Newton's method, explain why the sequence \n",
    "$$\n",
    "x_{n} = \\frac{1}{2}x_{n-1} + \\frac{A}{2x_{n-1}}, ~ n\\geq1, ~ x_{0}>0,  \n",
    "$$\n",
    "converges to $\\sqrt{A}$ (4 pts).  Hint, you need to think of a function whose root is $\\sqrt{A}$.  Implement the method and characterize for various values of $x_{0}$ how quickly the method converges. (6 pts)"
   ]
  },
  {
   "cell_type": "code",
   "execution_count": 18,
   "metadata": {},
   "outputs": [],
   "source": [
    "def rate_of_conv(capproxs):\n",
    "    tterms = capproxs.size\n",
    "    cstar = capproxs[tterms - 1]\n",
    "    cnp1 = np.log(np.abs(capproxs[1:tterms-1] - cstar))\n",
    "    cn = np.log(np.abs(capproxs[0:tterms-2] - cstar))\n",
    "    ftprms = np.polyfit(cn, cnp1, 1) \n",
    "    plt.scatter(cn, cnp1)\n",
    "    plt.plot(cn, (ftprms[0])*cn+ftprms[1]) \n",
    "    plt.xlabel(\"$\\log_{10}|c_{n}-c_{*}|$\")\n",
    "    plt.ylabel(\"$\\log_{10}|c_{n+1}-c_{*}|$\")\n",
    "    \n",
    "def Newtons_method(f1,fp1,x0,tol):\n",
    "    x1 = (1/2)*x0 + 9/(2*x0)\n",
    "    xapprox = np.array([x0,x1])\n",
    "    while np.abs(x1-x0) >= tol:\n",
    "        x0 = x1\n",
    "        x1 = (1/2)*x0 + 9/(2*x0)\n",
    "        xapprox = np.append(xapprox,x1)\n",
    "    print(\"Your root is %1.15f\"%x1)\n",
    "    rate_of_conv(xapprox)\n",
    "    return xapprox[xapprox.size - 1]"
   ]
  },
  {
   "cell_type": "code",
   "execution_count": 19,
   "metadata": {},
   "outputs": [],
   "source": [
    "f = lambda x: x - np.sqrt(9)\n",
    "fp = lambda x: -np.sqrt(9)\n"
   ]
  },
  {
   "cell_type": "code",
   "execution_count": 20,
   "metadata": {},
   "outputs": [
    {
     "name": "stdout",
     "output_type": "stream",
     "text": [
      "Your root is 3.000000001396984\n"
     ]
    },
    {
     "data": {
      "text/plain": [
       "3.000000001396984"
      ]
     },
     "execution_count": 20,
     "metadata": {},
     "output_type": "execute_result"
    },
    {
     "data": {
      "image/png": "[encoded data removed]",
      "text/plain": [
       "<Figure size 432x288 with 1 Axes>"
      ]
     },
     "metadata": {
      "needs_background": "light"
     },
     "output_type": "display_data"
    }
   ],
   "source": [
    "Newtons_method(f, fp, 1, 1e-3)"
   ]
  },
  {
   "cell_type": "markdown",
   "metadata": {},
   "source": [
    "**Problem 6**: (5pts) In class for a root $x_{\\ast}$ of $f(x)$, i.e. $f(x_{\\ast})=0$, if $x_{0}$ is chosen \"close\" to $x_{\\ast}$, then the sequence $\\left\\{x_{n}\\right\\}_{n=0}^{\\infty}$  where \n",
    "\n",
    "$$\n",
    "x_{n+1} = g\\left(x_{n}\\right), ~ g(x) = x - \\frac{f(x)}{f'(x)}, ~ n\\geq 0.\n",
    "$$\n",
    "\n",
    "should converge to $x_{\\ast}$.  The question is how quickly.  So supposing that $f'(x_{\\ast})\\neq 0$ show \n",
    "\n",
    "* $g(x_{\\ast}) = x_{\\ast}$ (thus making $x_{\\ast}$ a fixed point of $g(x)$)\n",
    "* $g'(x_{\\ast}) = 0$\n",
    "* $x_{n+1} - x_{\\ast} = \\frac{1}{2}g''(x_{\\ast})\\left(x_{n}-x_{\\ast}\\right)^{2} + \\mathcal{O}(\\left(x_{n}-x_{\\ast}\\right)^{3})$\n",
    "\n",
    "From this, infer that the rate of convergence (see the class notes for a definition of rate of convergence) for Newton's method is $\\alpha = 2$."
   ]
  },
  {
   "cell_type": "markdown",
   "metadata": {},
   "source": [
    "\\begin{align}\n",
    "note:& f(x_{\\ast}) = 0, f'(x_{\\ast}) \\neq 0\\\\\n",
    "g(x_{\\ast}) =& x_{\\ast} - \\frac{f(x_{\\ast})}{f'(x_{\\ast})}\\\\\n",
    "=& x_{\\ast} - \\frac{0}{f'(x_{\\ast})}\\\\\n",
    "g(x_{\\ast})=& x_{\\ast}\n",
    "\\\\\\\\\n",
    "g'(x) = & 1 - \\frac{f'(x)f'(x) - f''(x)f(x)}{f'(x)^{2}}\\\\\n",
    "= & 1 - \\frac{f'(x)f'(x)}{f'(x)^{2}} - \\frac{f''(x)f(x)}{f'(x)^{2}}\\\\\n",
    "g'(x_{\\ast}) = & 1 - \\frac{f'(x_{\\ast})f'(x_{\\ast})}{f'(x_{\\ast})^{2}} - \\frac{f''(x_{\\ast})f(x_{\\ast})}{f'(x_{\\ast})^{2}}\\\\\n",
    "= & 1 - 1 - 0 = 0\\\\\n",
    "\\\\\\\\\n",
    "x_{n} = & g(x_{n-1})\\\\\n",
    "= & g(x_{n-1} - x_{\\ast} + x_{\\ast})\\\\\n",
    "= & g(x_{\\ast}) + g'(x_{\\ast})(x_{n-1} - x_{\\ast}) + \\frac{1}{2}g''(\\xi)(x_{n-1} - x_{\\ast})^{2} + \\mathcal{O}(\\left(x_{n}-x_{\\ast}\\right)^{3}\\\\\n",
    "x_{n} - x_{\\ast} =& \\frac{1}{2}g''(\\xi)(x_{n-1} - x_{\\ast})^{2} + \\mathcal{O}(\\left(x_{n}-x_{\\ast}\\right)^{3}\\\\\n",
    "\\end{align}\n",
    "\n",
    "Because $x_{n} - x_{\\ast}$ is estimated to the 2nd power, its clear that for Newton's method, $\\alpha = 2$."
   ]
  },
  {
   "cell_type": "markdown",
   "metadata": {},
   "source": [
    "**Problem 7**: (10 pts) In many cases, getting convergence rates via pen and paper is tricky.  However, we can often readily find them via numerical simulation.  \n",
    "\n",
    "a.) (4 pts) For \n",
    "$$\n",
    "f(x) = x\\cos(x) - \\sin^{2}(x), \n",
    "$$\n",
    "find all the roots on the interval $[0,5]$ using Newton's method with a tolerance of $10^{-6}$.\n",
    "\n",
    "\n",
    "b.) (6 pts) For each root, establish that the rate of convergence is quadratic.  Note, to do this, you will need to save the various points generated by Newton's method in an array.  You will need to find the fixed point.  Then, you should note that if \n",
    "$$\n",
    "\\lim_{n\\rightarrow \\infty}\\frac{|x_{n+1}-x_{\\ast}|}{|x_{n}-x_{\\ast}|^{\\alpha}} = \\lambda, \n",
    "$$  \n",
    "then for $n$ large\n",
    "$$\n",
    "\\ln |x_{n+1}-x_{\\ast}| \\sim \\alpha \\ln |x_{n}-x_{\\ast}| + \\ln \\lambda\n",
    "$$\n",
    "So, then you should be thinking about the slope of a line in a log/log plot.  \n",
    "\n",
    "Please provide a well-labeled and well-explained figure describing the rate of convergence for each fixed point.  Does your rate change based on your initial guess?  Again, please elaborate and show plots to make your case."
   ]
  },
  {
   "cell_type": "code",
   "execution_count": 21,
   "metadata": {},
   "outputs": [],
   "source": [
    "f2 = lambda x: x*np.cos(x) - np.sin(x)**2\n",
    "fp2 = lambda x: np.cos(x) - x*np.sin(x) - np.sin(2*x)"
   ]
  },
  {
   "cell_type": "code",
   "execution_count": 22,
   "metadata": {},
   "outputs": [],
   "source": [
    "def Newtons_method1(f,fp,x0,tol):\n",
    "    x1 = x0 - f(x0)/fp(x0)\n",
    "    xapprox = np.array([x0,x1])\n",
    "    while np.abs(x1-x0) >= tol:\n",
    "        x0 = x1\n",
    "        x1 = x0 - f(x0)/fp(x0)\n",
    "        xapprox = np.append(xapprox,x1)\n",
    "    #print(\"Your root is %1.15f\"%x1)\n",
    "    #rate_of_conv(xapprox)\n",
    "    return xapprox[xapprox.size - 1]"
   ]
  },
  {
   "cell_type": "code",
   "execution_count": 23,
   "metadata": {},
   "outputs": [
    {
     "name": "stdout",
     "output_type": "stream",
     "text": [
      "One Root at 0.000000000000000\n",
      "Another Root at 0.846446354857408\n",
      "Another Root at 4.909534391393232\n"
     ]
    },
    {
     "data": {
      "image/png": "[encoded data removed]",
      "text/plain": [
       "<Figure size 432x288 with 1 Axes>"
      ]
     },
     "metadata": {
      "needs_background": "light"
     },
     "output_type": "display_data"
    }
   ],
   "source": [
    "xvals2 = np.linspace(0, 5, int(1e3))\n",
    "plt.plot(xvals2, np.zeros(xvals2.size))\n",
    "plt.plot(xvals2, f2(xvals2))\n",
    "print (\"One Root at %1.15f\" %Newtons_method1(f2,fp2,0,1e-6))\n",
    "print (\"Another Root at %1.15f\" %Newtons_method1(f2,fp2,1,1e-6))\n",
    "print (\"Another Root at %1.15f\" %Newtons_method1(f2,fp2,5,1e-6))"
   ]
  },
  {
   "cell_type": "code",
   "execution_count": 46,
   "metadata": {},
   "outputs": [],
   "source": [
    "rootArray = {Newtons_method1(f2,fp2,0,1e-6) , Newtons_method1(f2,fp2,1,1e-6), Newtons_method1(f2,fp2,5,1e-6)}\n",
    "def findAlpha(xseq, root, constant, n):\n",
    "    alpha = (np.log(np.abs(xseq[n+1] - root)) - np.log(np.abs(constant))) / (np.log(np.abs(xseq[n] - root)))\n",
    "    return alpha"
   ]
  }
 ],
 "metadata": {
  "kernelspec": {
   "display_name": "Python 3",
   "language": "python",
   "name": "python3"
  },
  "language_info": {
   "codemirror_mode": {
    "name": "ipython",
    "version": 3
   },
   "file_extension": ".py",
   "mimetype": "text/x-python",
   "name": "python",
   "nbconvert_exporter": "python",
   "pygments_lexer": "ipython3",
   "version": "3.7.4"
  }
 },
 "nbformat": 4,
 "nbformat_minor": 2
}
