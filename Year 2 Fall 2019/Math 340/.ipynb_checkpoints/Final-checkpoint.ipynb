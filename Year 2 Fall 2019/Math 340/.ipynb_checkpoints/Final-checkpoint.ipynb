{
 "cells": [
  {
   "cell_type": "code",
   "execution_count": 1,
   "metadata": {},
   "outputs": [],
   "source": [
    "import numpy as np\n",
    "import matplotlib.pyplot as plt\n",
    "from scipy.sparse import spdiags\n",
    "from scipy.sparse.linalg import spsolve\n",
    "from scipy.sparse.linalg import eigsh\n",
    "from scipy.sparse import identity as sid\n",
    "%matplotlib inline"
   ]
  },
  {
   "cell_type": "markdown",
   "metadata": {},
   "source": [
    "# DUE 12/18/19, by 5:00 PM"
   ]
  },
  {
   "cell_type": "markdown",
   "metadata": {},
   "source": [
    "**Problem 1**: (20pts) In quantum mechanics, it is really common to see boundary value problems of the form \n",
    "\n",
    "$$\n",
    "-\\epsilon\\frac{d^{2}y}{dx^2} + \\cos(\\pi x)y = Ey, ~ y(-1) = y(1).\n",
    "$$\n",
    "\n",
    "where $0\\leq \\epsilon \\ll 1$, i.e. we let $\\epsilon$ be a small positive parameter.  $E\\geq 0$ is the _energy_ of a particle trapped in an oscillating potential well $V(x) = \\cos(\\pi x)$, which is formed in crystal lattices of metals.  We likewise use _periodic-boundary conditions_ by setting \n",
    "\n",
    "$$\n",
    "y(-1) = y(1).\n",
    "$$\n",
    "\n",
    "We desribe the probability of a particle being in the interval $[-1,a]$, $a<1$ via the formula\n",
    "\n",
    "$$\n",
    "P(-1\\leq x \\leq a) = \\int_{-1}^{a} \\tilde{y}(x), ~ \\tilde{y}(x) = \\frac{y^{2}(x)}{\\int_{-1}^{1}y^{2}(x)dx}\n",
    "$$\n",
    "\n",
    "1a) Using second-order centered-difference approximations and spdiags, write code which discretizes the operator $-\\epsilon\\frac{d^{2}y}{dx^2} + \\cos(\\pi x)y\\approx A{\\bf y}$, where ${\\bf y}=\\left(y_{1} ~y_{2}\\cdots y_{N-1}\\right)^{T}$, $y_{j}=y(x_{j})$.  Note, the periodic boundary conditions are implemented as \n",
    "\n",
    "$$\n",
    "y_{0} = y_{N-1}, ~ y_{N} = y_{1}.\n",
    "$$\n",
    "\n",
    "1b) You have now formed a discrete eigenvalue problem $A{\\bf y} = E{\\bf y}$.  Using the code below find the first 10 eigenvalues of the discretized equations.  For $\\epsilon=1,.1,.01$ and $.001$, describe via a well designed plot how the first ten energy levels change as you decrease $\\epsilon$.  \n",
    "\n",
    "1c) For $\\epsilon=.01$, compare the associated probability distributions $\\tilde{y}(x)$ for the first three energy levels.  How do the likelihoods of where a particle would be found change with changing energy?   "
   ]
  },
  {
   "cell_type": "code",
   "execution_count": 2,
   "metadata": {},
   "outputs": [],
   "source": [
    "#1A)\n",
    "\n",
    "def Discretize (a, b, xvals, Nvals, fvals, epsilon):\n",
    "    \n",
    "    Nint = int(Nvals)\n",
    "    dx = ( b - a ) / Nint\n",
    "    idx2 = 1 / (dx ** 2)\n",
    "    epsilon *= -1\n",
    "    \n",
    "    fvals[0] = fvals[Nint - 1]\n",
    "    fvals [Nint] = fvals[1]\n",
    "    \n",
    "    ul = fvals[0]\n",
    "    ur = fvals[Nint - 1]\n",
    "    rhs = fvals[1 : Nint]\n",
    "    rhs[0] -=  ul*idx2 \n",
    "    rhs[Nint-2] -= ur*idx2 \n",
    "    \n",
    "    diag = -2 * epsilon * idx2 * np.ones( Nint - 1 )\n",
    "    diag[0] *= 1/3\n",
    "    diag[Nint - 2] *= 1/3\n",
    "    \n",
    "    diag += xvals[1 : Nint]\n",
    "    odiag = epsilon * idx2 * np.ones( Nint-1 )\n",
    "    \n",
    "    data = np.array( [ diag, odiag, odiag] )\n",
    "    dvals = np.array([0,-1,1])\n",
    "    Amat = spdiags(data, dvals, Nint-1, Nint-1)\n",
    "    Tvec = spsolve(Amat,rhs)\n",
    "    \n",
    "    return Tvec"
   ]
  },
  {
   "cell_type": "code",
   "execution_count": 22,
   "metadata": {},
   "outputs": [
    {
     "data": {
      "text/plain": [
       "[<matplotlib.lines.Line2D at 0x17d2aac2630>]"
      ]
     },
     "execution_count": 22,
     "metadata": {},
     "output_type": "execute_result"
    },
    {
     "data": {
      "image/png": "[encoded data removed]",
      "text/plain": [
       "<Figure size 432x288 with 1 Axes>"
      ]
     },
     "metadata": {
      "needs_background": "light"
     },
     "output_type": "display_data"
    }
   ],
   "source": [
    "cosPI = lambda x : np.cos(np.pi * x)\n",
    "fx = lambda x: np.exp(x)\n",
    "a = 0\n",
    "b = 10\n",
    "Nvals = int(1e4)\n",
    "epsilon = 1e-4\n",
    "xvals = np.linspace(a,b,int(Nvals+1))\n",
    "fvals = fx(xvals)\n",
    "\n",
    "plt.plot( xvals[1:Nvals] ,Discretize(a,b, cosPI(xvals), Nvals,fvals,epsilon ) )"
   ]
  },
  {
   "cell_type": "code",
   "execution_count": 4,
   "metadata": {},
   "outputs": [
    {
     "data": {
      "text/plain": [
       "<matplotlib.legend.Legend at 0x17d29530dd8>"
      ]
     },
     "execution_count": 4,
     "metadata": {},
     "output_type": "execute_result"
    },
    {
     "data": {
      "image/png": "[encoded data removed]",
      "text/plain": [
       "<Figure size 432x288 with 1 Axes>"
      ]
     },
     "metadata": {
      "needs_background": "light"
     },
     "output_type": "display_data"
    }
   ],
   "source": [
    "#1B)\n",
    "\n",
    "def eval_find(Nvls,xvals,epvl):\n",
    "    Nint = int(Nvls)\n",
    "    dx = xvals[Nint-1] - xvals[0] / Nint\n",
    "    idx2 = 1 / ( dx**2 )\n",
    "    \n",
    "    diag = -2 * epvl * idx2 * np.ones( Nint - 1 )\n",
    "    diag[0] *= 1/3\n",
    "    diag[Nint - 2] *= 1/3\n",
    "    diag += xvals[1 : Nint]\n",
    "    \n",
    "    odiag = epvl * idx2 * np.ones( Nint-1 )\n",
    "    odiag = epvl * idx2 * np.ones( Nint-1 )\n",
    "    \n",
    "    data = np.array( [ diag, odiag, odiag] )\n",
    "    dvals = np.array([0,-1,1])\n",
    "    Amat = spdiags(data, dvals, Nint-1, Nint-1)\n",
    "    eigenvalues, eigenvectors = eigsh(Amat,10,which='SM',mode='buckling')\n",
    "   \n",
    "    return eigenvalues # modify later to find appropriate eigenvectors \n",
    "\n",
    "Nvls = 100\n",
    "xvals = np.linspace(-1.,1.,Nvls+1)\n",
    "\n",
    "epsilon = 1\n",
    "tprofile = eval_find(Nvls,xvals, epsilon)\n",
    "plt.scatter(np.arange(tprofile.size),tprofile[:], label = '$\\epsilon = 1$')\n",
    "\n",
    "epsilon = .1\n",
    "tprofile = eval_find(Nvls,xvals, epsilon)\n",
    "plt.scatter(np.arange(tprofile.size),tprofile[:], label = '$\\epsilon = .1$')\n",
    "\n",
    "epsilon = .01\n",
    "tprofile = eval_find(Nvls,xvals, epsilon)\n",
    "plt.scatter(np.arange(tprofile.size),tprofile[:], label = '$\\epsilon = .01$')\n",
    "\n",
    "epsilon = .001\n",
    "tprofile = eval_find(Nvls,xvals, epsilon)\n",
    "plt.scatter(np.arange(tprofile.size),tprofile[:], label = '$\\epsilon = .001$')\n",
    "\n",
    "\n",
    "\n",
    "plt.xlabel(\"$n$\")\n",
    "plt.ylabel(\"$E_{n}$\")\n",
    "plt.legend(loc=\"best\")\n"
   ]
  },
  {
   "cell_type": "markdown",
   "metadata": {},
   "source": [
    "**Problem 2**: (20 pts) A more realistic way to describe the dynamics of temperature in a narrow corridor is via the _heat equation_, which is a partial differential equation describing how the temperature $T(x,t)$ changes in both space and time.  It is given by\n",
    "\n",
    "$$\n",
    "\\frac{\\partial T}{\\partial t} = k \\frac{\\partial^{2}T}{\\partial x^{2}}, ~ a\\leq x \\leq b\n",
    "$$\n",
    "\n",
    "where $k>0$ is the _thermal diffusion_ coefficient, and where we have the _oscillating_ boundary conditions \n",
    "\n",
    "$$\n",
    "\\left.\\frac{\\partial T(x,t)}{\\partial x}\\right|_{x=a} = \\frac{1-\\cos(t)}{2}\n",
    "$$\n",
    "\n",
    "and\n",
    "\n",
    "$$\n",
    "\\left.\\frac{\\partial T(x,t)}{\\partial x}\\right|_{x=b} = -\\sin(t), \n",
    "$$\n",
    "\n",
    "representing two heat flux sources at either end of the domain, such as might arise from the motion of the Sun throughout the day, allowing for cooling on one side and heating on the other, with their roles switching as the Sun moves from East to West.  We likewise have the initial temperature distribution\n",
    "\n",
    "$$\n",
    "T(x,0) = u(x).\n",
    "$$\n",
    "\n",
    "To numerically solve this, letting $x_{j}= a + j\\delta x$, $\\delta x = (b-a)/N$\n",
    "\n",
    "2a) Letting $T_{j}(t)=T(x_{j},t)$, show that the insulating boundary conditions are approximated by the finite-difference approximations:\n",
    "$$\n",
    "T_{0}(t) = \\frac{2}{3}\\left(2T_{1}(t)-\\frac{1}{2}T_{2}(t)\\right)-\\frac{2\\delta x}{3} \\frac{(1-\\cos(t))}{2}, ~ T_{N}(t) = \\frac{2}{3}\\left(2T_{N-1} - \\frac{1}{2}T_{N-2}(t)\\right)-\\frac{2\\delta x}{3} \\sin(t).  \n",
    "$$\n",
    "(Note, see Homework Ten).  \n",
    "2b) Using second-order centered-differencing approximations for the $\\partial^{2}T/\\partial{x^{2}}$ term, show that by discretizing in space, you get the following initial value problem\n",
    "\n",
    "$$\n",
    "\\frac{d{\\bf T}}{dt} = kA{\\bf T}, ~ {\\bf T}(t) = \\begin{pmatrix} T_{1}(t) \\\\ T_{2}(t) \\\\ \\cdots \\\\ T_{N-1}(t)\\end{pmatrix}, ~ {\\bf T}(0) = \\begin{pmatrix} u(x_{1}) \\\\ u(x_{2}) \\\\ \\cdots \\\\ u(x_{N-1})\\end{pmatrix}\n",
    "$$\n",
    "\n",
    "where $A$ is some $(N-1)\\times (N-1)$ sparse matrix.  What is $A$?  Is $A$ still symmetric?   \n",
    "\n",
    "2c) Using the Trapezoid Method, we can discretize in time so that if we use time step $\\delta t$, we get \n",
    "\n",
    "$$\n",
    "\\left(I - \\frac{\\delta t k}{2} A\\right){\\bf T}_{m+1} = \\left(I + \\frac{\\delta t k}{2} A\\right){\\bf T}_{m} + \\frac{\\delta t k}{2}\\left({\\bf f}_{m+1} + {\\bf f}_{m}\\right),\n",
    "$$\n",
    "\n",
    "where \n",
    "\n",
    "$$\n",
    "{\\bf T}_{m} = {\\bf T}(t_{m}) = \\begin{pmatrix} T(x_{1},t_{m}) \\\\ T(x_{2},t_{m}) \\\\ \\cdots \\\\ T(x_{N-1},t_{m})\\end{pmatrix}\n",
    "$$\n",
    "\n",
    "and\n",
    "\n",
    "$$\n",
    "{\\bf f}_{m} = \\frac{2}{3\\delta x}\\begin{pmatrix} -(1-\\cos(t_{m}))/2 \\\\ 0 \\\\ \\vdots \\\\ 0 \\\\ -\\sin(t_{m}) \\end{pmatrix}\n",
    "$$\n",
    "\n",
    "Using the code snippet below implement the above scheme to solve the heat equation.  Using the initial heat distribution\n",
    "\n",
    "$$\n",
    "u(x) = e^{-(x-5)^{2}}, ~ 0\\leq x \\leq 10,\n",
    "$$\n",
    "\n",
    "generate several plots which show for $0\\leq t \\leq 10$ how changing the thermal diffusion paramter $k$ from $k=1,10,100$ changes the behavior of the temperature.  Explain your results and comment on any interesting phenomena. "
   ]
  },
  {
   "cell_type": "markdown",
   "metadata": {},
   "source": [
    "2A)\n",
    "Let $BC$ = \"Boundary Conditions\"\n",
    "\\begin{align}\n",
    "\\frac{1}{\\delta x} \\left( \\frac{-3}{2} T_{0,m} + 2 T_{1,m} -  \\frac{1}{2} T_{2,m}\\right) & \\approx 0\n",
    "\\\\\n",
    "\\frac{1}{\\delta x} \\left( \\frac{-3}{2} T_{0,m} + 2 T_{1,m} -  \\frac{1}{2} T_{2,m}\\right) - BC & = 0\n",
    "\\\\\n",
    "\\frac{-3}{2 \\delta x} T_{0,m} + \\frac {2}{\\delta x} T_{1,m} -  \\frac{1}{2 \\delta x} T_{2,m} - BC & = 0\n",
    " \\\\\n",
    " \\frac{3}{2 \\delta x} T_{0,m} &=  \\left( \\frac {2}{\\delta x} T_{1,m} -  \\frac{1}{2 \\delta x} T_{2,m}\\right) - BC\n",
    " \\\\\n",
    " T_{0,m} &=  \\frac {2}{3} \\left( 2 T_{1,m} - \\frac {1}{2} T_{2,m} \\right) - \\frac {2 \\delta x}{3} BC\n",
    " \\\\\n",
    " BC \\text{ at } T_0 &= \\frac{1-\\cos(t)}{2}\n",
    " \\\\\n",
    "  T_{0,m} &=  \\frac {2}{3} \\left( 2 T_{1,m} - \\frac {1}{2} T_{2,m} \\right) - \\frac {2 \\delta x}{3} \\frac{1-\\cos(t)}{2}\n",
    "  \\\\\n",
    " \\end{align}\n",
    " \n",
    " Let $BC$ = \"Boundary Conditions\"\n",
    "\\begin{align}\n",
    "\\frac{-1}{\\delta x} \\left( \\frac{-3}{2} T_{N,m} + 2 T_{N-1,m} -  \\frac{1}{2} T_{N-2,m}\\right) & \\approx 0\n",
    "\\\\\n",
    "\\frac{-1}{\\delta x} \\left( \\frac{-3}{2} T_{N,m} + 2 T_{N-1,m} -  \\frac{1}{2} T_{N-2,m}\\right) - BC & = 0\n",
    "\\\\\n",
    "\\frac{3}{2 \\delta x} T_{N,m} - \\frac {2}{\\delta x} T_{N-1,m} + \\frac{1}{2 \\delta x} T_{N-2,m} - BC & = 0\n",
    " \\\\\n",
    " \\frac{3}{2 \\delta x} T_{N,m} &=  \\left( \\frac {2}{\\delta x} T_{N-1,m} -  \\frac{1}{2 \\delta x} T_{N-2,m}\\right) + BC\n",
    " \\\\\n",
    " T_{N,m} &=  \\frac {2}{3} \\left( 2 T_{N-1,m} - \\frac {1}{2} T_{N-2,m} \\right) + \\frac {2 \\delta x}{3} BC\n",
    " \\\\\n",
    " BC \\text{ at } T_N &= -\\sin (t)\n",
    " \\\\\n",
    "  T_{N,m} &=  \\frac {2}{3} \\left( 2 T_{N-1,m} - \\frac {1}{2} T_{N-2,m} \\right) - \\frac {2 \\delta x}{3}\\sin (t)\n",
    "  \\\\\n",
    " \\end{align}"
   ]
  },
  {
   "cell_type": "markdown",
   "metadata": {},
   "source": [
    "2B)\n",
    "Given A and $\\frac{\\delta T}{\\delta t}$\n",
    "\\begin{align}\n",
    "A &= \\frac {1}{(\\delta x)^2}\n",
    "\\begin{pmatrix} \n",
    "-2/3 &  & & & \\\\\n",
    "& -2 & & & \\\\\n",
    "& & \\ddots & & \\\\\n",
    "& & & -2 & \\\\\n",
    "& & & & -2/3 \\\\\n",
    "\\end {pmatrix}\n",
    "\\\\\n",
    "\\frac {\\partial T }{\\partial t} \n",
    "&= k \\frac {\\partial ^ 2 T}{\\partial x ^ 2} \n",
    "\\\\\\\\\n",
    "&= k \\frac {1}{(\\delta x)^2} \\left( \\frac{-2}{3}T_1 - 2 T_2 + ... + -2 T_{N-2} - \\frac{2}{3} T_{N-1}  \\right)\n",
    "\\\\\\\\\n",
    "&= k  \\frac {1}{(\\delta x)^2}\n",
    "\\begin{pmatrix} \n",
    "-2/3 &  & & & \\\\\n",
    "& -2 & & & \\\\\n",
    "& & \\ddots & & \\\\\n",
    "& & & -2 & \\\\\n",
    "& & & & -2/3 \n",
    "\\end {pmatrix}\n",
    "\\begin{pmatrix}\n",
    "T_1 \\\\\n",
    "T_2 \\\\\n",
    "\\vdots \\\\\n",
    "T_{N-2} \\\\\n",
    "T_{N-1}\n",
    "\\end{pmatrix}\n",
    "\\\\\n",
    "&= kAT\n",
    "\\end{align}\n"
   ]
  },
  {
   "cell_type": "code",
   "execution_count": 5,
   "metadata": {},
   "outputs": [
    {
     "data": {
      "image/png": "[encoded data removed]",
      "text/plain": [
       "<Figure size 432x288 with 2 Axes>"
      ]
     },
     "metadata": {
      "needs_background": "light"
     },
     "output_type": "display_data"
    }
   ],
   "source": [
    "#2C)\n",
    "\n",
    "def heat_eq_solver(k,u0,Nvls,dx,dt,t0,tf):    \n",
    "    Nint = int(Nvls)\n",
    "    nsteps = int(np.round((tf-t0)/dt))\n",
    "    Tsol = np.zeros((Nvls-1,nsteps+1)) # build a matrix to store our solution \n",
    "    Tsol[:,0] = u0\n",
    "    idx2 = 1./(dx**2.)\n",
    "    diag = -2.*np.ones(Nvls-1)\n",
    "    udiag = np.ones(Nvls-1)\n",
    "    ldiag = np.ones(Nvls-1)\n",
    "    diag[0] = -2/3\n",
    "    diag[Nvls-2] = -2/3\n",
    "    udiag[1] = 2/3\n",
    "    ldiag[Nvls-3] = 2/3\n",
    "    data = np.array([diag,ldiag,udiag])\n",
    "    dvals = np.array([0,-1,1])\n",
    "    Amat = idx2*spdiags(data, dvals, Nvls-1, Nvls-1)\n",
    "    Lp = sid(Nvls-1) + dt*k*Amat/2.\n",
    "    Lm = sid(Nvls-1) - dt*k*Amat/2.\n",
    "    for mm in range(0,nsteps):\n",
    "        fm = np.zeros(nsteps) \n",
    "        t = np.zeros(nsteps)\n",
    "        t[mm] = t0 + dt\n",
    "        t0 = t[mm]\n",
    "        \n",
    "        fm[0] = ( 2 / (3*dx) ) * ( -1*( 1 - np.cos(t[mm]) / 2 ) )\n",
    "        fm[Nint - 2] = ( 2 / (3*dx) ) * ( - np.sin(t[mm]) )\n",
    "        \n",
    "        addTerm = (dt * k / 2) * (fm[mm] + fm[mm-1])\n",
    "        Tsol[:,mm+1] = spsolve(Lm,Lp*Tsol[:,mm]+addTerm)\n",
    "    return Tsol\n",
    "\n",
    "Nvls = int(1e2)\n",
    "xvals = np.linspace(0.,10.,Nvls+1)\n",
    "xvalsc = xvals[1:Nvls]\n",
    "dx = 10./Nvls\n",
    "dt = 1e-1\n",
    "t0 = 0.\n",
    "tf = 10.\n",
    "k = 1.\n",
    "NT = int(np.round(tf/dt))\n",
    "\n",
    "u0 = np.exp(-(xvals[1:Nvls]-5.)**2.)\n",
    "Tsol = heat_eq_solver(k,u0,Nvls,dx,dt,t0,tf)\n",
    "\n",
    "plt.subplot(2,1,1)\n",
    "plt.plot(xvalsc,Tsol[:,0])\n",
    "plt.xlabel('$x$')\n",
    "plt.ylabel('$T(x,0)$')\n",
    "\n",
    "plt.subplot(2,1,2)\n",
    "plt.plot(xvalsc,Tsol[:,99])\n",
    "plt.xlabel('$x$')\n",
    "plt.ylabel('$T(x,t_{f})$')\n",
    "\n",
    "plt.tight_layout()"
   ]
  },
  {
   "cell_type": "code",
   "execution_count": 6,
   "metadata": {
    "scrolled": true
   },
   "outputs": [
    {
     "data": {
      "image/png": "[encoded data removed]",
      "text/plain": [
       "<Figure size 432x288 with 2 Axes>"
      ]
     },
     "metadata": {
      "needs_background": "light"
     },
     "output_type": "display_data"
    }
   ],
   "source": [
    "Nvls = int(1e2)\n",
    "xvals = np.linspace(0.,10.,Nvls+1)\n",
    "xvalsc = xvals[1:Nvls]\n",
    "dx = 10./Nvls\n",
    "dt = 1e-1\n",
    "t0 = 0.\n",
    "tf = 10.\n",
    "k = 10\n",
    "NT = int(np.round(tf/dt))\n",
    "\n",
    "u0 = np.exp(-(xvals[1:Nvls]-5.)**2.)\n",
    "Tsol = heat_eq_solver(k,u0,Nvls,dx,dt,t0,tf)\n",
    "\n",
    "plt.subplot(2,1,1)\n",
    "plt.plot(xvalsc,Tsol[:,0])\n",
    "plt.xlabel('$x$')\n",
    "plt.ylabel('$T(x,0)$')\n",
    "\n",
    "plt.subplot(2,1,2)\n",
    "plt.plot(xvalsc,Tsol[:,99])\n",
    "plt.xlabel('$x$')\n",
    "plt.ylabel('$T(x,t_{f})$')\n",
    "\n",
    "plt.tight_layout()"
   ]
  },
  {
   "cell_type": "code",
   "execution_count": 7,
   "metadata": {},
   "outputs": [
    {
     "data": {
      "image/png": "[encoded data removed]",
      "text/plain": [
       "<Figure size 432x288 with 2 Axes>"
      ]
     },
     "metadata": {
      "needs_background": "light"
     },
     "output_type": "display_data"
    }
   ],
   "source": [
    "Nvls = int(1e2)\n",
    "xvals = np.linspace(0.,10.,Nvls+1)\n",
    "xvalsc = xvals[1:Nvls]\n",
    "dx = 10./Nvls\n",
    "dt = 1e-1\n",
    "t0 = 0.\n",
    "tf = 10.\n",
    "k = 100\n",
    "NT = int(np.round(tf/dt))\n",
    "\n",
    "u0 = np.exp(-(xvals[1:Nvls]-5.)**2.)\n",
    "Tsol = heat_eq_solver(k,u0,Nvls,dx,dt,t0,tf)\n",
    "\n",
    "plt.subplot(2,1,1)\n",
    "plt.plot(xvalsc,Tsol[:,0])\n",
    "plt.xlabel('$x$')\n",
    "plt.ylabel('$T(x,0)$')\n",
    "\n",
    "plt.subplot(2,1,2)\n",
    "plt.plot(xvalsc,Tsol[:,99])\n",
    "plt.xlabel('$x$')\n",
    "plt.ylabel('$T(x,t_{f})$')\n",
    "\n",
    "plt.tight_layout()"
   ]
  },
  {
   "cell_type": "markdown",
   "metadata": {},
   "source": [
    "**Problem 3** (10pts): A method for solving the matrix problem \n",
    "\n",
    "$$\n",
    "A{\\bf x} = {\\bf b}\n",
    "$$\n",
    "\n",
    "where $A$ is an $n\\times n$ matrix, and ${\\bf x},{\\bf b} \\in \\mathbb{R}^{n}$, goes as follows.  \n",
    "\n",
    "* Write $A = D + R$, where $D$ is the diagonal of $A$, and $R= A-D$ is everything not on the diagonal of $A$.\n",
    "* Given an initial choice of ${\\bf x}_{0}$, define the iterative scheme \n",
    "$$\n",
    "{\\bf x}_{k+1} = D^{-1}\\left({\\bf b} - R{\\bf x}_{k} \\right), ~ k\\geq 0.  \n",
    "$$\n",
    "* For a user defined tolerance $tol$, stop when \n",
    "$$\n",
    "\\left|\\left|{\\bf x}_{k+1} - {\\bf x}_{k} \\right|\\right|_{2} < tol.  \n",
    "$$\n",
    "\n",
    "Given this method then, \n",
    "\n",
    "* Complete the code skeleton below.  \n",
    "* Using the matrices generated by Problem 1, test your code on several different sized matrices, say where $n=10, ~100, ~200$.  Likewise choose ${\\bf b}$ to be random vectors of size $10$, $100$, and $200$.  For the $tol$ values of $tol=10^{-4}$ and $tol=10^{-8}$, compare the results of your method to those you get using `spsolve`.  Do you see any variation in the accuracy of your results due to the change in size of the dimension of the problem?    \n",
    "* For $n=200$, numerically determine the rate of convergence of this method, i.e. find $\\alpha$ where\n",
    "$$\n",
    "\\lim_{k\\rightarrow \\infty}\\frac{\\left|\\left|{\\bf x}_{k+1}-{\\bf x}_{\\ast}\\right|\\right|_{2}}{\\left|\\left|{\\bf x}_{k}-{\\bf x}_{\\ast}\\right|\\right|^{\\alpha}_{2}} = \\lambda\n",
    "$$\n",
    "and where\n",
    "$$\n",
    "A{\\bf x}_{\\ast} \\approx {\\bf b},\n",
    "$$\n",
    "in other words ${\\bf x}_{\\ast}$ is the exact solution, or your best approximation to it.  "
   ]
  },
  {
   "cell_type": "code",
   "execution_count": 8,
   "metadata": {},
   "outputs": [],
   "source": [
    "def iter_solver(A,b,x0,tol):\n",
    "    Da = np.diag(A) # returns the diagonal entries of A as an array\n",
    "    diag0 = np.zeros(Da.size - 1)\n",
    "    data = np.array( [ Da, diag0, diag0] )\n",
    "    dvals = np.array([0,-1,1])\n",
    "    Amat = spdiags(data, dvals, Da.size, Da.size)\n",
    "    Rmat = A - Amat\n",
    "    \n",
    "    x1 = (b - np.matmul(Rmat,x0))/Da # I can just divide by an array, because that's all the inverse of a diagonal matrix really asks of us.\n",
    "    x = np.array([x0,x1])\n",
    "    while np.linalg.norm(x1-x0,2) >= tol: # the norm based tolerance condition, free of charge \n",
    "        x0 = x1\n",
    "        x1 = (b - np.matmul(Rmat,x0))/Da\n",
    "        x = np.append(x,x1)\n",
    "    return x\n",
    "\n",
    "btn = np.random.randn(10) # generate a random vector of 10 entries\n",
    "bhn = np.random.randn(100) \n",
    "btwh = np.random.randn(200) \n",
    "# and I leave the rest to your capable hands.  \n",
    "# It's been a great semester.  Have a great break and happy holidays. "
   ]
  },
  {
   "cell_type": "code",
   "execution_count": null,
   "metadata": {},
   "outputs": [],
   "source": []
  }
 ],
 "metadata": {
  "kernelspec": {
   "display_name": "Python 3",
   "language": "python",
   "name": "python3"
  },
  "language_info": {
   "codemirror_mode": {
    "name": "ipython",
    "version": 3
   },
   "file_extension": ".py",
   "mimetype": "text/x-python",
   "name": "python",
   "nbconvert_exporter": "python",
   "pygments_lexer": "ipython3",
   "version": "3.7.3"
  }
 },
 "nbformat": 4,
 "nbformat_minor": 2
}
