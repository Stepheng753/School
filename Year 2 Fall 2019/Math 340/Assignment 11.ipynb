{
 "cells": [
  {
   "cell_type": "code",
   "execution_count": 1,
   "metadata": {},
   "outputs": [],
   "source": [
    "import numpy as np\n",
    "import matplotlib.pyplot as plt\n",
    "from scipy.sparse import spdiags\n",
    "from scipy.sparse.linalg import spsolve\n",
    "from scipy.sparse.linalg import eigsh\n",
    "from scipy.sparse import identity as sid\n",
    "%matplotlib inline"
   ]
  },
  {
   "cell_type": "code",
   "execution_count": 2,
   "metadata": {},
   "outputs": [],
   "source": [
    "def secant_method(f,x0,x1,tol):\n",
    "    f0 = f(x0)\n",
    "    f1 = f(x1)\n",
    "    x2 = x1 - f1*(x1-x0)/(f1-f0)\n",
    "    while np.abs(x2-x1)>=tol:\n",
    "        x0 = x1\n",
    "        x1 = x2\n",
    "        f0 = f1\n",
    "        f1 = f(x1)\n",
    "        x2 = x1 - f1*(x1-x0)/(f1-f0)\n",
    "    return x2"
   ]
  },
  {
   "cell_type": "markdown",
   "metadata": {},
   "source": [
    "# DUE 12/11/19"
   ]
  },
  {
   "cell_type": "markdown",
   "metadata": {},
   "source": [
    "**Problem 1**: (10pts) In quantum mechanics, it is really common to see boundary value problems of the form \n",
    "\n",
    "$$\n",
    "-\\epsilon\\frac{d^{2}y}{dx^2} + |x|y = Ey, ~ y(-1) = 0, ~ y(1)=0.\n",
    "$$\n",
    "\n",
    "where $0\\leq \\epsilon \\ll 1$, i.e. we let $\\epsilon$ be a small positive parameter.  $E\\geq 0$ is the _energy_ of a particle trapped in a potential well $V(x) = |x|$, which is formed by using two interferring electric fields.  We desribe the probability of a particle being in the interval $[-1,a]$, $a<1$ via the formula\n",
    "\n",
    "$$\n",
    "P(-1\\leq x \\leq a) = \\int_{-1}^{a} \\tilde{y}(x), ~ \\tilde{y}(x) = \\frac{y^{2}(x)}{\\int_{-1}^{1}y^{2}(x)dx}\n",
    "$$\n",
    "\n",
    "1a) Using second-order centered-difference approximations and spdiags, write code which discretizes the operator $-\\epsilon\\frac{d^{2}y}{dx^2} + |x|y\\approx A{\\bf y}$, where ${\\bf y}=\\left(y_{1} ~y_{2}\\cdots y_{N-1}\\right)^{T}$, $y_{j}=y(x_{j})$.\n",
    "\n",
    "1b) You have now formed a discrete eigenvalue problem $A{\\bf y} = E{\\bf y}$.  Using the code below find the first 10 eigenvalues of the discretized equations.  For $\\epsilon=1,.1,.01$ and $.001$, describe via a well designed plot how the first ten energy levels change as you decrease $\\epsilon$.  This is known in the literature as a _semi-classical limit_.\n",
    "\n",
    "1c) For $\\epsilon=.01$, compare the associated probability distributions $\\tilde{y}(x)$ for the first three energy levels.  How do the likelihoods of where a particle would be found change with changing energy?   "
   ]
  },
  {
   "cell_type": "markdown",
   "metadata": {},
   "source": [
    "\\begin{align}\n",
    "&-\\epsilon y''(x)+|x|y=Ey \n",
    "\\\\\n",
    "&\\delta x = \\frac{b-a}{N} \n",
    "\\\\\n",
    "& j = 0,...,N\n",
    "\\\\\\\\\n",
    "y''(x_j) &\\approx \\frac{y(x_{j-1})-2y(x_j)+y(x_{j+1})}{(\\delta x)^2}\n",
    "\\\\\n",
    "A{\\bf y} &\\approx -\\epsilon y''(x_j)+|x_j|y(x_j)\n",
    "\\\\\n",
    "& = \\frac{-\\epsilon y(x_{j-1})+2\\epsilon y(x_j)-\\epsilon y(x_{j+1})}{(\\delta x)^2}+|x_j|y(x_j)\n",
    "\\\\\n",
    "& =-\\frac{\\epsilon}{(\\delta x)^2}y(x_{j-1})+\\frac{2\\epsilon}{(\\delta x)^2}y(x_j)-\\frac{\\epsilon}{(\\delta x)^2}y(x_{j+1})+|x_j|y(x_j)\n",
    "\\\\\n",
    "& = -\\frac{\\epsilon}{(\\delta x)^2}y(x_{j-1})+\\left(\\frac{2\\epsilon}{(\\delta x)^2}+|x_j|\\right)y(x_j)-\\frac{\\epsilon}{(\\delta x)^2}y(x_{j+1})\n",
    "\\end{align}\n",
    "\n",
    "$$A{\\bf y} \\approx\n",
    "\\begin{pmatrix} \n",
    "\\frac{2\\epsilon}{(\\delta x)^2}+|x_1| & -\\frac{\\epsilon}{(\\delta x)^2}\n",
    "\\\\\n",
    "-\\frac{\\epsilon}{(\\delta x)^2} \n",
    "& \\frac{2\\epsilon}{(\\delta x)^2}+|x_2| & -\\frac{\\epsilon}{(\\delta x)^2}\n",
    "\\\\\n",
    " &&\\ddots \n",
    " \\\\\n",
    "& & -\\frac{\\epsilon}{(\\delta x)^2} \n",
    "& \\frac{2\\epsilon}{(\\delta x)^2}+|x_{N-2}| \n",
    "& -\\frac{\\epsilon}{(\\delta x)^2}\n",
    "\\\\\n",
    "& & & -\\frac{\\epsilon}{(\\delta x)^2} \n",
    "& \\frac{2\\epsilon}{(\\delta x)^2}+|x_{N-1}|\n",
    "\\end{pmatrix} +\n",
    "\\begin{pmatrix} \n",
    "y_1 \\\\ \n",
    "y_2 \\\\ \n",
    "\\vdots \\\\ \n",
    "y_{N-2} \\\\ \n",
    "y_{N-1} \n",
    "\\end{pmatrix}$$"
   ]
  },
  {
   "cell_type": "code",
   "execution_count": 4,
   "metadata": {},
   "outputs": [],
   "source": [
    "#1A\n",
    "\n",
    "def findY( a, b, Nvals, fvals, yn1, y1, epsilon, xvals):\n",
    "    Nint = int(Nvals)\n",
    "    dx = (b-a)/Nvls\n",
    "    idx2 = 1/(dx**2)\n",
    "    edx2 = -epsilon*idx2\n",
    "   \n",
    "    rhs = fvals[1:Nint]\n",
    "    rhs[0] -= yn1*idx2\n",
    "    rhs[Nint-2] -= y1*idx2\n",
    "   \n",
    "    diag = -2.*edx2*np.ones(Nint-1)\n",
    "    adiag = np.ones(Nvals-1) \n",
    "    for j in range(0,Nvals-2):\n",
    "        adiag[j] *= np.abs(xvals[j+1])\n",
    "        diag[j] += adiag[j]\n",
    "    odiag = edx2*np.ones(Nint-1)\n",
    "    data = np.array([diag,odiag,odiag])\n",
    "    dvals = np.array([0,-1,1])\n",
    "    Amat = spdiags(data, dvals, Nint-1, Nint-1)\n",
    "    yvec = spsolve(Amat,rhs)\n",
    "   \n",
    "    return yvec"
   ]
  },
  {
   "cell_type": "code",
   "execution_count": 5,
   "metadata": {},
   "outputs": [],
   "source": [
    "#1B\n",
    "\n",
    "def eval_find(Nvls,xvals,epvl):\n",
    "    Nint = int(Nvls)\n",
    "    dx = (xvals[Nint]-xvals[0])/Nint\n",
    "    idx2 = 1./(dx*dx)\n",
    "    \n",
    "    diag = -2*epvl*idx2 * np.ones(Nint - 1)+ np.abs(xvals[1:Nint])\n",
    "    odiag = epvl*idx2*np.ones(Nint-1)\n",
    "    data = np.array([diag,odiag,odiag])\n",
    "    dvals = np.array([0,-1,1])\n",
    "    Amat = spdiags(data, dvals, Nint-1, Nint-1)\n",
    "    eigenvalues, eigenvectors = eigsh(Amat,10,which='SM',mode='buckling')  \n",
    "   \n",
    "    return eigenvalues "
   ]
  },
  {
   "cell_type": "code",
   "execution_count": 7,
   "metadata": {},
   "outputs": [
    {
     "data": {
      "text/plain": [
       "<matplotlib.legend.Legend at 0x23c5025ca90>"
      ]
     },
     "execution_count": 7,
     "metadata": {},
     "output_type": "execute_result"
    },
    {
     "data": {
      "image/png": "[encoded data removed]",
      "text/plain": [
       "<Figure size 432x288 with 1 Axes>"
      ]
     },
     "metadata": {
      "needs_background": "light"
     },
     "output_type": "display_data"
    }
   ],
   "source": [
    "Nvls = 2000\n",
    "xvals = np.linspace(-1.,1.,Nvls+1)\n",
    "\n",
    "tprofile1 = eval_find(Nvls,xvals,1)\n",
    "plt.scatter(np.arange(tprofile1.size),tprofile1[0:2001],label=\"$\\epsilon=1$\")\n",
    "plt.xlabel(\"$n$\")\n",
    "plt.ylabel(\"$E_{n}$\")\n",
    "\n",
    "tprofile2 = eval_find(Nvls,xvals,.1)\n",
    "plt.scatter(np.arange(tprofile2.size),tprofile2[0:2001],label=\"$\\epsilon=.1$\")\n",
    "\n",
    "tprofile3 = eval_find(Nvls,xvals,.01)\n",
    "plt.scatter(np.arange(tprofile3.size),tprofile3[0:2001],label=\"$\\epsilon=.01$\")\n",
    "\n",
    "tprofile4 = eval_find(Nvls,xvals,.001)\n",
    "plt.scatter(np.arange(tprofile4.size),tprofile4[0:2001],label=\"$\\epsilon=.001$\")\n",
    "\n",
    "plt.legend(loc=\"best\")"
   ]
  },
  {
   "cell_type": "markdown",
   "metadata": {},
   "source": [
    "## Differential Equations in Time: A crash course\n",
    "\n",
    "So, differential equations are equations involving a derivative.  They can be scalar problems like\n",
    "\n",
    "$$\n",
    "\\frac{dy}{dt} = f(y,t), ~ y(t_{0}) = y_{0}\n",
    "$$\n",
    "\n",
    "or vector problems like\n",
    "\n",
    "$$\n",
    "\\frac{d{\\bf y}}{dt} = {\\bf F}({\\bf y},t), ~ {\\bf y}(t_{0}) = {\\bf y}_{0} \\in \\mathbb{R}^{n}.\n",
    "$$\n",
    "\n",
    "The condition $y(t_{0}) = y_{0}$ is called an _initial condition_.  \n",
    "\n",
    "Some differential equations are easy to solve.  For example, if I ask you to solve \n",
    "\n",
    "$$\n",
    "\\frac{dy}{dt} = \\lambda y, ~ y(t_{0}) = y_{0},\n",
    "$$\n",
    "\n",
    "we see almost by inspection that $y(t) = y_{0}e^{\\lambda(t-t_{0})}$ solves the problem.  We can find this solution more systematically by seperating the equation.  In other words, we take \n",
    "\n",
    "$$\n",
    "\\frac{dy}{dt} = \\lambda y,\n",
    "$$\n",
    "\n",
    "and turn it into \n",
    "\n",
    "$$\n",
    "\\frac{dy}{y} = \\lambda dt.\n",
    "$$\n",
    "\n",
    "We then integrate both sides in the following way\n",
    "\n",
    "$$\n",
    "\\int\\frac{d y}{y} = \\lambda\\int dt.\n",
    "$$\n",
    "\n",
    "so that we find\n",
    "\n",
    "$$\n",
    "\\ln\\left|y(t)\\right| = \\lambda t + C,\n",
    "$$\n",
    "\n",
    "or \n",
    "\n",
    "$$\n",
    "y(t) = \\tilde{C}e^{\\lambda t}, ~ \\tilde{C} = e^{C}.\n",
    "$$\n",
    "\n",
    "Using the initial condition gives us $\\tilde{C}=y_{0}e^{-\\lambda t_{0}}$ and thus we have $y(t) = y_{0}e^{\\lambda(t-t_{0})}$.\n",
    "\n",
    "In general however, this trick does not work for very many differential equations of interest.  For example, the differential equation\n",
    "\n",
    "$$\n",
    "\\frac{dy}{dt} = \\cos(ty), ~ y(t_{0}) = y_{0},\n",
    "$$\n",
    "\n",
    "does not allow for separation between $y$ and $t$ since they are coupled inside the $\\cos(ty)$ term.  \n",
    "\n",
    "Thus, we turn to numerics.  Suppose I want a solution to the scalar initial-value problem \n",
    "\n",
    "$$\n",
    "\\frac{dy}{dt} = f(y,t), ~ y(t_{0}) = y_{0}\n",
    "$$\n",
    "\n",
    "for $t_{0}\\leq t$.  I can then discretize the time so that I can try to interpolate my solution $y(t)$ at the discrete times $t_{j} = t_{0} + j\\delta t$, $j=0,1,\\cdots$.  Thus, if we work between the times $t_{n}$ and $t_{n+1} = t_{n} + \\delta t$, we see that \n",
    "\n",
    "$$\n",
    "\\int_{t_{n}}^{t_{n+1}}\\frac{dy}{dt}dt = \\int_{t_{n}}^{t_{n+1}}f(y(t),t) dt,\n",
    "$$\n",
    "\n",
    "and so by integrating the left side and rearranging, we have that \n",
    "\n",
    "$$\n",
    "y_{n+1} = y_{n} + \\int_{t_{n}}^{t_{n+1}}f(y(t),t) dt,\n",
    "$$\n",
    "\n",
    "where $y_{n} = y(t_{n})$ and $y_{n+1} = y(t_{n+1})$.  Thus, by using different interpolatory approximations to the integral, we find different discretizations of the differential equation.  For example\n",
    "\n",
    "* $f(y(t),t)\\approx f(y_{n},t_{n})$ so $\\int_{t_{n}}^{t_{n+1}}f(y(t),t) dt \\approx \\delta t f(y_{n},t_{n})$.\n",
    "\n",
    "* $f(y(t),t)\\approx f(y_{n+1},t_{n+1})$ so $\\int_{t_{n}}^{t_{n+1}}f(y(t),t) dt \\approx \\delta t f(y_{n+1},t_{n+1})$.\n",
    "\n",
    "* $f(y(t),t)\\approx \\frac{f(y_{n+1},t_{n+1})-f(y_{n},t_{n})}{\\delta t}(t-t_{n}) + f(y_{n},t_{n})$, so $\\int_{t_{n}}^{t_{n+1}}f(y(t),t) dt \\approx \\frac{\\delta t}{2} \\left( f(y_{n+1},t_{n+1}) + f(y_{n},t_{n})\\right)$.\n",
    "\n",
    "We then get the following methods for numerically solving the differential equation\n",
    "\n",
    "* Foward Euler's Method: $y_{n+1} = y_{n} + \\delta t f(y_{n},t_{n})$.\n",
    "* Backward Euler's Method: $y_{n+1} = y_{n} + \\delta t f(y_{n+1},t_{n+1})$.\n",
    "* Trapezoid Method: $y_{n+1} = y_{n} + \\frac{\\delta t}{2}\\left(f(y_{n},t_{n}) + f(y_{n+1},t_{n+1})\\right)$.\n",
    "\n",
    "The first method is called _explicit_ since we can find $y_{n+1}$ in terms of $y_{n}$ directly, whereas the next two methods are called _implicit_ since we have to solve for $y_{n+1}$ at each time step in order to move the method forward.  Thus, the implicit methods need a root finder in order to work in general.  See the code below for implementations of both Forward and Backward Euler in order to solve \n",
    "\n",
    "$$\n",
    "\\frac{dy}{dt} = \\cos(ty), ~ y(0) = 10,\n",
    "$$\n",
    "\n",
    "for $0\\leq t \\leq 10$."
   ]
  },
  {
   "cell_type": "code",
   "execution_count": 9,
   "metadata": {},
   "outputs": [
    {
     "data": {
      "text/plain": [
       "<matplotlib.legend.Legend at 0x23c503955c0>"
      ]
     },
     "execution_count": 9,
     "metadata": {},
     "output_type": "execute_result"
    },
    {
     "data": {
      "image/png": "[encoded data removed]",
      "text/plain": [
       "<Figure size 432x288 with 1 Axes>"
      ]
     },
     "metadata": {
      "needs_background": "light"
     },
     "output_type": "display_data"
    }
   ],
   "source": [
    "def forward_euler(f,dt,t0,tf,y0):\n",
    "    nsteps = int(np.round((tf-t0)/dt))\n",
    "    ysol = np.zeros(nsteps+1)\n",
    "    times = np.zeros(nsteps+1)\n",
    "    ysol[0] = y0\n",
    "    times[0] = t0\n",
    "    for jj in range(1,nsteps+1):\n",
    "        ysol[jj] = ysol[jj-1] + dt*f(times[jj-1],ysol[jj-1])\n",
    "        times[jj] = times[jj-1] + dt\n",
    "    return np.array([times,ysol])\n",
    "\n",
    "def backward_euler(f,dt,t0,tf,y0):\n",
    "    nsteps = int(np.round((tf-t0)/dt))\n",
    "    ysol = np.zeros(nsteps+1)\n",
    "    times = np.zeros(nsteps+1)\n",
    "    ysol[0] = y0\n",
    "    times[0] = t0\n",
    "    for jj in range(1,nsteps+1):\n",
    "        times[jj] = times[jj-1] + dt\n",
    "        floc = lambda y: (y-ysol[jj-1])-dt*f(times[jj],y)\n",
    "        ysol[jj] = secant_method(floc,ysol[jj-1]/2.,ysol[jj-1],1e-6) # Note, we need a root finder for the implicit scheme.\n",
    "    return np.array([times,ysol])\n",
    "\n",
    "myf = lambda t,y: np.cos(t*y)\n",
    "t0 = 0.\n",
    "tf = 10.\n",
    "y0 = 10.\n",
    "\n",
    "dt = .1\n",
    "feuler_sol = forward_euler(myf,dt,t0,tf,y0)\n",
    "beuler_sol = backward_euler(myf,dt,t0,tf,y0)\n",
    "\n",
    "plt.plot(feuler_sol[0][:],feuler_sol[1][:],color='r',label=\"Forward Euler\")\n",
    "plt.plot(beuler_sol[0][:],beuler_sol[1][:],color='k',label=\"Backward Euler\")\n",
    "plt.xlabel(\"$t$\")\n",
    "plt.ylabel(\"$y(t)$\")\n",
    "plt.legend(loc='best')"
   ]
  },
  {
   "cell_type": "code",
   "execution_count": 10,
   "metadata": {},
   "outputs": [
    {
     "data": {
      "text/plain": [
       "<matplotlib.legend.Legend at 0x23c503a3c88>"
      ]
     },
     "execution_count": 10,
     "metadata": {},
     "output_type": "execute_result"
    },
    {
     "data": {
      "image/png": "[encoded data removed]",
      "text/plain": [
       "<Figure size 432x288 with 1 Axes>"
      ]
     },
     "metadata": {
      "needs_background": "light"
     },
     "output_type": "display_data"
    }
   ],
   "source": [
    "dt = .01\n",
    "feuler_sol = forward_euler(myf,dt,t0,tf,y0)\n",
    "beuler_sol = backward_euler(myf,dt,t0,tf,y0)\n",
    "\n",
    "plt.plot(feuler_sol[0][:],feuler_sol[1][:],color='r',label=\"Forward Euler\")\n",
    "plt.plot(beuler_sol[0][:],beuler_sol[1][:],color='k',label=\"Backward Euler\")\n",
    "plt.xlabel(\"$t$\")\n",
    "plt.ylabel(\"$y(t)$\")\n",
    "plt.legend(loc='best')"
   ]
  },
  {
   "cell_type": "markdown",
   "metadata": {},
   "source": [
    "Looking at our examples then, we see that we get markedly different results when we choose $\\delta t = .01$ vs $\\delta t = .1$.  Overall, we see that the change in the Forward Euler method is far more dramatic as we decrease the step size than for the Backward Euler method.  Thus, while the Backward Euler method is more computationally intensive since we need to use a root finder to update the method at each time step, we also can get away with using a much larger time step.   "
   ]
  },
  {
   "cell_type": "markdown",
   "metadata": {},
   "source": [
    "**Problem 2**: (10 pts)\n",
    "\n",
    "2a) Implement the Trapezoid method and then compare the results from the Forward Euler, Backward Euler, and Trapezoid Method for the test problem\n",
    "$$\n",
    "\\frac{dy}{dt} = \\lambda y, ~ y(0) = 1, ~ 0\\leq t \\leq 1.\n",
    "$$\n",
    "Develop test cases for $\\lambda < 0$ and $\\lambda >0$.  Using the exact solution described above, determine the order of error of each method.  Describe the behavior of the solutions and their accuracy as you vary $\\delta t$ in the different methods.  Note, for this problem, we see that we do not need a root finder for the implicit schemes since \n",
    "\n",
    "Backward Euler: $y_{n+1} = y_{n}+\\delta t \\lambda y_{n+1}$ so $y_{n+1} = \\frac{y_{n}}{1-\\lambda \\delta t} = \\left(\\frac{1}{1-\\lambda \\delta t} \\right)^{n+1}y_{0}$\n",
    "\n",
    "Trapezoid: $y_{n+1} = y_{n}+\\frac{\\lambda\\delta t}{2} \\left(y_{n+1}+y_{n}\\right)$ so $y_{n+1} = \\frac{1+\\lambda \\delta t/2}{1-\\lambda \\delta t/2}y_{n} = \\left(\\frac{1+\\lambda \\delta t/2}{1-\\lambda \\delta t/2} \\right)^{n+1}y_{0}$.\n",
    "\n",
    "2b) For the differential equation \n",
    "$$\n",
    "\\frac{dy}{dt} = \\cos(y), ~ y(0) = 10, ~ 0\\leq t \\leq 10,\n",
    "$$\n",
    "find an exact solution using the fact that the problem is seperable. Then solve it using the Trapezoid Method.  Again, determine the order of error of the method and comment on how the numerical solution changes with step size $\\delta t$. \n",
    "\n",
    "2c) For the differential equation\n",
    "$$\n",
    "\\frac{dy}{dt} = \\cos(ty), ~ y(0) = 10, ~ 0\\leq t \\leq 10,\n",
    "$$\n",
    "solve it using the Trapezoid method.  How does your solution compare in behavior to that you found in $2b$?  Explore several choices of step size $\\delta t$ and determine the relative strengths and weaknesses of all three different approaches. In particular, which method allows for the largest time step $\\delta t$ such that you get believable results?\n",
    "\n"
   ]
  },
  {
   "cell_type": "code",
   "execution_count": 11,
   "metadata": {},
   "outputs": [
    {
     "name": "stdout",
     "output_type": "stream",
     "text": [
      "trapezoid method for lambda = -1: 0.632121\n",
      "[[0.00000000e+00 1.00000000e-03 2.00000000e-03 ... 9.98000000e-01\n",
      "  9.99000000e-01 1.00000000e+00]\n",
      " [1.00000000e+00 9.99000000e-01 9.98001000e-01 ... 3.68431920e-01\n",
      "  3.68063488e-01 3.67695425e-01]]\n",
      "[[0.00000000e+00 1.00000000e-03 2.00000000e-03 ... 9.98000000e-01\n",
      "  9.99000000e-01 1.00000000e+00]\n",
      " [1.00000000e+00 9.99000999e-01 9.98002996e-01 ... 3.68799799e-01\n",
      "  3.68431368e-01 3.68063304e-01]]\n",
      "\n",
      "trapezoid method for lambda = 1: 1.718282\n",
      "[[0.00000000e+00 1.00000000e-03 2.00000000e-03 ... 9.98000000e-01\n",
      "  9.99000000e-01 1.00000000e+00]\n",
      " [1.00000000e+00 1.00100000e+00 1.00200100e+00 ... 2.71149822e+00\n",
      "  2.71420972e+00 2.71692393e+00]]\n",
      "[[0.00000000e+00 1.00000000e-03 2.00000000e-03 ... 9.98000000e-01\n",
      "  9.99000000e-01 1.00000000e+00]\n",
      " [1.00000000e+00 1.00100100e+00 1.00200300e+00 ... 2.71420565e+00\n",
      "  2.71692257e+00 2.71964222e+00]]\n"
     ]
    }
   ],
   "source": [
    "#2A\n",
    "\n",
    "def trapezoid_method(a,b,N,f):\n",
    "    Nint = int(N)\n",
    "    xvals = np.linspace(a,b,Nint+1)    \n",
    "    fvals = f(xvals)  \n",
    "    dx = (b-a)/N\n",
    "    return dx/2.*(fvals[0]+fvals[Nint]+2.*np.sum(fvals[1:Nint]))\n",
    "\n",
    "nl_func = lambda t: np.exp(-t)\n",
    "print(\"trapezoid method for lambda = -1: %f\"%trapezoid_method(0,1,1e3,nl_func))\n",
    "d_nl_func = lambda t,y: -y\n",
    "print(forward_euler(d_nl_func,.001,0,1,1))\n",
    "print(backward_euler(d_nl_func,.001,0,1,1))\n",
    "\n",
    "pl_func = lambda t: np.exp(t)\n",
    "print()\n",
    "print(\"trapezoid method for lambda = 1: %f\"%trapezoid_method(0,1,1e3,pl_func))\n",
    "d_pl_func = lambda t,y: y\n",
    "print(forward_euler(d_pl_func,.001,0,1,1))\n",
    "print(backward_euler(d_pl_func,.001,0,1,1))"
   ]
  },
  {
   "cell_type": "code",
   "execution_count": 15,
   "metadata": {},
   "outputs": [
    {
     "name": "stdout",
     "output_type": "stream",
     "text": [
      "Trapezoid for cos(ty):  0.074894748311143\n"
     ]
    }
   ],
   "source": [
    "#2B)\n",
    "\n",
    "def trapezoid_method1(a,b,N,f):\n",
    "    Nint = int(N)\n",
    "    xvals = np.linspace(a,b,Nint+1)    \n",
    "    fvals = f(xvals,Nint)  \n",
    "    dx = (b-a)/N\n",
    "    return dx/2.*(fvals[0]+fvals[Nint]+2.*np.sum(fvals[1:Nint]))\n",
    "\n",
    "myf = lambda t,y: np.cos(t*y)\n",
    "t0 = 0.\n",
    "tf = 10.\n",
    "y0 = 10.\n",
    "t = trapezoid_method1(t0,tf,y0,myf)\n",
    "print(\"Trapezoid for cos(ty):  %0.15f\" %t)"
   ]
  },
  {
   "cell_type": "markdown",
   "metadata": {},
   "source": [
    "2B)\n",
    "\n",
    "\\begin{align}\n",
    "\\frac{dy}{dt} = \\cos(y)\n",
    "\\\\\n",
    "\\frac{dy}{\\cos(y)} &= dt\n",
    "\\\\\n",
    "\\int \\sec(y)dy &= \\int dt\n",
    "\\\\\n",
    "\\ln| \\tan(y)+ \\sec(y) | &= t + C_{1}\n",
    "\\\\\n",
    "\\tan(y)+ \\sec(y) &= Ce^{t} \\quad \\text{with }C = e^{C_{1}}\n",
    "\\\\\n",
    "\\frac{\\sin(y) +  1}{\\cos (y)} &= Ce^{t}\n",
    "\\\\\n",
    "\\left( \\sin(y) +  1 \\right)^{2} &= \\left( Ce^{t}\\cos(y) \\right)^{2}\n",
    "\\\\\n",
    "\\sin^{2}(y) + 2\\sin(y) + 1 &= C^{2}e^{2t} \\left( 1-\\sin^{2}(x) \\right)\n",
    "\\\\\n",
    "\\sin^{2}(y) + 2\\sin(y) + 1 &=C^{2}e^{2t} -  C^{2}e^{2t}\\sin^{2}(x)\n",
    "\\\\\n",
    "\\left( 1+C^{2}e^{2t} \\right)\\sin^{2}(y) + 2\\sin(y) + \\left( 1 - C^{2}e^{2t} \\right) &= 0 \n",
    "\\\\\n",
    "y &= \\sin^{-1}\\left(\\frac{-2 \\pm \\sqrt{ 4C^{4}e^{4t}} }{2+2C^{2}e^{2t}}\\right) \\quad C =\\sec(10)+\\tan(10)\n",
    "\\\\\n",
    "\\end{align}"
   ]
  },
  {
   "cell_type": "markdown",
   "metadata": {},
   "source": [
    "**Problem 3**: (10 pts) A more realistic way to describe the dynamics of temperature in a narrow corridor is via the _heat equation_, which is a partial differential equation describing how the temperature $T(x,t)$ changes in both space and time.  It is given by\n",
    "\n",
    "$$\n",
    "\\frac{\\partial T}{\\partial t} = k \\frac{\\partial^{2}T}{\\partial x^{2}}, ~ a\\leq x \\leq b\n",
    "$$\n",
    "\n",
    "where $k>0$ is the _thermal diffusion_ coefficient, and where we have the _insulating_ boundary conditions \n",
    "\n",
    "$$\n",
    "\\left.\\frac{\\partial T(x,t)}{\\partial x}\\right|_{x=a} = \\left.\\frac{\\partial T(x,t)}{\\partial x}\\right|_{x=b} = 0, \n",
    "$$\n",
    "\n",
    "and the initial temperature distribution\n",
    "\n",
    "$$\n",
    "T(x,0) = u(x).\n",
    "$$\n",
    "\n",
    "By insulating, we mean that no heat escapes through the lateral walls at $x=a$ and $x=b$.  To numerically solve this, letting $x_{j}= a + j\\delta x$, $\\delta x = (b-a)/N$\n",
    "\n",
    "3a) Letting $T_{j}(t)=T(x_{j},t)$, show that the insulating boundary conditions are approximated by the finite-difference approximations:\n",
    "$$\n",
    "T_{0}(t) = \\frac{2}{3}\\left(2T_{1}(t)-\\frac{1}{2}T_{2}(t)\\right), ~ T_{N}(t) = \\frac{2}{3}\\left(2T_{N-1} - \\frac{1}{2}T_{N-2}(t)\\right).  \n",
    "$$\n",
    "(Note, see Homework Ten).  \n",
    "3b) Using second-order centered-differencing approximations for the $\\partial^{2}T/\\partial{x^{2}}$ term, show that by discretizing in space, you get the following initial value problem\n",
    "\n",
    "$$\n",
    "\\frac{d{\\bf T}}{dt} = kA{\\bf T}, ~ {\\bf T}(t) = \\begin{pmatrix} T_{1}(t) \\\\ T_{2}(t) \\\\ \\cdots \\\\ T_{N-1}(t)\\end{pmatrix}, ~ {\\bf T}(0) = \\begin{pmatrix} u(x_{1}) \\\\ u(x_{2}) \\\\ \\cdots \\\\ u(x_{N-1})\\end{pmatrix}\n",
    "$$\n",
    "\n",
    "where $A$ is some $(N-1)\\times (N-1)$ sparse matrix.  What is $A$?  Is $A$ still symmetric?   \n",
    "\n",
    "3c) Using the Trapezoid Method, we can discretize in time so that if we use time step $\\delta t$, we get \n",
    "\n",
    "$$\n",
    "\\left(I - \\frac{\\delta t k}{2} A\\right){\\bf T}_{m+1} = \\left(I + \\frac{\\delta t k}{2} A\\right){\\bf T}_{m},\n",
    "$$\n",
    "\n",
    "where \n",
    "\n",
    "$$\n",
    "{\\bf T}_{m} = {\\bf T}(t_{m}) = \\begin{pmatrix} T(x_{1},t_{m}) \\\\ T(x_{2},t_{m}) \\\\ \\cdots \\\\ T(x_{N-1},t_{m})\\end{pmatrix}\n",
    "$$\n",
    "\n",
    "Using the code snippet below implement the above scheme to solve the heat equation.  Using the initial heat distribution\n",
    "\n",
    "$$\n",
    "u(x) = e^{-(x-5)^{2}}, ~ 0\\leq x \\leq 10,\n",
    "$$\n",
    "\n",
    "generate several plots which show for $0\\leq t \\leq 10$ how changing the thermal diffusion paramter $k$ from $k=1,10,100$ changes the behavior of the temperature.  Explain your results and comment on any interesting phenomena. "
   ]
  },
  {
   "cell_type": "code",
   "execution_count": null,
   "metadata": {},
   "outputs": [],
   "source": [
    "def heat_eq_solver(k,u0,Nvls,dx,dt,t0,tf):    \n",
    "    nsteps = int(np.round((tf-t0)/dt))\n",
    "    Tsol = np.zeros((Nvls-1,nsteps+1)) # build a matrix to store our solution \n",
    "    Tsol[:,0] = u0\n",
    "    idx2 = 1./(dx**2.)\n",
    "    diag = -2.*np.ones(Nvls-1)\n",
    "    udiag = np.ones(Nvls-1)\n",
    "    ldiag = np.ones(Nvls-1)\n",
    "    diag[0] = # what goes here?\n",
    "    diag[Nvls-2] = # what goes here?\n",
    "    udiag[1] = # what goes here?\n",
    "    ldiag[Nvls-3] = # what goes here?\n",
    "    data = np.array([diag,ldiag,udiag])\n",
    "    dvals = np.array([0,-1,1])\n",
    "    Amat = idx2*spdiags(data, dvals, Nvls-1, Nvls-1)\n",
    "    Lp = sid(Nvls-1) + dt*k*Amat/2.\n",
    "    Lm = sid(Nvls-1) - dt*k*Amat/2.\n",
    "    for mm in range(0,nsteps):\n",
    "        Tsol[:,mm+1] = spsolve(Lm,Lp*Tsol[:,mm])\n",
    "    return Tsol\n",
    "\n",
    "Nvls = int(1e2)\n",
    "xvals = np.linspace(0.,10.,Nvls+1)\n",
    "xvalsc = xvals[1:Nvls]\n",
    "dx = 10./Nvls\n",
    "dt = 1e-1\n",
    "t0 = 0.\n",
    "tf = 10.\n",
    "k = 1.\n",
    "NT = int(np.round(tf/dt))\n",
    "\n",
    "u0 = np.exp(-(xvals[1:Nvls]-5.)**2.)\n",
    "Tsol = heat_eq_solver(k,u0,Nvls,dx,dt,t0,tf)\n",
    "\n",
    "plt.subplot(2,1,1)\n",
    "plt.plot(xvalsc,Tsol[:,0])\n",
    "plt.xlabel('$x$')\n",
    "plt.ylabel('$T(x,0)$')\n",
    "\n",
    "plt.subplot(2,1,2)\n",
    "plt.plot(xvalsc,Tsol[:,99])\n",
    "plt.xlabel('$x$')\n",
    "plt.ylabel('$T(x,t_{f})$')\n",
    "\n",
    "plt.tight_layout()"
   ]
  },
  {
   "cell_type": "markdown",
   "metadata": {},
   "source": [
    "\\begin{align}\n",
    "T_{xx}(x_j,t) &\\approx \\frac{1}{(\\delta x)^2}(T(x_{j-1},t)-2T(x_j,t)+T(x_{j+1},t))\n",
    "\\end{align}\n",
    "\n",
    "$$A \\approx \\frac{1}{(\\delta x)^2}\n",
    "\\begin{pmatrix}\n",
    "-2 & 1 \n",
    "\\\\\n",
    "1 & -2 \n",
    "\\\\\n",
    "& & \\ddots \n",
    "\\\\\n",
    "& & & -2 & \n",
    "\\\\\n",
    "& & & 1 & -2 \n",
    "\\end{pmatrix} \n",
    "= \\begin{pmatrix} \n",
    "\\frac{-2}{(\\delta x)^2} & \\frac{1}{(\\delta x)^2}\n",
    "\\\\\n",
    "\\frac{1}{(\\delta x)^2} & \\frac{-2}{(\\delta x)^2}\n",
    "\\\\\n",
    "& & \\ddots \n",
    "\\\\\n",
    "& & & \\frac{-2}{(\\delta x)^2} & \\frac{1}{(\\delta x)^2}\n",
    "\\\\\n",
    "& & & \\frac{1}{\\delta x)^2} & \\frac{-2}{(\\delta x)^2}\n",
    "\\end{pmatrix}\n",
    "$$\n",
    "A is still Symmetric\n",
    "<br>\n",
    "$$\n",
    "\\frac{dT}{dt} \\approx k \\begin{pmatrix}\\frac{-2}{(\\delta x)^2} & \\frac{1}{(\\delta x)^2} & & & \\\\\n",
    "\\frac{1}{(\\delta x)^2} & \\frac{-2}{(\\delta x)^2} & & & \\\\\n",
    "& & \\ddots & & \\\\\n",
    "& & & \\frac{1}{(\\delta x)^2} \\frac{-2}{(\\delta x)^2}\n",
    "\\end{pmatrix}\n",
    "\\begin{pmatrix} T_1(t) \\\\ T_2(t) \\\\ \\vdots \\\\ T_{N-1}(t) \n",
    "\\end{pmatrix} = \\begin{pmatrix}\\frac{-2k}{(\\delta x)^2} & \\frac{k}{(\\delta x)^2} & & & \\\\\n",
    "\\frac{k}{(\\delta x)^2} & \\frac{-2k}{(\\delta x)^2} & & & \\\\\n",
    "& & \\ddots & & \\\\\n",
    "& & & \\frac{k}{(\\delta x)^2} \\frac{-2k}{(\\delta x)^2}\n",
    "\\end{pmatrix}\n",
    "\\begin{pmatrix} T_1(t) \\\\ T_2(t) \\\\ \\vdots \\\\ T_{N-1}(t) \n",
    "\\end{pmatrix}, T(0) = \\begin{pmatrix} u(x_1) \\\\ u(x_2) \\\\ \\vdots \\\\u(x_2) \\end{pmatrix}\n",
    "$$\n",
    "\n",
    "\\begin{align}\n",
    "T_{0,m} \n",
    "&= \\frac{2}{3}(2T_{1,m}-\\frac{1}{2}T_{2,m})\n",
    "\\\\\n",
    "T_{xx}(x_1,t) \n",
    "&= \\frac{1}{(\\delta x)^2}(T_{0,m}-2T_{1,m}+T_{2,m}) \n",
    "\\\\\n",
    "&= \\frac{1}{(\\delta x)^2}(\\frac{2}{3}[2T_{1,m}-\\frac{1}{2}T_{2,m}]-2T_{1,m}+T_{2,m}) \n",
    "\\\\\n",
    "&= \\frac{1}{(\\delta x)^2}(\\frac{4}{3}T_{1,m}-{1}{3}T_{2,m}-2T_{1,m}+T_{2,m}) \n",
    "\\\\\n",
    "&= \\frac{1}{(\\delta x)^2}(-\\frac{2}{3}T_{1,m}+\\frac{2}{3}T_{2,m})\n",
    "\\end{align}"
   ]
  },
  {
   "cell_type": "code",
   "execution_count": 1,
   "metadata": {},
   "outputs": [
    {
     "name": "stdout",
     "output_type": "stream",
     "text": [
      "hi\n"
     ]
    }
   ],
   "source": [
    "print('hi')"
   ]
  },
  {
   "cell_type": "code",
   "execution_count": 2,
   "metadata": {},
   "outputs": [
    {
     "data": {
      "text/plain": [
       "4"
      ]
     },
     "execution_count": 2,
     "metadata": {},
     "output_type": "execute_result"
    }
   ],
   "source": [
    "2+2"
   ]
  },
  {
   "cell_type": "code",
   "execution_count": null,
   "metadata": {},
   "outputs": [],
   "source": []
  }
 ],
 "metadata": {
  "kernelspec": {
   "display_name": "Python 3",
   "language": "python",
   "name": "python3"
  },
  "language_info": {
   "codemirror_mode": {
    "name": "ipython",
    "version": 3
   },
   "file_extension": ".py",
   "mimetype": "text/x-python",
   "name": "python",
   "nbconvert_exporter": "python",
   "pygments_lexer": "ipython3",
   "version": "3.7.3"
  }
 },
 "nbformat": 4,
 "nbformat_minor": 2
}
